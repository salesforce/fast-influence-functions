{
 "cells": [
  {
   "cell_type": "code",
   "execution_count": 1,
   "metadata": {},
   "outputs": [],
   "source": [
    "\"\"\"This File Cannot Import Other Files\"\"\"\n",
    "\n",
    "import os\n",
    "import sys\n",
    "\n",
    "\n",
    "def set_cuda_visible_devices(gpu_id: int):\n",
    "    if is_module_imported(\"torch\") or is_module_imported(\"tensorflow\"):\n",
    "        raise ValueError\n",
    "\n",
    "    # https://stackoverflow.com/questions/37893755/tensorflow-set-cuda-visible-devices-within-jupyter\n",
    "    os.environ[\"CUDA_DEVICE_ORDER\"] = \"PCI_BUS_ID\"   # see issue #152\n",
    "    os.environ[\"CUDA_VISIBLE_DEVICES\"] = f\"{gpu_id}\"\n",
    "    print(f\"Set GPU ID to {gpu_id}\")\n",
    "\n",
    "\n",
    "def is_module_imported(module_name: str) -> bool:\n",
    "    # https://stackoverflow.com/questions/30483246/how-to-check-if-a-python-module-has-been-imported\n",
    "    return module_name in sys.modules\n"
   ]
  },
  {
   "cell_type": "code",
   "execution_count": 2,
   "metadata": {},
   "outputs": [
    {
     "name": "stdout",
     "output_type": "stream",
     "text": [
      "Set GPU ID to 1\n"
     ]
    }
   ],
   "source": [
    "set_cuda_visible_devices(1)"
   ]
  },
  {
   "cell_type": "code",
   "execution_count": 3,
   "metadata": {},
   "outputs": [
    {
     "name": "stderr",
     "output_type": "stream",
     "text": [
      "\u001b[34m\u001b[1mwandb\u001b[0m: \u001b[33mWARNING\u001b[0m W&B installed but not logged in.  Run `wandb login` or set the WANDB_API_KEY env variable.\n"
     ]
    },
    {
     "data": {
      "text/plain": [
       "'/export/home/hguo/Experiments-backup/20201019/visualization_outputs/'"
      ]
     },
     "execution_count": 3,
     "metadata": {},
     "output_type": "execute_result"
    }
   ],
   "source": [
    "import numpy as np\n",
    "from experiments import constants\n",
    "from experiments.misc_utils import sort_dict_keys_by_vals_with_conditions\n",
    "constants.MNLI_RETRAINING_INFLUENCE_OUTPUT_BASE_DIR2"
   ]
  },
  {
   "cell_type": "code",
   "execution_count": 4,
   "metadata": {},
   "outputs": [],
   "source": [
    "import os\n",
    "import time\n",
    "import torch\n",
    "import subprocess\n",
    "import numpy as np\n",
    "import matplotlib.pyplot as plt\n",
    "import transformers\n",
    "from tqdm import tqdm\n",
    "from glob import glob\n",
    "from copy import deepcopy\n",
    "from contexttimer import Timer\n",
    "from collections import defaultdict\n",
    "from transformers import TrainingArguments\n",
    "from transformers import default_data_collator\n",
    "from typing import List, Dict, Tuple, Optional, Union, Any\n",
    "\n",
    "from experiments import constants\n",
    "from experiments import mnli_utils\n",
    "from experiments import misc_utils\n",
    "from experiments import remote_utils\n",
    "from experiments import influence_helpers\n",
    "from experiments import hans\n",
    "from influence_utils import nn_influence_utils\n",
    "from experiments.data_utils import (\n",
    "    glue_output_modes,\n",
    "    glue_compute_metrics)\n",
    "\n",
    "MNLI_TRAINING_SCRIPT_NAME = \"scripts/run_MNLI.20200913.sh\"\n",
    "NUM_DATAPOINTS_TO_REMOVE_CHOICES = [1, 5, 10, 25, 50, 100, 10000]\n",
    "\n",
    "CORRECT_INDICES = sorted([\n",
    "    # e.g., `KNN-recall.only-correct.50.0.pth.g0301.ll.unc.edu`\n",
    "    int(f.split(\"/\")[-1].split(\".\")[3])\n",
    "    for f in glob(os.path.join(\n",
    "        constants.MNLI_RETRAINING_INFLUENCE_OUTPUT_BASE_DIR,\n",
    "        \"*only-correct*\")\n",
    "    )\n",
    "])\n",
    "INCORRECT_INDICES = sorted([\n",
    "    # e.g., `KNN-recall.only-correct.50.0.pth.g0301.ll.unc.edu`\n",
    "    int(f.split(\"/\")[-1].split(\".\")[3])\n",
    "    for f in glob(os.path.join(\n",
    "        constants.MNLI_RETRAINING_INFLUENCE_OUTPUT_BASE_DIR,\n",
    "        \"*only-incorrect*\")\n",
    "    )\n",
    "])\n",
    "\n",
    "\n",
    "def run_retraining_main(\n",
    "        mode: str,\n",
    "        num_examples_to_test: int):\n",
    "\n",
    "    if mode not in [\"full\", \"KNN-1000\", \"KNN-10000\", \"random\"]:\n",
    "        raise ValueError(f\"Unrecognized `mode` {mode}\")\n",
    "\n",
    "    for example_relative_index in range(num_examples_to_test):\n",
    "        for correct_mode in [\"correct\", \"incorrect\"]:\n",
    "            if correct_mode == \"correct\":\n",
    "                example_index = CORRECT_INDICES[example_relative_index]\n",
    "            if correct_mode == \"incorrect\":\n",
    "                example_index = INCORRECT_INDICES[example_relative_index]\n",
    "\n",
    "            if mode in [\"full\"]:\n",
    "                # Load file from local or sync from remote\n",
    "                file_name = os.path.join(\n",
    "                    constants.MNLI_RETRAINING_INFLUENCE_OUTPUT_BASE_DIR,\n",
    "                    f\"KNN-recall.only-{correct_mode}.50.{example_index}\"\n",
    "                    f\".pth.g0301.ll.unc.edu\")\n",
    "\n",
    "                influences_dict = torch.load(file_name)\n",
    "                if example_index != influences_dict[\"test_index\"]:\n",
    "                    raise ValueError\n",
    "\n",
    "                if (correct_mode == \"correct\" and\n",
    "                        influences_dict[\"correct\"] is not True or\n",
    "                        correct_mode == \"incorrect\" and\n",
    "                        influences_dict[\"correct\"] is True):\n",
    "                    raise ValueError\n",
    "\n",
    "                helpful_indices, harmful_indices = (\n",
    "                    misc_utils.get_helpful_harmful_indices_from_influences_dict(\n",
    "                        influences_dict[\"influences\"]))\n",
    "\n",
    "                indices_dict = {\n",
    "                    \"helpful\": [influences_dict[\"influences\"][k] for k in helpful_indices],\n",
    "                    \"harmful\": [influences_dict[\"influences\"][k] for k in harmful_indices]}\n",
    "\n",
    "            if mode in [\"KNN-1000\", \"KNN-10000\"]:\n",
    "                if mode == \"KNN-1000\":\n",
    "                    kNN_k = 1000\n",
    "                if mode == \"KNN-10000\":\n",
    "                    kNN_k = 10000\n",
    "\n",
    "                file_name = os.path.join(\n",
    "                    constants.MNLI_RETRAINING_INFLUENCE_OUTPUT_BASE_DIR2,\n",
    "                    f\"visualization\"\n",
    "                    f\".only-{correct_mode}\"\n",
    "                    f\".5.mnli-mnli-None-mnli\"\n",
    "                    f\".{kNN_k}.True.pth.g0306.ll.unc.edu\")\n",
    "\n",
    "                influences_dict = torch.load(file_name)[example_relative_index]\n",
    "                if example_index != influences_dict[\"index\"]:\n",
    "                    raise ValueError\n",
    "\n",
    "                helpful_indices, harmful_indices = (\n",
    "                    misc_utils.get_helpful_harmful_indices_from_influences_dict(\n",
    "                        influences_dict[\"influences\"],\n",
    "                        # n=kNN_k\n",
    "                    ))\n",
    "\n",
    "                indices_dict = {\n",
    "                    \"helpful\": [influences_dict[\"influences\"][k] for k in helpful_indices],\n",
    "                    \"harmful\": [influences_dict[\"influences\"][k] for k in harmful_indices]}\n",
    "\n",
    "            if mode == \"random\":\n",
    "                # Get indices corresponding to each label\n",
    "                label_to_indices = mnli_utils.get_label_to_indices_map()\n",
    "                np.random.shuffle(label_to_indices[\"neutral\"])\n",
    "                np.random.shuffle(label_to_indices[\"entailment\"])\n",
    "                np.random.shuffle(label_to_indices[\"contradiction\"])\n",
    "                indices_dict = {\n",
    "                    \"neutral\": label_to_indices[\"neutral\"],\n",
    "                    \"entailment\": label_to_indices[\"entailment\"],\n",
    "                    \"contradiction\": label_to_indices[\"contradiction\"],\n",
    "                }\n",
    "\n",
    "            for tag, indices in indices_dict.items():\n",
    "                for num_data_points_to_remove in NUM_DATAPOINTS_TO_REMOVE_CHOICES:\n",
    "                    if len(indices) < num_data_points_to_remove:\n",
    "#                         pass\n",
    "                        print(f\"\\t\\t\\t\\t\\t\\t\\t`indices` have only {len(indices)} elememts \"\n",
    "                              f\"whereas {num_data_points_to_remove} is needed\")\n",
    "                    yield example_index, tag, indices[:num_data_points_to_remove], num_data_points_to_remove\n",
    "#                     run_one_retraining(\n",
    "#                         indices=indices[:num_data_points_to_remove],\n",
    "#                         dir_name=(\n",
    "#                             f\"./retraining-remove-\"\n",
    "#                             f\"{example_index}-\"\n",
    "#                             f\"{correct_mode}-\"\n",
    "#                             f\"{mode}-\"\n",
    "#                             f\"{tag}-\"\n",
    "#                             f\"{num_data_points_to_remove}\"))\n"
   ]
  },
  {
   "cell_type": "code",
   "execution_count": null,
   "metadata": {},
   "outputs": [],
   "source": []
  },
  {
   "cell_type": "code",
   "execution_count": 6,
   "metadata": {},
   "outputs": [
    {
     "ename": "ValueError",
     "evalue": "`helpful_indices` have only 5517 elememts whereas 10000 is needed",
     "output_type": "error",
     "traceback": [
      "\u001b[0;31m---------------------------------------------------------------------------\u001b[0m",
      "\u001b[0;31mValueError\u001b[0m                                Traceback (most recent call last)",
      "\u001b[0;32m<ipython-input-6-8f3e9dc101e2>\u001b[0m in \u001b[0;36m<module>\u001b[0;34m\u001b[0m\n\u001b[1;32m      2\u001b[0m \u001b[0;32mfor\u001b[0m \u001b[0mmode\u001b[0m \u001b[0;32min\u001b[0m \u001b[0;34m[\u001b[0m\u001b[0;34m\"KNN-10000\"\u001b[0m\u001b[0;34m]\u001b[0m\u001b[0;34m:\u001b[0m\u001b[0;34m\u001b[0m\u001b[0;34m\u001b[0m\u001b[0m\n\u001b[1;32m      3\u001b[0m     \u001b[0mindices_generator\u001b[0m \u001b[0;34m=\u001b[0m \u001b[0mrun_retraining_main\u001b[0m\u001b[0;34m(\u001b[0m\u001b[0mmode\u001b[0m\u001b[0;34m,\u001b[0m \u001b[0mNUM_RETRAINING_EXPERIMENTS\u001b[0m\u001b[0;34m)\u001b[0m\u001b[0;34m\u001b[0m\u001b[0;34m\u001b[0m\u001b[0m\n\u001b[0;32m----> 4\u001b[0;31m     \u001b[0;32mfor\u001b[0m \u001b[0mindex\u001b[0m\u001b[0;34m,\u001b[0m \u001b[0mtag\u001b[0m\u001b[0;34m,\u001b[0m \u001b[0mindices\u001b[0m\u001b[0;34m,\u001b[0m \u001b[0mn\u001b[0m \u001b[0;32min\u001b[0m \u001b[0mindices_generator\u001b[0m\u001b[0;34m:\u001b[0m\u001b[0;34m\u001b[0m\u001b[0;34m\u001b[0m\u001b[0m\n\u001b[0m\u001b[1;32m      5\u001b[0m         \u001b[0msign_flipped\u001b[0m \u001b[0;34m=\u001b[0m \u001b[0mbool\u001b[0m\u001b[0;34m(\u001b[0m\u001b[0mnp\u001b[0m\u001b[0;34m.\u001b[0m\u001b[0msign\u001b[0m\u001b[0;34m(\u001b[0m\u001b[0mnp\u001b[0m\u001b[0;34m.\u001b[0m\u001b[0mmax\u001b[0m\u001b[0;34m(\u001b[0m\u001b[0mindices\u001b[0m\u001b[0;34m)\u001b[0m\u001b[0;34m)\u001b[0m \u001b[0;34m!=\u001b[0m \u001b[0mnp\u001b[0m\u001b[0;34m.\u001b[0m\u001b[0msign\u001b[0m\u001b[0;34m(\u001b[0m\u001b[0mnp\u001b[0m\u001b[0;34m.\u001b[0m\u001b[0mmin\u001b[0m\u001b[0;34m(\u001b[0m\u001b[0mindices\u001b[0m\u001b[0;34m)\u001b[0m\u001b[0;34m)\u001b[0m\u001b[0;34m)\u001b[0m\u001b[0;34m\u001b[0m\u001b[0;34m\u001b[0m\u001b[0m\n\u001b[1;32m      6\u001b[0m         \u001b[0munder_length\u001b[0m \u001b[0;34m=\u001b[0m \u001b[0mlen\u001b[0m\u001b[0;34m(\u001b[0m\u001b[0mindices\u001b[0m\u001b[0;34m)\u001b[0m \u001b[0;34m!=\u001b[0m \u001b[0mn\u001b[0m\u001b[0;34m\u001b[0m\u001b[0;34m\u001b[0m\u001b[0m\n",
      "\u001b[0;32m<ipython-input-4-1936f4c8db90>\u001b[0m in \u001b[0;36mrun_retraining_main\u001b[0;34m(mode, num_examples_to_test)\u001b[0m\n\u001b[1;32m    106\u001b[0m                     misc_utils.get_helpful_harmful_indices_from_influences_dict(\n\u001b[1;32m    107\u001b[0m                         \u001b[0minfluences_dict\u001b[0m\u001b[0;34m[\u001b[0m\u001b[0;34m\"influences\"\u001b[0m\u001b[0;34m]\u001b[0m\u001b[0;34m,\u001b[0m\u001b[0;34m\u001b[0m\u001b[0;34m\u001b[0m\u001b[0m\n\u001b[0;32m--> 108\u001b[0;31m                         n=kNN_k))\n\u001b[0m\u001b[1;32m    109\u001b[0m \u001b[0;34m\u001b[0m\u001b[0m\n\u001b[1;32m    110\u001b[0m                 indices_dict = {\n",
      "\u001b[0;32m~/experiments/misc_utils.py\u001b[0m in \u001b[0;36mget_helpful_harmful_indices_from_influences_dict\u001b[0;34m(d, n)\u001b[0m\n\u001b[1;32m     51\u001b[0m         \u001b[0;32mif\u001b[0m \u001b[0mlen\u001b[0m\u001b[0;34m(\u001b[0m\u001b[0mhelpful_indices\u001b[0m\u001b[0;34m)\u001b[0m \u001b[0;34m<\u001b[0m \u001b[0mn\u001b[0m\u001b[0;34m:\u001b[0m\u001b[0;34m\u001b[0m\u001b[0;34m\u001b[0m\u001b[0m\n\u001b[1;32m     52\u001b[0m             raise ValueError(\n\u001b[0;32m---> 53\u001b[0;31m                 \u001b[0;34mf\"`helpful_indices` have only \"\u001b[0m\u001b[0;34m\u001b[0m\u001b[0;34m\u001b[0m\u001b[0m\n\u001b[0m\u001b[1;32m     54\u001b[0m                 \u001b[0;34mf\"{len(helpful_indices)} elememts \"\u001b[0m\u001b[0;34m\u001b[0m\u001b[0;34m\u001b[0m\u001b[0m\n\u001b[1;32m     55\u001b[0m                 f\"whereas {n} is needed\")\n",
      "\u001b[0;31mValueError\u001b[0m: `helpful_indices` have only 5517 elememts whereas 10000 is needed"
     ]
    }
   ],
   "source": [
    "NUM_RETRAINING_EXPERIMENTS = 3\n",
    "for mode in [\"KNN-10000\"]:\n",
    "    indices_generator = run_retraining_main(mode, NUM_RETRAINING_EXPERIMENTS)\n",
    "    for index, tag, indices, n in indices_generator:\n",
    "        sign_flipped = bool(np.sign(np.max(indices)) != np.sign(np.min(indices)))\n",
    "        under_length = len(indices) != n\n",
    "\n",
    "        if sign_flipped or under_length:\n",
    "            print(f\"{mode:<10}\", f\"{index:<3}\", tag, f\"{n:<5}\", \"\\t\", sign_flipped, under_length)"
   ]
  },
  {
   "cell_type": "code",
   "execution_count": null,
   "metadata": {},
   "outputs": [],
   "source": []
  },
  {
   "cell_type": "code",
   "execution_count": null,
   "metadata": {},
   "outputs": [],
   "source": []
  },
  {
   "cell_type": "code",
   "execution_count": null,
   "metadata": {},
   "outputs": [],
   "source": []
  },
  {
   "cell_type": "code",
   "execution_count": null,
   "metadata": {},
   "outputs": [],
   "source": []
  },
  {
   "cell_type": "markdown",
   "metadata": {},
   "source": [
    "# Which kind of experiments went not expected"
   ]
  },
  {
   "cell_type": "code",
   "execution_count": 5,
   "metadata": {},
   "outputs": [],
   "source": [
    "NUM_RETRAINING_EXPERIMENTS = 3"
   ]
  },
  {
   "cell_type": "code",
   "execution_count": 6,
   "metadata": {},
   "outputs": [
    {
     "name": "stdout",
     "output_type": "stream",
     "text": [
      "\t\t\t\t\t\t\t`indices` have only 632 elememts whereas 10000 is needed\n",
      "KNN-1000   0   helpful 10000 \t False True\n",
      "\t\t\t\t\t\t\t`indices` have only 368 elememts whereas 10000 is needed\n",
      "KNN-1000   0   harmful 10000 \t False True\n",
      "\t\t\t\t\t\t\t`indices` have only 529 elememts whereas 10000 is needed\n",
      "KNN-1000   3   helpful 10000 \t False True\n",
      "\t\t\t\t\t\t\t`indices` have only 471 elememts whereas 10000 is needed\n",
      "KNN-1000   3   harmful 10000 \t False True\n",
      "\t\t\t\t\t\t\t`indices` have only 975 elememts whereas 10000 is needed\n",
      "KNN-1000   1   helpful 10000 \t False True\n",
      "\t\t\t\t\t\t\t`indices` have only 25 elememts whereas 50 is needed\n",
      "KNN-1000   1   harmful 50    \t False True\n",
      "\t\t\t\t\t\t\t`indices` have only 25 elememts whereas 100 is needed\n",
      "KNN-1000   1   harmful 100   \t False True\n",
      "\t\t\t\t\t\t\t`indices` have only 25 elememts whereas 10000 is needed\n",
      "KNN-1000   1   harmful 10000 \t False True\n",
      "\t\t\t\t\t\t\t`indices` have only 236 elememts whereas 10000 is needed\n",
      "KNN-1000   14  helpful 10000 \t False True\n",
      "\t\t\t\t\t\t\t`indices` have only 764 elememts whereas 10000 is needed\n",
      "KNN-1000   14  harmful 10000 \t False True\n",
      "\t\t\t\t\t\t\t`indices` have only 668 elememts whereas 10000 is needed\n",
      "KNN-1000   2   helpful 10000 \t False True\n",
      "\t\t\t\t\t\t\t`indices` have only 332 elememts whereas 10000 is needed\n",
      "KNN-1000   2   harmful 10000 \t False True\n",
      "\t\t\t\t\t\t\t`indices` have only 63 elememts whereas 100 is needed\n",
      "KNN-1000   15  helpful 100   \t False True\n",
      "\t\t\t\t\t\t\t`indices` have only 63 elememts whereas 10000 is needed\n",
      "KNN-1000   15  helpful 10000 \t False True\n",
      "\t\t\t\t\t\t\t`indices` have only 937 elememts whereas 10000 is needed\n",
      "KNN-1000   15  harmful 10000 \t False True\n",
      "\t\t\t\t\t\t\t`indices` have only 5517 elememts whereas 10000 is needed\n",
      "KNN-10000  0   helpful 10000 \t False True\n",
      "\t\t\t\t\t\t\t`indices` have only 4483 elememts whereas 10000 is needed\n",
      "KNN-10000  0   harmful 10000 \t False True\n",
      "\t\t\t\t\t\t\t`indices` have only 5389 elememts whereas 10000 is needed\n",
      "KNN-10000  3   helpful 10000 \t False True\n",
      "\t\t\t\t\t\t\t`indices` have only 4611 elememts whereas 10000 is needed\n",
      "KNN-10000  3   harmful 10000 \t False True\n",
      "\t\t\t\t\t\t\t`indices` have only 9626 elememts whereas 10000 is needed\n",
      "KNN-10000  1   helpful 10000 \t False True\n",
      "\t\t\t\t\t\t\t`indices` have only 374 elememts whereas 10000 is needed\n",
      "KNN-10000  1   harmful 10000 \t False True\n",
      "\t\t\t\t\t\t\t`indices` have only 1806 elememts whereas 10000 is needed\n",
      "KNN-10000  14  helpful 10000 \t False True\n",
      "\t\t\t\t\t\t\t`indices` have only 8194 elememts whereas 10000 is needed\n",
      "KNN-10000  14  harmful 10000 \t False True\n",
      "\t\t\t\t\t\t\t`indices` have only 6525 elememts whereas 10000 is needed\n",
      "KNN-10000  2   helpful 10000 \t False True\n",
      "\t\t\t\t\t\t\t`indices` have only 3475 elememts whereas 10000 is needed\n",
      "KNN-10000  2   harmful 10000 \t False True\n",
      "\t\t\t\t\t\t\t`indices` have only 957 elememts whereas 10000 is needed\n",
      "KNN-10000  15  helpful 10000 \t False True\n",
      "\t\t\t\t\t\t\t`indices` have only 9043 elememts whereas 10000 is needed\n",
      "KNN-10000  15  harmful 10000 \t False True\n"
     ]
    }
   ],
   "source": [
    "for mode in [\"full\", \"KNN-1000\", \"KNN-10000\", \"random\"]:\n",
    "    indices_generator = run_retraining_main(mode, NUM_RETRAINING_EXPERIMENTS)\n",
    "    for index, tag, indices, n in indices_generator:\n",
    "        sign_flipped = bool(np.sign(np.max(indices)) != np.sign(np.min(indices)))\n",
    "        under_length = len(indices) != n\n",
    "\n",
    "        if sign_flipped or under_length:\n",
    "            print(f\"{mode:<10}\", f\"{index:<3}\", tag, f\"{n:<5}\", \"\\t\", sign_flipped, under_length)"
   ]
  },
  {
   "cell_type": "code",
   "execution_count": null,
   "metadata": {},
   "outputs": [],
   "source": []
  },
  {
   "cell_type": "markdown",
   "metadata": {},
   "source": [
    "# KNN-Recall, Simulator, and Augmentation Experiments"
   ]
  },
  {
   "cell_type": "code",
   "execution_count": 1,
   "metadata": {},
   "outputs": [
    {
     "name": "stdout",
     "output_type": "stream",
     "text": [
      "/workspace/fast-influence-functions\n"
     ]
    }
   ],
   "source": [
    "cd /workspace/fast-influence-functions/"
   ]
  },
  {
   "cell_type": "code",
   "execution_count": 2,
   "metadata": {},
   "outputs": [],
   "source": [
    "import os\n",
    "os.environ[\"CUDA_DEVICE_ORDER\"]=\"PCI_BUS_ID\"   # see issue #152\n",
    "os.environ[\"CUDA_VISIBLE_DEVICES\"]=\"1\""
   ]
  },
  {
   "cell_type": "code",
   "execution_count": 3,
   "metadata": {},
   "outputs": [
    {
     "name": "stderr",
     "output_type": "stream",
     "text": [
      "\u001b[34m\u001b[1mwandb\u001b[0m: \u001b[33mWARNING\u001b[0m W&B installed but not logged in.  Run `wandb login` or set the WANDB_API_KEY env variable.\n"
     ]
    }
   ],
   "source": [
    "import torch\n",
    "from tqdm import tqdm\n",
    "from glob import glob\n",
    "from experiments.misc_utils import get_helpful_harmful_indices_from_influences_dict"
   ]
  },
  {
   "cell_type": "code",
   "execution_count": 4,
   "metadata": {},
   "outputs": [
    {
     "name": "stderr",
     "output_type": "stream",
     "text": [
      "100%|██████████| 100/100 [00:24<00:00,  4.04it/s]\n"
     ]
    }
   ],
   "source": [
    "# full_influences_collections = [\n",
    "#     torch.load(file_name)\n",
    "#     for file_name in tqdm(glob(f\"/export/home/hguo/Experiments/20200922/KNN-recall.only-*.50.*.pth.g0301.ll.unc.edu\"))]\n",
    "\n",
    "# N = 1000"
   ]
  },
  {
   "cell_type": "code",
   "execution_count": 4,
   "metadata": {},
   "outputs": [],
   "source": [
    "# full_influences_collections = (\n",
    "#     torch.load(\"/export/home/hguo/Experiments/20201119/imiator_experiments.only-correct.10.pt\") +\n",
    "#     torch.load(\"/export/home/hguo/Experiments/20201119/imiator_experiments.only-incorrect.10.pt\")\n",
    "# )\n",
    "\n",
    "# N = 10"
   ]
  },
  {
   "cell_type": "code",
   "execution_count": 7,
   "metadata": {},
   "outputs": [],
   "source": [
    "# output_collections = torch.load(\"./figures/another-hans-augentation-experimental.pth\")\n",
    "BASE_PATH = \"/export/home/hguo/Experiments/20201118/\"\n",
    "output_collections = {\n",
    "    \"lexical_overlap\": torch.load(\n",
    "#         os.path.join(BASE_PATH, \"hans-augmentation-new.hans.lexical_overlap.3.False.pth\")),\n",
    "        os.path.join(BASE_PATH, \"hans-augmentation-new.mnli-2.lexical_overlap.3.False.pth\")),\n",
    "    \"constituent\": torch.load(\n",
    "#         os.path.join(BASE_PATH, \"hans-augmentation-new.hans.constituent.3.False.pth\")),\n",
    "        os.path.join(BASE_PATH, \"hans-augmentation-new.mnli-2.constituent.3.False.pth\")),\n",
    "    \"subsequence\": torch.load(\n",
    "#         os.path.join(BASE_PATH, \"hans-augmentation-new.hans.subsequence.3.False.pth\")),\n",
    "        os.path.join(BASE_PATH, \"hans-augmentation-new.mnli-2.subsequence.3.False.pth\")),\n",
    "}"
   ]
  },
  {
   "cell_type": "code",
   "execution_count": 8,
   "metadata": {},
   "outputs": [],
   "source": [
    "full_influences_collections = []\n",
    "for subset_1 in output_collections.keys():\n",
    "    for subset_2 in output_collections[subset_1].keys():\n",
    "        for index in range(len(output_collections[subset_1][subset_2])):\n",
    "            if (output_collections[subset_1][subset_2][index][\"num_datapoints\"] != 1):\n",
    "                raise ValueError\n",
    "            if len(output_collections[subset_1][subset_2][index][\"datapoint_indices\"]) <= 1:\n",
    "                raise ValueError\n",
    "            full_influences_collections.append({\n",
    "                \"influences\": output_collections[subset_1][subset_2][index][\"influences\"],\n",
    "            })\n",
    "\n",
    "N = 1"
   ]
  },
  {
   "cell_type": "code",
   "execution_count": null,
   "metadata": {},
   "outputs": [],
   "source": []
  },
  {
   "cell_type": "code",
   "execution_count": null,
   "metadata": {},
   "outputs": [],
   "source": []
  },
  {
   "cell_type": "code",
   "execution_count": 9,
   "metadata": {},
   "outputs": [
    {
     "name": "stderr",
     "output_type": "stream",
     "text": [
      "100%|██████████| 270/270 [00:00<00:00, 1287.04it/s]\n"
     ]
    }
   ],
   "source": [
    "for collection in tqdm(full_influences_collections):\n",
    "    if collection[\"influences\"] is None:\n",
    "        # print(\"Influence is None\")\n",
    "        continue\n",
    "\n",
    "    try:\n",
    "        helpful_indices, harmful_indices = (\n",
    "            get_helpful_harmful_indices_from_influences_dict(\n",
    "                collection[\"influences\"], n=N)\n",
    "        )\n",
    "    except Exception as e:\n",
    "        print(e)\n",
    "        helpful_indices, harmful_indices = (\n",
    "            get_helpful_harmful_indices_from_influences_dict(\n",
    "                collection[\"influences\"])\n",
    "        )\n",
    "\n",
    "    if not (\n",
    "            (len(helpful_indices) >= N) and\n",
    "            (len(harmful_indices) >= N)\n",
    "    ):\n",
    "        print(len(helpful_indices),\n",
    "              len(harmful_indices))"
   ]
  },
  {
   "cell_type": "code",
   "execution_count": null,
   "metadata": {},
   "outputs": [],
   "source": []
  }
 ],
 "metadata": {
  "kernelspec": {
   "display_name": "Python 3",
   "language": "python",
   "name": "python3"
  },
  "language_info": {
   "codemirror_mode": {
    "name": "ipython",
    "version": 3
   },
   "file_extension": ".py",
   "mimetype": "text/x-python",
   "name": "python",
   "nbconvert_exporter": "python",
   "pygments_lexer": "ipython3",
   "version": "3.7.7"
  }
 },
 "nbformat": 4,
 "nbformat_minor": 4
}
