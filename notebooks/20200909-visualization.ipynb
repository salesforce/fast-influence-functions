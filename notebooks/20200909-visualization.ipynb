{
 "cells": [
  {
   "cell_type": "code",
   "execution_count": 1,
   "metadata": {},
   "outputs": [
    {
     "name": "stdout",
     "output_type": "stream",
     "text": [
      "/workspace/fast-influence-functions\n"
     ]
    }
   ],
   "source": [
    "cd /workspace/fast-influence-functions/"
   ]
  },
  {
   "cell_type": "code",
   "execution_count": 2,
   "metadata": {},
   "outputs": [
    {
     "name": "stderr",
     "output_type": "stream",
     "text": [
      "/opt/conda/lib/python3.7/site-packages/graph_tool/draw/cairo_draw.py:1461: RuntimeWarning: Error importing Gtk module: No module named 'gi'; GTK+ drawing will not work.\n",
      "  warnings.warn(msg, RuntimeWarning)\n",
      "\u001b[34m\u001b[1mwandb\u001b[0m: \u001b[33mWARNING\u001b[0m W&B installed but not logged in.  Run `wandb login` or set the WANDB_API_KEY env variable.\n"
     ]
    }
   ],
   "source": [
    "# torch.save(influences_collections, \"influences_collections-100.tmp.pt\")\n",
    "import torch\n",
    "import matplotlib.pyplot as plt\n",
    "from graph_tool.draw import graph_draw\n",
    "from experiments.visualization import get_graph\n",
    "from experiments.visualization_utils import plot_influences_distribution\n",
    "# mnli2_influences_collections = torch.load(\"/export/share/hguo/Experiments/20200805/mnli2_influences-100.pt\")\n",
    "# hans_influences_collections = torch.load(\"/export/share/hguo/Experiments/20200811/hans_influences_collections.pt\")\n",
    "# hans_influences_collections = torch.load(\"/export/share/hguo/Experiments/20200818/hans_influences_collections.pt\")\n",
    "influences_collections_list = [\n",
    "    torch.load(\"/export/share/hguo/Experiments/20200904/visualization.100.hans-hans-lexical_overlap-hans.False.pth.g0311.ll.unc.edu\"),\n",
    "    torch.load(\"/export/share/hguo/Experiments/20200904/visualization.100.hans-hans-subsequence-hans.False.pth.g0310.ll.unc.edu\"),\n",
    "    torch.load(\"/export/share/hguo/Experiments/20200904/visualization.100.hans-hans-constituent-hans.False.pth.g0311.ll.unc.edu\"),\n",
    "    torch.load(\"/export/share/hguo/Experiments/20200904/visualization.100.hans-mnli-2-lexical_overlap-hans.False.pth.g0313.ll.unc.edu\"),\n",
    "]"
   ]
  },
  {
   "cell_type": "code",
   "execution_count": 3,
   "metadata": {},
   "outputs": [],
   "source": [
    "# from experiments.misc_utils import sort_dict_keys_by_vals\n",
    "# def prune_train_datapoints(influences_collections_list, n):\n",
    "#     for influences_collections in influences_collections_list:\n",
    "#         for influences_dict in influences_collections:\n",
    "#             sorted_keys = sort_dict_keys_by_vals(influences_dict)\n",
    "#             for k in sorted_keys[n:-n]:\n",
    "#                 influences_dict.pop(k)\n",
    "                    \n",
    "# prune_train_datapoints(influences_collections_list, 10)"
   ]
  },
  {
   "cell_type": "code",
   "execution_count": 3,
   "metadata": {},
   "outputs": [
    {
     "data": {
      "text/plain": [
       "<matplotlib.legend.Legend at 0x7fedd1880b50>"
      ]
     },
     "execution_count": 3,
     "metadata": {},
     "output_type": "execute_result"
    },
    {
     "data": {
      "image/png": "[encoded data removed]",
      "text/plain": [
       "<Figure size 432x288 with 1 Axes>"
      ]
     },
     "metadata": {
      "needs_background": "light"
     },
     "output_type": "display_data"
    }
   ],
   "source": [
    "# plot_influences_distribution(mnli2_influences_collections, \"MNLI-2\")\n",
    "# for label_index, label in enumerate([\"lexical_overlap\", \"subsequence\", \"constituent\"]):\n",
    "#     plot_influences_distribution(hans_influences_collections[label_index], label)\n",
    "\n",
    "plot_influences_distribution(influences_collections_list[0], \"HANS-Lexical-Overlap\")\n",
    "plot_influences_distribution(influences_collections_list[1], \"HANS-Subsequence\")\n",
    "plot_influences_distribution(influences_collections_list[2], \"HANS-Constituent\")\n",
    "plot_influences_distribution(influences_collections_list[3], \"MNLI\")\n",
    "plt.legend()"
   ]
  },
  {
   "cell_type": "code",
   "execution_count": 4,
   "metadata": {},
   "outputs": [],
   "source": [
    "# for _hans_influences_collections in hans_influences_collections:\n",
    "#     for L in _hans_influences_collections:\n",
    "#         for key, val in L.items():\n",
    "#             L[key] = val * 100\n",
    "for _influences_collections in influences_collections_list:\n",
    "    for L in _influences_collections:\n",
    "        for key, val in L.items():\n",
    "            L[key] = val * 25"
   ]
  },
  {
   "cell_type": "code",
   "execution_count": 5,
   "metadata": {},
   "outputs": [
    {
     "data": {
      "text/plain": [
       "<matplotlib.legend.Legend at 0x7fedcf82a190>"
      ]
     },
     "execution_count": 5,
     "metadata": {},
     "output_type": "execute_result"
    },
    {
     "data": {
      "image/png": "[encoded data removed]",
      "text/plain": [
       "<Figure size 432x288 with 1 Axes>"
      ]
     },
     "metadata": {
      "needs_background": "light"
     },
     "output_type": "display_data"
    }
   ],
   "source": [
    "# plot_influences_distribution(mnli2_influences_collections, \"MNLI-2\")\n",
    "# for label_index, label in enumerate([\"lexical_overlap\", \"subsequence\", \"constituent\"]):\n",
    "#     plot_influences_distribution(hans_influences_collections[label_index], label)\n",
    "plot_influences_distribution(influences_collections_list[0], \"HANS-Lexical-Overlap\")\n",
    "plot_influences_distribution(influences_collections_list[1], \"HANS-Subsequence\")\n",
    "plot_influences_distribution(influences_collections_list[2], \"HANS-Constituent\")\n",
    "plot_influences_distribution(influences_collections_list[3], \"MNLI\")\n",
    "plt.legend()"
   ]
  },
  {
   "cell_type": "code",
   "execution_count": 7,
   "metadata": {},
   "outputs": [],
   "source": [
    "# g, outputs = get_graph(\n",
    "#     [mnli2_influences_collections] +\n",
    "#     hans_influences_collections)\n",
    "# g, outputs = get_graph(hans_influences_collections)\n",
    "# g, outputs = get_graph(influences_collections_list)"
   ]
  },
  {
   "cell_type": "code",
   "execution_count": null,
   "metadata": {},
   "outputs": [],
   "source": []
  },
  {
   "cell_type": "code",
   "execution_count": 8,
   "metadata": {},
   "outputs": [],
   "source": [
    "import pandas as pd\n",
    "hans_train_dataset = pd.read_csv(\"/export/share/hguo/Data/HANS/heuristics_train_set.txt\", sep=\"\\t\")\n",
    "\n",
    "hans_train_dataset.heuristic.unique()\n",
    "train_vertex_color_map = hans_train_dataset.heuristic.apply(\n",
    "    lambda heuristic: {\n",
    "        \"lexical_overlap\": 2,\n",
    "        \"subsequence\": 3,\n",
    "        \"constituent\": 4}[heuristic])\n",
    "\n",
    "train_vertex_radius_map = hans_train_dataset.heuristic.apply(\n",
    "    lambda heuristic: {\n",
    "        \"lexical_overlap\": 3,\n",
    "        \"subsequence\": 2,\n",
    "        \"constituent\": 1}[heuristic])\n",
    "\n",
    "train_vertex_color_map_fn = lambda index: train_vertex_color_map.values[index]\n",
    "train_vertex_radius_map_fn = lambda index: train_vertex_radius_map.values[index]"
   ]
  },
  {
   "cell_type": "code",
   "execution_count": 9,
   "metadata": {},
   "outputs": [
    {
     "name": "stderr",
     "output_type": "stream",
     "text": [
      "100%|██████████| 6389/6389 [00:00<00:00, 57983.72it/s]\n",
      "100%|██████████| 100/100 [00:00<00:00, 10518.10it/s]\n",
      "100%|██████████| 22/22 [00:00<00:00, 10840.54it/s]\n",
      "100%|██████████| 4/4 [00:00<00:00, 7197.43it/s]\n",
      "100%|██████████| 100/100 [00:04<00:00, 23.37it/s]\n",
      "100%|██████████| 22/22 [00:00<00:00, 23.41it/s]\n",
      "100%|██████████| 4/4 [00:00<00:00, 23.39it/s]\n",
      "100%|██████████| 6389/6389 [01:05<00:00, 98.02it/s] \n"
     ]
    }
   ],
   "source": [
    "g, outputs = get_graph(\n",
    "    influences_collections_list,\n",
    "    train_vertex_color_map_fn=train_vertex_color_map_fn,\n",
    "    train_vertex_radius_map_fn=train_vertex_radius_map_fn,\n",
    "    eval_vertex_radius=4,\n",
    ")"
   ]
  },
  {
   "cell_type": "code",
   "execution_count": null,
   "metadata": {},
   "outputs": [],
   "source": []
  },
  {
   "cell_type": "code",
   "execution_count": null,
   "metadata": {},
   "outputs": [],
   "source": []
  },
  {
   "cell_type": "code",
   "execution_count": 9,
   "metadata": {},
   "outputs": [],
   "source": [
    "def get_edge_masks(g, keep_positive: bool):\n",
    "    edge_pen_widths = g.new_edge_property(\"double\")\n",
    "    edge_weights = g.edge_properties[\"weights\"]\n",
    "    edge_signed_influences = g.edge_properties[\"signed_influences\"]\n",
    "    for e in g.edges():\n",
    "        if keep_positive:\n",
    "            if edge_signed_influences[e] >= 0.0:\n",
    "                edge_pen_widths[e] = edge_weights[e]\n",
    "            else:\n",
    "                edge_pen_widths[e] = 0.0\n",
    "        else:\n",
    "            if edge_signed_influences[e] < 0.0:\n",
    "                edge_pen_widths[e] = edge_weights[e]\n",
    "            else:\n",
    "                edge_pen_widths[e] = 0.0\n",
    "    return edge_pen_widths"
   ]
  },
  {
   "cell_type": "code",
   "execution_count": 10,
   "metadata": {},
   "outputs": [],
   "source": [
    "import matplotlib.cm as plt_cm"
   ]
  },
  {
   "cell_type": "code",
   "execution_count": 11,
   "metadata": {},
   "outputs": [],
   "source": [
    "def plot(g):\n",
    "    outputs_positive = graph_draw(g,\n",
    "               pos=g.vertex_properties[\"positive_positions\"],\n",
    "               edge_color=g.edge_properties[\"colors\"],\n",
    "               vertex_size=g.vertex_properties[\"sizes\"],\n",
    "               vertex_fill_color=g.vertex_properties[\"colors\"],\n",
    "               vcmap=plt_cm.Paired,\n",
    "               ecmap=plt_cm.coolwarm,\n",
    "               output_size=(750, 750),\n",
    "               edge_pen_width=get_edge_masks(g, keep_positive=True),\n",
    "               # vertex_text=g.vertex_properties[\"data_indices\"],\n",
    "               # vertex_font_size=5,\n",
    "               output=\"20200909-0.png\"\n",
    "              )\n",
    "\n",
    "    outputs_negative = graph_draw(g,\n",
    "               pos=g.vertex_properties[\"negative_positions\"],\n",
    "               edge_color=g.edge_properties[\"colors\"],\n",
    "               vertex_size=g.vertex_properties[\"sizes\"],\n",
    "               vertex_fill_color=g.vertex_properties[\"colors\"], \n",
    "               vcmap=plt_cm.Paired,\n",
    "               ecmap=plt_cm.coolwarm,\n",
    "               output_size=(750, 750),\n",
    "               edge_pen_width=get_edge_masks(g, keep_positive=False),\n",
    "               # vertex_text=g.vertex_properties[\"data_indices\"],\n",
    "               # vertex_font_size=5,\n",
    "               output=\"20200909-1.png\"\n",
    "\n",
    "    )\n",
    "    \n",
    "    return outputs_positive, outputs_negative\n",
    "outputs_positive, outputs_negative = plot(g)"
   ]
  },
  {
   "cell_type": "code",
   "execution_count": null,
   "metadata": {},
   "outputs": [],
   "source": []
  },
  {
   "cell_type": "code",
   "execution_count": 32,
   "metadata": {},
   "outputs": [],
   "source": []
  },
  {
   "cell_type": "code",
   "execution_count": null,
   "metadata": {},
   "outputs": [],
   "source": []
  },
  {
   "cell_type": "code",
   "execution_count": null,
   "metadata": {},
   "outputs": [],
   "source": []
  },
  {
   "cell_type": "code",
   "execution_count": null,
   "metadata": {},
   "outputs": [],
   "source": []
  },
  {
   "cell_type": "code",
   "execution_count": null,
   "metadata": {},
   "outputs": [],
   "source": []
  },
  {
   "cell_type": "code",
   "execution_count": null,
   "metadata": {},
   "outputs": [],
   "source": []
  },
  {
   "cell_type": "code",
   "execution_count": null,
   "metadata": {},
   "outputs": [],
   "source": []
  },
  {
   "cell_type": "code",
   "execution_count": 53,
   "metadata": {},
   "outputs": [],
   "source": [
    "import plotly.graph_objects as go\n",
    "def make_interactive_graph(vertex_positions, vertex_colors, vertex_data_indices, color):\n",
    "    edge_x = []\n",
    "    edge_y = []\n",
    "    for edge in g.edges():\n",
    "        x0, y0 = vertex_positions[edge.source()]\n",
    "        x1, y1 = vertex_positions[edge.target()]\n",
    "        edge_x.append(x0)\n",
    "        edge_x.append(x1)\n",
    "        edge_x.append(None)\n",
    "        edge_y.append(y0)\n",
    "        edge_y.append(y1)\n",
    "        edge_y.append(None)\n",
    "\n",
    "    edge_trace = go.Scatter(\n",
    "        x=edge_x, y=edge_y,\n",
    "        line=dict(width=0.5, color=color),\n",
    "        hoverinfo=None,\n",
    "        mode=\"lines\")\n",
    "\n",
    "    node_x = []\n",
    "    node_y = []\n",
    "    node_color = []\n",
    "    node_description = []\n",
    "    for vertex in g.vertices():\n",
    "        x, y = vertex_positions[vertex]\n",
    "        node_x.append(x)\n",
    "        node_y.append(y)\n",
    "        node_color.append(vertex_colors[vertex])\n",
    "        data_index = vertex_data_indices[vertex]\n",
    "        if data_index.startswith(\"train\"):\n",
    "            description = get_string_from_train(int(data_index.split(\"-\")[-1]))\n",
    "            node_description.append(description)\n",
    "        if data_index.startswith(\"eval\"):\n",
    "            a, b = data_index.split(\"-\")[1:]\n",
    "            description = get_string_from_eval(int(a), int(b))\n",
    "            node_description.append(description)\n",
    "        \n",
    "\n",
    "    node_trace = go.Scatter(\n",
    "        x=node_x, y=node_y,\n",
    "        mode=\"markers\",\n",
    "        hoverinfo=\"text\",\n",
    "        text=node_description,\n",
    "        hovertemplate=\"%{text}\",\n",
    "        marker=dict(\n",
    "            showscale=True,\n",
    "            colorscale=\"YlGnBu\",\n",
    "            reversescale=True,\n",
    "            color=node_color,\n",
    "            size=10,\n",
    "            line_width=2))\n",
    "    \n",
    "    fig = go.Figure(data=[edge_trace, node_trace],\n",
    "             layout=go.Layout(\n",
    "                titlefont_size=16,\n",
    "                showlegend=False,\n",
    "                hovermode='closest',\n",
    "                margin=dict(b=20,l=5,r=5,t=40),\n",
    "                xaxis=dict(showgrid=False, zeroline=False, showticklabels=False),\n",
    "                yaxis=dict(showgrid=False, zeroline=False, showticklabels=False)))\n",
    "    # fig.show()\n",
    "    return fig"
   ]
  },
  {
   "cell_type": "code",
   "execution_count": 38,
   "metadata": {},
   "outputs": [],
   "source": [
    "make_interactive_graph(\n",
    "    vertex_positions=g.vertex_properties[\"positive_positions\"],\n",
    "    vertex_colors=g.vertex_properties[\"colors\"],\n",
    "    vertex_data_indices=g.vertex_properties[\"data_indices\"],\n",
    "    color=\"brown\")"
   ]
  },
  {
   "cell_type": "code",
   "execution_count": null,
   "metadata": {},
   "outputs": [],
   "source": []
  },
  {
   "cell_type": "code",
   "execution_count": null,
   "metadata": {},
   "outputs": [],
   "source": []
  },
  {
   "cell_type": "code",
   "execution_count": 11,
   "metadata": {},
   "outputs": [],
   "source": [
    "# cd /workspace/fast-influence-functions/"
   ]
  },
  {
   "cell_type": "code",
   "execution_count": 12,
   "metadata": {},
   "outputs": [],
   "source": [
    "# import os\n",
    "# os.environ[\"CUDA_DEVICE_ORDER\"]=\"PCI_BUS_ID\"   # see issue #152\n",
    "# os.environ[\"CUDA_VISIBLE_DEVICES\"]=\"3\""
   ]
  },
  {
   "cell_type": "code",
   "execution_count": 13,
   "metadata": {},
   "outputs": [],
   "source": [
    "# from experiments.visualization import *\n",
    "# from tqdm import tqdm\n",
    "# from experiments import visualization\n",
    "# def main(\n",
    "#     train_task_name: str,\n",
    "#     eval_task_name: str,\n",
    "#     num_eval_to_collect: int,\n",
    "#     use_parallel: Optional[bool] = True,\n",
    "#     hans_heuristic: Optional[str] = None,\n",
    "#     trained_on_task_name: Optional[str] = None,\n",
    "# ) -> List[Dict[int, float]]:\n",
    "\n",
    "#     if train_task_name not in [\"mnli-2\", \"hans\"]:\n",
    "#         raise ValueError\n",
    "\n",
    "#     if eval_task_name not in [\"mnli-2\", \"hans\"]:\n",
    "#         raise ValueError\n",
    "\n",
    "#     if trained_on_task_name is None:\n",
    "#         # The task the model was trained on\n",
    "#         # can be different from `train_task_name`\n",
    "#         # which is used to determine on which the\n",
    "#         # influence values will be computed.\n",
    "#         trained_on_task_name = train_task_name\n",
    "\n",
    "#     if trained_on_task_name not in [\"mnli-2\", \"hans\"]:\n",
    "#         raise ValueError\n",
    "\n",
    "#     # `trained_on_task_name` determines the model to load\n",
    "#     if trained_on_task_name in [\"mnli-2\"]:\n",
    "#         tokenizer, model = misc_utils.create_tokenizer_and_model(\n",
    "#             constants.MNLI2_MODEL_PATH)\n",
    "\n",
    "#     if trained_on_task_name in [\"hans\"]:\n",
    "#         tokenizer, model = misc_utils.create_tokenizer_and_model(\n",
    "#             constants.HANS_MODEL_PATH)\n",
    "\n",
    "#     train_dataset, _ = misc_utils.create_datasets(\n",
    "#         task_name=train_task_name,\n",
    "#         tokenizer=tokenizer)\n",
    "\n",
    "#     _, eval_dataset = misc_utils.create_datasets(\n",
    "#         task_name=eval_task_name,\n",
    "#         tokenizer=tokenizer)\n",
    "\n",
    "#     if trained_on_task_name == \"mnli-2\" and train_task_name == \"mnli-2\":\n",
    "#         faiss_index = faiss_utils.FAISSIndex(768, \"Flat\")\n",
    "#         faiss_index.load(constants.MNLI2_FAISS_INDEX_PATH)\n",
    "#     elif trained_on_task_name == \"hans\" and train_task_name == \"hans\":\n",
    "#         faiss_index = faiss_utils.FAISSIndex(768, \"Flat\")\n",
    "#         faiss_index.load(constants.HANS_FAISS_INDEX_PATH)\n",
    "#     elif trained_on_task_name == \"mnli-2\" and train_task_name == \"hans\":\n",
    "#         faiss_index = faiss_utils.FAISSIndex(768, \"Flat\")\n",
    "#         faiss_index.load(constants.MNLI2_HANS_FAISS_INDEX_PATH)\n",
    "#     elif trained_on_task_name == \"hans\" and train_task_name == \"mnli-2\":\n",
    "#         faiss_index = faiss_utils.FAISSIndex(768, \"Flat\")\n",
    "#         faiss_index.load(constants.HANS_MNLI2_FAISS_INDEX_PATH)\n",
    "#     else:\n",
    "#         faiss_index = None\n",
    "\n",
    "#     trainer = Trainer(\n",
    "#         model=model,\n",
    "#         args=TrainingArguments(\n",
    "#             output_dir=\"./tmp-output\",\n",
    "#             per_device_train_batch_size=128,\n",
    "#             per_device_eval_batch_size=128,\n",
    "#             learning_rate=5e-5,\n",
    "#             logging_steps=100),\n",
    "#         train_dataset=train_dataset,\n",
    "#         eval_dataset=eval_dataset,\n",
    "#     )\n",
    "\n",
    "#     if eval_task_name in [\"mnli-2\"]:\n",
    "#         eval_instance_data_loader = misc_utils.get_dataloader(\n",
    "#             dataset=eval_dataset,\n",
    "#             batch_size=1,\n",
    "#             random=False)\n",
    "\n",
    "#     if eval_task_name in [\"hans\"]:\n",
    "#         if hans_heuristic is None:\n",
    "#             raise ValueError(\"`hans_heuristic` cannot be None for now\")\n",
    "\n",
    "#         hans_helper = HansHelper(\n",
    "#             hans_train_dataset=None,\n",
    "#             hans_eval_dataset=eval_dataset)\n",
    "\n",
    "#         _, eval_instance_data_loader = hans_helper.get_dataset_and_dataloader_of_heuristic(\n",
    "#             mode=\"eval\",\n",
    "#             heuristic=hans_heuristic,\n",
    "#             batch_size=1,\n",
    "#             random=False)\n",
    "\n",
    "#     # Data-points where the model got wrong\n",
    "#     wrong_input_collections = []\n",
    "#     for i, test_inputs in enumerate(tqdm(eval_instance_data_loader)):\n",
    "#         logits, labels, step_eval_loss = misc_utils.predict(\n",
    "#             trainer=trainer,\n",
    "#             model=model,\n",
    "#             inputs=test_inputs)\n",
    "#         if logits.argmax(axis=-1).item() != labels.item():\n",
    "#             wrong_input_collections.append(test_inputs)\n",
    "        \n",
    "#         if len(wrong_input_collections) == num_eval_to_collect:\n",
    "#             break\n",
    "    \n",
    "#     return wrong_input_collections, tokenizer, model, train_dataset, eval_dataset\n"
   ]
  },
  {
   "cell_type": "code",
   "execution_count": 10,
   "metadata": {},
   "outputs": [],
   "source": [
    "# wrong_input_collections_lexicaloverlap = main(\n",
    "#     train_task_name=\"hans\",\n",
    "#     eval_task_name=\"hans\",\n",
    "#     num_eval_to_collect=100,\n",
    "#     hans_heuristic=\"lexical_overlap\",\n",
    "#     trained_on_task_name=\"hans\")\n",
    "\n",
    "# wrong_input_collections_subsequence = main(\n",
    "#     train_task_name=\"hans\",\n",
    "#     eval_task_name=\"hans\",\n",
    "#     num_eval_to_collect=100,\n",
    "#     hans_heuristic=\"subsequence\",\n",
    "#     trained_on_task_name=\"hans\")\n",
    "\n",
    "# wrong_input_collections_constituent = main(\n",
    "#     train_task_name=\"hans\",\n",
    "#     eval_task_name=\"hans\",\n",
    "#     num_eval_to_collect=100,\n",
    "#     hans_heuristic=\"constituent\",\n",
    "#     trained_on_task_name=\"hans\")\n",
    "\n",
    "# wrong_input_collections_mnli2 = main(\n",
    "#     train_task_name=\"hans\",\n",
    "#     eval_task_name=\"mnli-2\",\n",
    "#     num_eval_to_collect=100,\n",
    "#     hans_heuristic=None,\n",
    "#     trained_on_task_name=\"hans\")"
   ]
  },
  {
   "cell_type": "code",
   "execution_count": 9,
   "metadata": {},
   "outputs": [],
   "source": [
    "# torch.save({\n",
    "#     \"lexical_overlap\": wrong_input_collections_lexicaloverlap,\n",
    "#     \"subsequence\": wrong_input_collections_subsequence,\n",
    "#     \"constituent\": wrong_input_collections_constituent,\n",
    "#     \"mnli-2\": wrong_input_collections_mnli2\n",
    "# }, \"/export/share/hguo/Experiments/20200909/wrong_input_collections.pt\")"
   ]
  },
  {
   "cell_type": "code",
   "execution_count": null,
   "metadata": {},
   "outputs": [],
   "source": []
  },
  {
   "cell_type": "code",
   "execution_count": null,
   "metadata": {},
   "outputs": [],
   "source": [
    "from experiments import mnli_utils, misc_utils, constants\n",
    "\n",
    "tokenizer, _ = misc_utils.create_tokenizer_and_model(\n",
    "    constants.HANS_MODEL_PATH)\n",
    "\n",
    "wrong_input_collections_list = torch.load(\n",
    "    \"/export/share/hguo/Experiments/20200909/wrong_input_collections.pt\")\n",
    "\n",
    "wrong_input_collections_dict = [\n",
    "    wrong_input_collections_list[\"lexical_overlap\"][0],\n",
    "    wrong_input_collections_list[\"subsequence\"][0],\n",
    "    wrong_input_collections_list[\"constituent\"][0],\n",
    "    wrong_input_collections_list[\"mnli-2\"][0],\n",
    "]\n",
    "\n",
    "label_list_dict = [\n",
    "    wrong_input_collections_list[\"lexical_overlap\"][3].label_list,\n",
    "    wrong_input_collections_list[\"subsequence\"][3].label_list,\n",
    "    wrong_input_collections_list[\"constituent\"][3].label_list,\n",
    "    wrong_input_collections_list[\"mnli-2\"][3].label_list,\n",
    "]\n",
    "\n",
    "def get_string_from_eval(i, index):\n",
    "    inputs = wrong_input_collections_dict[i][index]\n",
    "    premise, hypothesis, label = (\n",
    "        mnli_utils.get_data_from_features_or_inputs(\n",
    "            tokenizer=tokenizer,\n",
    "            label_list=label_list_dict[i],\n",
    "            feature=None,\n",
    "            inputs=inputs))\n",
    "    \n",
    "    return f\"P:{premise}\\nH:{hypothesis}\\nL:{label}\"\n",
    "\n",
    "def get_string_from_train(index):\n",
    "    entry = hans_train_dataset.iloc[index]\n",
    "    return f\"P:{entry.sentence1}\\nH:{entry.sentence2}\\nL:{entry.gold_label}\""
   ]
  },
  {
   "cell_type": "code",
   "execution_count": null,
   "metadata": {},
   "outputs": [],
   "source": []
  },
  {
   "cell_type": "code",
   "execution_count": null,
   "metadata": {},
   "outputs": [],
   "source": []
  },
  {
   "cell_type": "code",
   "execution_count": null,
   "metadata": {},
   "outputs": [],
   "source": []
  }
 ],
 "metadata": {
  "kernelspec": {
   "display_name": "Python 3",
   "language": "python",
   "name": "python3"
  },
  "language_info": {
   "codemirror_mode": {
    "name": "ipython",
    "version": 3
   },
   "file_extension": ".py",
   "mimetype": "text/x-python",
   "name": "python",
   "nbconvert_exporter": "python",
   "pygments_lexer": "ipython3",
   "version": "3.7.7"
  }
 },
 "nbformat": 4,
 "nbformat_minor": 4
}
