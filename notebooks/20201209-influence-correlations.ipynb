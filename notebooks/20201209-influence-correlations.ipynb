{
 "cells": [
  {
   "cell_type": "code",
   "execution_count": 1,
   "metadata": {},
   "outputs": [
    {
     "name": "stderr",
     "output_type": "stream",
     "text": [
      "\u001b[34m\u001b[1mwandb\u001b[0m: \u001b[33mWARNING\u001b[0m W&B installed but not logged in.  Run `wandb login` or set the WANDB_API_KEY env variable.\n"
     ]
    }
   ],
   "source": [
    "import torch\n",
    "import scipy.stats\n",
    "from experiments.mnli import *\n",
    "from run_experiments import NUM_RETRAINING_EXPERIMENTS\n",
    "from tqdm import trange"
   ]
  },
  {
   "cell_type": "code",
   "execution_count": 2,
   "metadata": {},
   "outputs": [],
   "source": [
    "from experiments import constants"
   ]
  },
  {
   "cell_type": "code",
   "execution_count": 3,
   "metadata": {},
   "outputs": [],
   "source": [
    "def run_retraining_main_modified(\n",
    "        mode: str,\n",
    "        num_examples_to_test: int):\n",
    "    \n",
    "    influences_dicts = []\n",
    "\n",
    "    if mode not in [\"full\", \"KNN-1000\", \"KNN-10000\", \"random\"]:\n",
    "        raise ValueError(f\"Unrecognized `mode` {mode}\")\n",
    "\n",
    "    for example_relative_index in range(num_examples_to_test):\n",
    "        for correct_mode in [\"correct\", \"incorrect\"]:\n",
    "            if correct_mode == \"correct\":\n",
    "                example_index = CORRECT_INDICES[example_relative_index]\n",
    "            if correct_mode == \"incorrect\":\n",
    "                example_index = INCORRECT_INDICES[example_relative_index]\n",
    "\n",
    "            if mode in [\"full\"]:\n",
    "                # Load file from local or sync from remote\n",
    "                file_name = os.path.join(\n",
    "                    constants.MNLI_RETRAINING_INFLUENCE_OUTPUT_BASE_DIR,\n",
    "                    f\"KNN-recall.only-{correct_mode}.50.{example_index}\"\n",
    "                    f\".pth.g0301.ll.unc.edu\")\n",
    "\n",
    "                influences_dict = torch.load(file_name)\n",
    "                if example_index != influences_dict[\"test_index\"]:\n",
    "                    raise ValueError\n",
    "\n",
    "                if (correct_mode == \"correct\" and\n",
    "                        influences_dict[\"correct\"] is not True or\n",
    "                        correct_mode == \"incorrect\" and\n",
    "                        influences_dict[\"correct\"] is True):\n",
    "                    raise ValueError\n",
    "                \n",
    "                influences_dicts.append(influences_dict[\"influences\"])\n",
    "\n",
    "#                 helpful_indices, harmful_indices = (\n",
    "#                     misc_utils.get_helpful_harmful_indices_from_influences_dict(\n",
    "#                         influences_dict[\"influences\"]))\n",
    "\n",
    "#                 indices_dict = {\n",
    "#                     \"helpful\": helpful_indices,\n",
    "#                     \"harmful\": harmful_indices}\n",
    "\n",
    "            if mode in [\"KNN-1000\", \"KNN-10000\"]:\n",
    "                if mode == \"KNN-1000\":\n",
    "                    kNN_k = 1000\n",
    "                if mode == \"KNN-10000\":\n",
    "                    kNN_k = 10000\n",
    "\n",
    "                file_name = os.path.join(\n",
    "                    constants.MNLI_RETRAINING_INFLUENCE_OUTPUT_BASE_DIR2,\n",
    "                    f\"visualization\"\n",
    "                    f\".only-{correct_mode}\"\n",
    "                    f\".5.mnli-mnli-None-mnli\"\n",
    "                    f\".{kNN_k}.True.pth.g0306.ll.unc.edu\")\n",
    "\n",
    "                influences_dict = torch.load(file_name)[example_relative_index]\n",
    "                if example_index != influences_dict[\"index\"]:\n",
    "                    raise ValueError\n",
    "\n",
    "                influences_dicts.append(influences_dict[\"influences\"])\n",
    "\n",
    "#                 helpful_indices, harmful_indices = (\n",
    "#                     misc_utils.get_helpful_harmful_indices_from_influences_dict(\n",
    "#                         influences_dict[\"influences\"]))\n",
    "\n",
    "#                 indices_dict = {\n",
    "#                     \"helpful\": helpful_indices,\n",
    "#                     \"harmful\": harmful_indices}\n",
    "    return influences_dicts\n",
    "\n",
    "\n",
    "def compute_pairwise_correlations(d1: Dict[str, float], d2: Dict[str, float]) -> Dict[str, float]:\n",
    "    vals_1 = []\n",
    "    vals_2 = []\n",
    "    joint_keys = list(set(d1.keys()) & set(d2.keys()))\n",
    "    for joint_k in joint_keys:\n",
    "        vals_1.append(d1[joint_k])\n",
    "        vals_2.append(d2[joint_k])\n",
    "\n",
    "    pr = scipy.stats.pearsonr(vals_1, vals_2)[0]\n",
    "    sr = scipy.stats.spearmanr(vals_1, vals_2)[0]\n",
    "    kt = scipy.stats.kendalltau(vals_1, vals_2)[0]\n",
    "    print(f\"Pearson={pr:.5f} Spearman={sr:.5f} Kendall={kt:.5f}\")\n",
    "    return {\"pr\": pr, \"sr\": sr, \"kt\": kt, \"size\": len(joint_keys)}"
   ]
  },
  {
   "cell_type": "code",
   "execution_count": null,
   "metadata": {},
   "outputs": [],
   "source": []
  },
  {
   "cell_type": "code",
   "execution_count": 4,
   "metadata": {},
   "outputs": [],
   "source": [
    "influences_dicts_all = {\n",
    "    \"full\": run_retraining_main_modified(\"full\", NUM_RETRAINING_EXPERIMENTS),\n",
    "    \"KNN-1000\": run_retraining_main_modified(\"KNN-1000\", NUM_RETRAINING_EXPERIMENTS),\n",
    "    \"KNN-10000\": run_retraining_main_modified(\"KNN-10000\", NUM_RETRAINING_EXPERIMENTS),\n",
    "}"
   ]
  },
  {
   "cell_type": "code",
   "execution_count": 5,
   "metadata": {},
   "outputs": [
    {
     "name": "stdout",
     "output_type": "stream",
     "text": [
      "full 6\n",
      "KNN-1000 6\n",
      "KNN-10000 6\n"
     ]
    }
   ],
   "source": [
    "for k in influences_dicts_all.keys():\n",
    "    print(k, len(influences_dicts_all[k]))"
   ]
  },
  {
   "cell_type": "code",
   "execution_count": 6,
   "metadata": {},
   "outputs": [
    {
     "name": "stdout",
     "output_type": "stream",
     "text": [
      "Pearson=0.99968 Spearman=0.99969 Kendall=0.98631\n",
      "Pearson=0.99903 Spearman=0.99929 Kendall=0.97830\n",
      "Pearson=0.99961 Spearman=0.99959 Kendall=0.98427\n",
      "Pearson=0.99931 Spearman=0.99931 Kendall=0.97946\n",
      "Pearson=0.99873 Spearman=0.99886 Kendall=0.97553\n",
      "Pearson=0.99787 Spearman=0.99794 Kendall=0.96331\n",
      "Pearson=0.99988 Spearman=0.99970 Kendall=0.98775\n",
      "Pearson=0.99990 Spearman=0.99994 Kendall=0.99397\n",
      "Pearson=0.99986 Spearman=0.99971 Kendall=0.98830\n",
      "Pearson=0.99823 Spearman=0.98878 Kendall=0.93757\n",
      "Pearson=0.99989 Spearman=0.99910 Kendall=0.98274\n",
      "Pearson=0.99817 Spearman=0.98993 Kendall=0.94083\n",
      "Pearson=0.99925 Spearman=0.99916 Kendall=0.97694\n",
      "Pearson=0.99918 Spearman=0.99906 Kendall=0.97771\n",
      "Pearson=0.99929 Spearman=0.99938 Kendall=0.98043\n",
      "Pearson=0.99939 Spearman=0.99878 Kendall=0.97566\n",
      "Pearson=0.99910 Spearman=0.99710 Kendall=0.96882\n",
      "Pearson=0.99976 Spearman=0.99947 Kendall=0.98334\n"
     ]
    }
   ],
   "source": [
    "correlations = {\n",
    "    \"knn1000_full_corr\": [],\n",
    "    \"knn10000_full_corr\": [],\n",
    "    \"knn1000_knn10000_corr\": [],\n",
    "}\n",
    "for index in range(len(influences_dicts_all[\"full\"])):\n",
    "    correlations[\"knn1000_full_corr\"].append(\n",
    "        compute_pairwise_correlations(\n",
    "            d1=influences_dicts_all[\"KNN-1000\"][index],\n",
    "            d2=influences_dicts_all[\"full\"][index]))\n",
    "\n",
    "    correlations[\"knn10000_full_corr\"].append(\n",
    "        compute_pairwise_correlations(\n",
    "            d1=influences_dicts_all[\"KNN-10000\"][index],\n",
    "            d2=influences_dicts_all[\"full\"][index]))\n",
    "\n",
    "    correlations[\"knn1000_knn10000_corr\"].append(\n",
    "        compute_pairwise_correlations(\n",
    "            d1=influences_dicts_all[\"KNN-1000\"][index],\n",
    "            d2=influences_dicts_all[\"KNN-10000\"][index]))"
   ]
  },
  {
   "cell_type": "code",
   "execution_count": 7,
   "metadata": {},
   "outputs": [
    {
     "name": "stdout",
     "output_type": "stream",
     "text": [
      "knn1000_full_corr         99.9/0.05 99.8/0.39 97.4/1.69 1000.0/0.00 \n",
      "knn10000_full_corr        99.9/0.04 99.9/0.09 98.0/0.77 10000.0/0.00 \n",
      "knn1000_knn10000_corr     99.9/0.08 99.8/0.35 97.3/1.66 1000.0/0.00 \n"
     ]
    }
   ],
   "source": [
    "for comparison in correlations.keys():\n",
    "    print(f\"{comparison:<25}\", end=\" \")\n",
    "    if len(correlations[comparison]) != 6:\n",
    "        raise ValueError\n",
    "    for metric_name in [\"pr\", \"sr\", \"kt\"]:\n",
    "        corr_values = [c[metric_name] * 100 for c in correlations[comparison]]\n",
    "        corr_mean = np.mean(corr_values)\n",
    "        corr_std = np.std(corr_values)\n",
    "        print(f\"{corr_mean:.1f}/{corr_std:.2f}\", end=\" \")\n",
    "    \n",
    "    size_mean = np.mean([c[\"size\"] for c in correlations[comparison]])\n",
    "    size_std = np.std([c[\"size\"] for c in correlations[comparison]])\n",
    "    print(f\"{size_mean:.1f}/{size_std:.2f}\", end=\" \")\n",
    "    \n",
    "    print()"
   ]
  }
 ],
 "metadata": {
  "kernelspec": {
   "display_name": "Python 3",
   "language": "python",
   "name": "python3"
  },
  "language_info": {
   "codemirror_mode": {
    "name": "ipython",
    "version": 3
   },
   "file_extension": ".py",
   "mimetype": "text/x-python",
   "name": "python",
   "nbconvert_exporter": "python",
   "pygments_lexer": "ipython3",
   "version": "3.7.7"
  }
 },
 "nbformat": 4,
 "nbformat_minor": 4
}
