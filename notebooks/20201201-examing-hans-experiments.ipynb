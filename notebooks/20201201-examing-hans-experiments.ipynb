{
 "cells": [
  {
   "cell_type": "code",
   "execution_count": 1,
   "metadata": {},
   "outputs": [],
   "source": [
    "\"\"\"This File Cannot Import Other Files\"\"\"\n",
    "\n",
    "import os\n",
    "import sys\n",
    "\n",
    "\n",
    "def set_cuda_visible_devices(gpu_id: int):\n",
    "    if is_module_imported(\"torch\") or is_module_imported(\"tensorflow\"):\n",
    "        raise ValueError\n",
    "\n",
    "    # https://stackoverflow.com/questions/37893755/tensorflow-set-cuda-visible-devices-within-jupyter\n",
    "    os.environ[\"CUDA_DEVICE_ORDER\"] = \"PCI_BUS_ID\"   # see issue #152\n",
    "    os.environ[\"CUDA_VISIBLE_DEVICES\"] = f\"{gpu_id}\"\n",
    "    print(f\"Set GPU ID to {gpu_id}\")\n",
    "\n",
    "\n",
    "def is_module_imported(module_name: str) -> bool:\n",
    "    # https://stackoverflow.com/questions/30483246/how-to-check-if-a-python-module-has-been-imported\n",
    "    return module_name in sys.modules\n"
   ]
  },
  {
   "cell_type": "code",
   "execution_count": 2,
   "metadata": {},
   "outputs": [
    {
     "name": "stdout",
     "output_type": "stream",
     "text": [
      "Set GPU ID to 1\n"
     ]
    }
   ],
   "source": [
    "set_cuda_visible_devices(1)"
   ]
  },
  {
   "cell_type": "code",
   "execution_count": null,
   "metadata": {},
   "outputs": [],
   "source": []
  },
  {
   "cell_type": "code",
   "execution_count": 3,
   "metadata": {},
   "outputs": [
    {
     "name": "stderr",
     "output_type": "stream",
     "text": [
      "\u001b[34m\u001b[1mwandb\u001b[0m: \u001b[33mWARNING\u001b[0m W&B installed but not logged in.  Run `wandb login` or set the WANDB_API_KEY env variable.\n"
     ]
    }
   ],
   "source": [
    "import torch\n",
    "import numpy as np\n",
    "import transformers\n",
    "from tqdm import tqdm\n",
    "from copy import deepcopy\n",
    "from collections import defaultdict\n",
    "from transformers import default_data_collator\n",
    "from typing import Union, Dict, Any, List, Tuple, Optional\n",
    "\n",
    "from influence_utils import parallel\n",
    "from influence_utils import faiss_utils\n",
    "from influence_utils import nn_influence_utils\n",
    "from experiments import constants\n",
    "from experiments import misc_utils\n",
    "from experiments import remote_utils\n",
    "from experiments import influence_helpers\n",
    "from experiments.hans_utils import HansHelper\n",
    "from transformers import TrainingArguments\n",
    "from experiments.data_utils import (\n",
    "    glue_output_modes,\n",
    "    glue_compute_metrics,\n",
    "    CustomGlueDataset)\n",
    "\n",
    "DEFAULT_KNN_K = 1000\n",
    "DEFAULT_NUM_REPLICAS = 3\n",
    "EXPERIMENT_TYPES = [\"most-helpful\", \"most-harmful\", \"random\"]\n",
    "DEFAULT_EVAL_HEURISTICS = [\"lexical_overlap\", \"subsequence\", \"constituent\"]\n",
    "VERSION_2_NUM_DATAPOINTS_CHOICES = [1]\n",
    "VERSION_2_LEARNING_RATE_CHOICES = [1e-4]\n",
    "\n",
    "\n",
    "def main(\n",
    "        train_task_name: str,\n",
    "        train_heuristic: str,\n",
    "        eval_heuristics: Optional[List[str]] = None,\n",
    "        num_replicas: Optional[int] = None,\n",
    "        use_parallel: bool = True,\n",
    "        version: Optional[str] = None,\n",
    ") -> Dict[str, List[Dict[str, Any]]]:\n",
    "\n",
    "    if train_task_name not in [\"mnli-2\", \"hans\"]:\n",
    "        raise ValueError\n",
    "\n",
    "    if eval_heuristics is None:\n",
    "        eval_heuristics = DEFAULT_EVAL_HEURISTICS\n",
    "\n",
    "    if num_replicas is None:\n",
    "        num_replicas = DEFAULT_NUM_REPLICAS\n",
    "\n",
    "    if version is None:\n",
    "        version = \"new\"\n",
    "\n",
    "    if version not in [\"old\", \"new\"]:\n",
    "        raise ValueError\n",
    "\n",
    "    task_tokenizer, task_model = misc_utils.create_tokenizer_and_model(\n",
    "        constants.MNLI2_MODEL_PATH)\n",
    "\n",
    "    (mnli_train_dataset,\n",
    "     mnli_eval_dataset) = misc_utils.create_datasets(\n",
    "        task_name=\"mnli-2\",\n",
    "        tokenizer=task_tokenizer)\n",
    "\n",
    "    (hans_train_dataset,\n",
    "     hans_eval_dataset) = misc_utils.create_datasets(\n",
    "        task_name=\"hans\",\n",
    "        tokenizer=task_tokenizer)\n",
    "\n",
    "    if train_task_name == \"mnli-2\":\n",
    "        train_dataset = mnli_train_dataset\n",
    "\n",
    "    if train_task_name == \"hans\":\n",
    "        train_dataset = hans_train_dataset\n",
    "\n",
    "    (s_test_damp,\n",
    "     s_test_scale,\n",
    "     s_test_num_samples) = influence_helpers.select_s_test_config(\n",
    "        trained_on_task_name=\"mnli-2\",\n",
    "        train_task_name=train_task_name,\n",
    "        eval_task_name=\"hans\",\n",
    "    )\n",
    "\n",
    "    hans_helper = HansHelper(\n",
    "        hans_train_dataset=hans_train_dataset,\n",
    "        hans_eval_dataset=hans_eval_dataset)\n",
    "\n",
    "    # We will be running model trained on MNLI-2\n",
    "    # but calculate influences on HANS dataset\n",
    "    faiss_index = influence_helpers.load_faiss_index(\n",
    "        trained_on_task_name=\"mnli-2\",\n",
    "        train_task_name=train_task_name\n",
    "    )\n",
    "\n",
    "    output_mode = glue_output_modes[\"mnli-2\"]\n",
    "\n",
    "    def build_compute_metrics_fn(task_name: str):\n",
    "        def compute_metrics_fn(p):\n",
    "            if output_mode == \"classification\":\n",
    "                preds = np.argmax(p.predictions, axis=1)\n",
    "            elif output_mode == \"regression\":\n",
    "                preds = np.squeeze(p.predictions)\n",
    "            return glue_compute_metrics(task_name, preds, p.label_ids)\n",
    "\n",
    "        return compute_metrics_fn\n",
    "\n",
    "    # Most of these arguments are placeholders\n",
    "    # and are not really used at all, so ignore\n",
    "    # the exact values of these.\n",
    "    trainer = transformers.Trainer(\n",
    "        model=task_model,\n",
    "        args=TrainingArguments(\n",
    "            output_dir=\"./tmp-output\",\n",
    "            per_device_train_batch_size=128,\n",
    "            per_device_eval_batch_size=128,\n",
    "            learning_rate=5e-5,\n",
    "            logging_steps=100),\n",
    "    )\n",
    "\n",
    "    print(task_model.training, task_model.training is False)\n",
    "    return hans_helper, trainer"
   ]
  },
  {
   "cell_type": "code",
   "execution_count": 4,
   "metadata": {},
   "outputs": [
    {
     "name": "stdout",
     "output_type": "stream",
     "text": [
      "Params Trainable: 14767874\n",
      "\tbert.encoder.layer.10.attention.self.query.weight\n",
      "\tbert.encoder.layer.10.attention.self.query.bias\n",
      "\tbert.encoder.layer.10.attention.self.key.weight\n",
      "\tbert.encoder.layer.10.attention.self.key.bias\n",
      "\tbert.encoder.layer.10.attention.self.value.weight\n",
      "\tbert.encoder.layer.10.attention.self.value.bias\n",
      "\tbert.encoder.layer.10.attention.output.dense.weight\n",
      "\tbert.encoder.layer.10.attention.output.dense.bias\n",
      "\tbert.encoder.layer.10.attention.output.LayerNorm.weight\n",
      "\tbert.encoder.layer.10.attention.output.LayerNorm.bias\n",
      "\tbert.encoder.layer.10.intermediate.dense.weight\n",
      "\tbert.encoder.layer.10.intermediate.dense.bias\n",
      "\tbert.encoder.layer.10.output.dense.weight\n",
      "\tbert.encoder.layer.10.output.dense.bias\n",
      "\tbert.encoder.layer.10.output.LayerNorm.weight\n",
      "\tbert.encoder.layer.10.output.LayerNorm.bias\n",
      "\tbert.encoder.layer.11.attention.self.query.weight\n",
      "\tbert.encoder.layer.11.attention.self.query.bias\n",
      "\tbert.encoder.layer.11.attention.self.key.weight\n",
      "\tbert.encoder.layer.11.attention.self.key.bias\n",
      "\tbert.encoder.layer.11.attention.self.value.weight\n",
      "\tbert.encoder.layer.11.attention.self.value.bias\n",
      "\tbert.encoder.layer.11.attention.output.dense.weight\n",
      "\tbert.encoder.layer.11.attention.output.dense.bias\n",
      "\tbert.encoder.layer.11.attention.output.LayerNorm.weight\n",
      "\tbert.encoder.layer.11.attention.output.LayerNorm.bias\n",
      "\tbert.encoder.layer.11.intermediate.dense.weight\n",
      "\tbert.encoder.layer.11.intermediate.dense.bias\n",
      "\tbert.encoder.layer.11.output.dense.weight\n",
      "\tbert.encoder.layer.11.output.dense.bias\n",
      "\tbert.encoder.layer.11.output.LayerNorm.weight\n",
      "\tbert.encoder.layer.11.output.LayerNorm.bias\n",
      "\tbert.pooler.dense.weight\n",
      "\tbert.pooler.dense.bias\n",
      "\tclassifier.weight\n",
      "\tclassifier.bias\n"
     ]
    },
    {
     "name": "stderr",
     "output_type": "stream",
     "text": [
      "You are instantiating a Trainer but Tensorboard is not installed. You should consider installing it.\n"
     ]
    },
    {
     "name": "stdout",
     "output_type": "stream",
     "text": [
      "False True\n"
     ]
    }
   ],
   "source": [
    "hans_helper, trainer = main(\n",
    "    train_task_name=\"hans\",\n",
    "    train_heuristic=DEFAULT_EVAL_HEURISTICS[1],\n",
    "    use_parallel=False)"
   ]
  },
  {
   "cell_type": "code",
   "execution_count": 5,
   "metadata": {},
   "outputs": [],
   "source": [
    "from collections import defaultdict\n",
    "def evaluate_heuristic(\n",
    "        hans_helper: HansHelper,\n",
    "        heuristic: str,\n",
    "        trainer: transformers.Trainer,\n",
    "        model: torch.nn.Module,\n",
    ") -> Tuple[float, float]:\n",
    "\n",
    "    _, batch_dataloader = hans_helper.get_dataset_and_dataloader_of_heuristic(\n",
    "        mode=\"eval\",\n",
    "        heuristic=heuristic,\n",
    "        batch_size=1000,\n",
    "        random=False)\n",
    "\n",
    "    loss = 0.\n",
    "    num_corrects = 0.\n",
    "    num_examples = 0\n",
    "    output_collection = defaultdict(list)\n",
    "    for index, inputs in enumerate(batch_dataloader):\n",
    "        batch_size = inputs[\"labels\"].shape[0]\n",
    "        batch_preds, batch_label_ids, batch_mean_loss = misc_utils.predict(\n",
    "            trainer=trainer,\n",
    "            model=model,\n",
    "            inputs=inputs)\n",
    "\n",
    "        num_examples += batch_size\n",
    "        loss += batch_mean_loss * batch_size\n",
    "        num_corrects += (batch_preds.argmax(axis=-1) == batch_label_ids).sum()\n",
    "        \n",
    "        output_collection[\"batch_size\"].append(batch_size)\n",
    "        output_collection[\"batch_preds\"].append(batch_preds)\n",
    "        output_collection[\"batch_label_ids\"].append(batch_label_ids)\n",
    "    return output_collection, loss / num_examples, num_corrects / num_examples\n"
   ]
  },
  {
   "cell_type": "code",
   "execution_count": 6,
   "metadata": {},
   "outputs": [
    {
     "name": "stderr",
     "output_type": "stream",
     "text": [
      "  0%|          | 0/10 [00:00<?, ?it/s]"
     ]
    },
    {
     "name": "stdout",
     "output_type": "stream",
     "text": [
      "False\n"
     ]
    },
    {
     "name": "stderr",
     "output_type": "stream",
     "text": [
      " 10%|█         | 1/10 [00:48<07:12, 48.04s/it]"
     ]
    },
    {
     "name": "stdout",
     "output_type": "stream",
     "text": [
      "False\n"
     ]
    },
    {
     "name": "stderr",
     "output_type": "stream",
     "text": [
      " 20%|██        | 2/10 [01:35<06:22, 47.81s/it]"
     ]
    },
    {
     "name": "stdout",
     "output_type": "stream",
     "text": [
      "False\n"
     ]
    },
    {
     "name": "stderr",
     "output_type": "stream",
     "text": [
      " 30%|███       | 3/10 [02:22<05:33, 47.66s/it]"
     ]
    },
    {
     "name": "stdout",
     "output_type": "stream",
     "text": [
      "False\n"
     ]
    },
    {
     "name": "stderr",
     "output_type": "stream",
     "text": [
      " 40%|████      | 4/10 [03:09<04:45, 47.55s/it]"
     ]
    },
    {
     "name": "stdout",
     "output_type": "stream",
     "text": [
      "False\n"
     ]
    },
    {
     "name": "stderr",
     "output_type": "stream",
     "text": [
      " 50%|█████     | 5/10 [03:57<03:57, 47.48s/it]"
     ]
    },
    {
     "name": "stdout",
     "output_type": "stream",
     "text": [
      "False\n"
     ]
    },
    {
     "name": "stderr",
     "output_type": "stream",
     "text": [
      " 60%|██████    | 6/10 [04:44<03:09, 47.44s/it]"
     ]
    },
    {
     "name": "stdout",
     "output_type": "stream",
     "text": [
      "False\n"
     ]
    },
    {
     "name": "stderr",
     "output_type": "stream",
     "text": [
      " 70%|███████   | 7/10 [05:32<02:22, 47.43s/it]"
     ]
    },
    {
     "name": "stdout",
     "output_type": "stream",
     "text": [
      "False\n"
     ]
    },
    {
     "name": "stderr",
     "output_type": "stream",
     "text": [
      " 80%|████████  | 8/10 [06:19<01:34, 47.41s/it]"
     ]
    },
    {
     "name": "stdout",
     "output_type": "stream",
     "text": [
      "False\n"
     ]
    },
    {
     "name": "stderr",
     "output_type": "stream",
     "text": [
      " 90%|█████████ | 9/10 [07:06<00:47, 47.40s/it]"
     ]
    },
    {
     "name": "stdout",
     "output_type": "stream",
     "text": [
      "False\n"
     ]
    },
    {
     "name": "stderr",
     "output_type": "stream",
     "text": [
      "100%|██████████| 10/10 [07:54<00:00, 47.42s/it]\n"
     ]
    }
   ],
   "source": [
    "from tqdm import trange\n",
    "\n",
    "losses = []\n",
    "accuracies = []\n",
    "output_collections = []\n",
    "for i in trange(10):\n",
    "    new_model = torch.load(f\"./figures/hans-model-debug-2.{i}.pt\")\n",
    "    print(new_model.training)\n",
    "\n",
    "    output_collection, new_model_loss, new_model_accuracy = evaluate_heuristic(\n",
    "        hans_helper=hans_helper,\n",
    "        heuristic=\"lexical_overlap\",\n",
    "        trainer=trainer,\n",
    "        model=new_model)\n",
    "    \n",
    "    losses.append(new_model_loss)\n",
    "    accuracies.append(new_model_accuracy)\n",
    "    output_collections.append(output_collection)"
   ]
  },
  {
   "cell_type": "code",
   "execution_count": 9,
   "metadata": {},
   "outputs": [
    {
     "data": {
      "text/plain": [
       "[<matplotlib.lines.Line2D at 0x7efc77b17590>]"
      ]
     },
     "execution_count": 9,
     "metadata": {},
     "output_type": "execute_result"
    },
    {
     "data": {
      "image/png": "[encoded data removed]",
      "text/plain": [
       "<Figure size 432x288 with 1 Axes>"
      ]
     },
     "metadata": {
      "needs_background": "light"
     },
     "output_type": "display_data"
    }
   ],
   "source": [
    "import matplotlib.pyplot as plt\n",
    "plt.plot(losses)"
   ]
  },
  {
   "cell_type": "code",
   "execution_count": 10,
   "metadata": {},
   "outputs": [
    {
     "data": {
      "text/plain": [
       "[<matplotlib.lines.Line2D at 0x7efc77ae2410>]"
      ]
     },
     "execution_count": 10,
     "metadata": {},
     "output_type": "execute_result"
    },
    {
     "data": {
      "image/png": "[encoded data removed]",
      "text/plain": [
       "<Figure size 432x288 with 1 Axes>"
      ]
     },
     "metadata": {
      "needs_background": "light"
     },
     "output_type": "display_data"
    }
   ],
   "source": [
    "plt.plot(accuracies)"
   ]
  },
  {
   "cell_type": "code",
   "execution_count": 14,
   "metadata": {},
   "outputs": [],
   "source": [
    "import numpy as np\n",
    "from scipy.special import softmax"
   ]
  },
  {
   "cell_type": "code",
   "execution_count": 25,
   "metadata": {},
   "outputs": [],
   "source": [
    "predictions = []\n",
    "label_ids = []\n",
    "for j in range(len(output_collections)):\n",
    "    output_collections[j][\"batch_size\"]\n",
    "    predictions.append(\n",
    "        np.concatenate(output_collections[j][\"batch_preds\"], axis=0))\n",
    "    label_ids.append(\n",
    "        np.concatenate(output_collections[j][\"batch_label_ids\"], axis=0))"
   ]
  },
  {
   "cell_type": "code",
   "execution_count": 205,
   "metadata": {},
   "outputs": [],
   "source": [
    "k = -1\n",
    "# np.log(softmax(predictions[k], axis=-1)[np.arange(len(label_ids[k])), label_ids[k]]).mean()"
   ]
  },
  {
   "cell_type": "code",
   "execution_count": 206,
   "metadata": {},
   "outputs": [
    {
     "data": {
      "text/plain": [
       "<matplotlib.legend.Legend at 0x7efc6cf84090>"
      ]
     },
     "execution_count": 206,
     "metadata": {},
     "output_type": "execute_result"
    },
    {
     "data": {
      "image/png": "[encoded data removed]",
      "text/plain": [
       "<Figure size 1440x360 with 1 Axes>"
      ]
     },
     "metadata": {
      "needs_background": "light"
     },
     "output_type": "display_data"
    }
   ],
   "source": [
    "plt.figure(figsize=(20,5))\n",
    "plt.subplot(121)\n",
    "probs_0 = softmax(predictions[k], axis=-1)[label_ids[k] == 0]\n",
    "probs_1 = softmax(predictions[k], axis=-1)[label_ids[k] == 1]\n",
    "# plt.hist(probs[:, 0], label=0)\n",
    "plt.hist(probs_0[:, 0], label=\"GT=0\", alpha=0.25)\n",
    "plt.hist(probs_1[:, 0], label=\"GT=1\", alpha=0.25)\n",
    "plt.legend()"
   ]
  },
  {
   "cell_type": "code",
   "execution_count": 207,
   "metadata": {},
   "outputs": [
    {
     "data": {
      "text/plain": [
       "(-1.246266, -0.48458168, -0.865423858165741, 0.8654238730669022)"
      ]
     },
     "execution_count": 207,
     "metadata": {},
     "output_type": "execute_result"
    }
   ],
   "source": [
    "np.log(probs_0)[:, 0].mean(), np.log(probs_1)[:, 1].mean(), (np.log(probs_0)[:, 0].mean() + np.log(probs_1)[:, 1].mean()) /2 , losses[k]"
   ]
  },
  {
   "cell_type": "code",
   "execution_count": null,
   "metadata": {},
   "outputs": [],
   "source": []
  },
  {
   "cell_type": "code",
   "execution_count": null,
   "metadata": {},
   "outputs": [],
   "source": []
  },
  {
   "cell_type": "code",
   "execution_count": null,
   "metadata": {},
   "outputs": [],
   "source": []
  },
  {
   "cell_type": "code",
   "execution_count": null,
   "metadata": {},
   "outputs": [],
   "source": []
  },
  {
   "cell_type": "code",
   "execution_count": null,
   "metadata": {},
   "outputs": [],
   "source": []
  },
  {
   "cell_type": "code",
   "execution_count": null,
   "metadata": {},
   "outputs": [],
   "source": []
  }
 ],
 "metadata": {
  "kernelspec": {
   "display_name": "Python 3",
   "language": "python",
   "name": "python3"
  },
  "language_info": {
   "codemirror_mode": {
    "name": "ipython",
    "version": 3
   },
   "file_extension": ".py",
   "mimetype": "text/x-python",
   "name": "python",
   "nbconvert_exporter": "python",
   "pygments_lexer": "ipython3",
   "version": "3.7.7"
  }
 },
 "nbformat": 4,
 "nbformat_minor": 4
}
