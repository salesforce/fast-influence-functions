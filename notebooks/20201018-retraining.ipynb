{
 "cells": [
  {
   "cell_type": "code",
   "execution_count": 1,
   "metadata": {},
   "outputs": [
    {
     "name": "stdout",
     "output_type": "stream",
     "text": [
      "/workspace/fast-influence-functions\n"
     ]
    }
   ],
   "source": [
    "cd /workspace/fast-influence-functions"
   ]
  },
  {
   "cell_type": "code",
   "execution_count": 2,
   "metadata": {},
   "outputs": [],
   "source": [
    "import os\n",
    "os.environ[\"CUDA_DEVICE_ORDER\"]=\"PCI_BUS_ID\"   # see issue #152\n",
    "os.environ[\"CUDA_VISIBLE_DEVICES\"]=\"3\""
   ]
  },
  {
   "cell_type": "code",
   "execution_count": 3,
   "metadata": {},
   "outputs": [
    {
     "name": "stderr",
     "output_type": "stream",
     "text": [
      "\u001b[34m\u001b[1mwandb\u001b[0m: \u001b[33mWARNING\u001b[0m W&B installed but not logged in.  Run `wandb login` or set the WANDB_API_KEY env variable.\n"
     ]
    }
   ],
   "source": [
    "import torch\n",
    "import transformers\n",
    "from tqdm import tqdm\n",
    "from transformers import TrainingArguments\n",
    "from transformers import default_data_collator\n",
    "from transformers import AutoModelForSequenceClassification\n",
    "from typing import Tuple, Dict, Any, Optional, List\n",
    "\n",
    "from run_experiments import NUM_RETRAINING_EXPERIMENTS\n",
    "from experiments import constants\n",
    "from experiments import misc_utils\n",
    "from experiments.data_utils import glue_output_modes\n",
    "from experiments.mnli import (\n",
    "    NUM_DATAPOINTS_TO_REMOVE_CHOICES,\n",
    "    CORRECT_INDICES,\n",
    "    INCORRECT_INDICES)"
   ]
  },
  {
   "cell_type": "code",
   "execution_count": 4,
   "metadata": {},
   "outputs": [
    {
     "name": "stdout",
     "output_type": "stream",
     "text": [
      "Params Trainable: 14768643\n",
      "\tbert.encoder.layer.10.attention.self.query.weight\n",
      "\tbert.encoder.layer.10.attention.self.query.bias\n",
      "\tbert.encoder.layer.10.attention.self.key.weight\n",
      "\tbert.encoder.layer.10.attention.self.key.bias\n",
      "\tbert.encoder.layer.10.attention.self.value.weight\n",
      "\tbert.encoder.layer.10.attention.self.value.bias\n",
      "\tbert.encoder.layer.10.attention.output.dense.weight\n",
      "\tbert.encoder.layer.10.attention.output.dense.bias\n",
      "\tbert.encoder.layer.10.attention.output.LayerNorm.weight\n",
      "\tbert.encoder.layer.10.attention.output.LayerNorm.bias\n",
      "\tbert.encoder.layer.10.intermediate.dense.weight\n",
      "\tbert.encoder.layer.10.intermediate.dense.bias\n",
      "\tbert.encoder.layer.10.output.dense.weight\n",
      "\tbert.encoder.layer.10.output.dense.bias\n",
      "\tbert.encoder.layer.10.output.LayerNorm.weight\n",
      "\tbert.encoder.layer.10.output.LayerNorm.bias\n",
      "\tbert.encoder.layer.11.attention.self.query.weight\n",
      "\tbert.encoder.layer.11.attention.self.query.bias\n",
      "\tbert.encoder.layer.11.attention.self.key.weight\n",
      "\tbert.encoder.layer.11.attention.self.key.bias\n",
      "\tbert.encoder.layer.11.attention.self.value.weight\n",
      "\tbert.encoder.layer.11.attention.self.value.bias\n",
      "\tbert.encoder.layer.11.attention.output.dense.weight\n",
      "\tbert.encoder.layer.11.attention.output.dense.bias\n",
      "\tbert.encoder.layer.11.attention.output.LayerNorm.weight\n",
      "\tbert.encoder.layer.11.attention.output.LayerNorm.bias\n",
      "\tbert.encoder.layer.11.intermediate.dense.weight\n",
      "\tbert.encoder.layer.11.intermediate.dense.bias\n",
      "\tbert.encoder.layer.11.output.dense.weight\n",
      "\tbert.encoder.layer.11.output.dense.bias\n",
      "\tbert.encoder.layer.11.output.LayerNorm.weight\n",
      "\tbert.encoder.layer.11.output.LayerNorm.bias\n",
      "\tbert.pooler.dense.weight\n",
      "\tbert.pooler.dense.bias\n",
      "\tclassifier.weight\n",
      "\tclassifier.bias\n"
     ]
    }
   ],
   "source": [
    "tokenizer, _ = misc_utils.create_tokenizer_and_model(\n",
    "    constants.MNLI_MODEL_PATH)\n",
    "\n",
    "(_,\n",
    " mnli_eval_dataset) = misc_utils.create_datasets(\n",
    "    task_name=\"mnli\",\n",
    "    tokenizer=tokenizer)\n",
    "\n",
    "eval_instance_data_loader = misc_utils.get_dataloader(\n",
    "    dataset=mnli_eval_dataset,\n",
    "    batch_size=1,\n",
    "    random=False)"
   ]
  },
  {
   "cell_type": "code",
   "execution_count": null,
   "metadata": {},
   "outputs": [],
   "source": []
  },
  {
   "cell_type": "code",
   "execution_count": 5,
   "metadata": {},
   "outputs": [],
   "source": [
    "def get_test_inputs_collections() -> List[int]:\n",
    "    test_inputs_collections = {}\n",
    "    for test_index, test_inputs in enumerate(eval_instance_data_loader):\n",
    "        if test_index in (\n",
    "                CORRECT_INDICES[:NUM_RETRAINING_EXPERIMENTS] +\n",
    "                INCORRECT_INDICES[:NUM_RETRAINING_EXPERIMENTS]):\n",
    "\n",
    "            test_inputs_collections[test_index] = test_inputs\n",
    "\n",
    "    return test_inputs_collections\n",
    "\n",
    "# Get the inputs collections\n",
    "test_inputs_collections = get_test_inputs_collections()"
   ]
  },
  {
   "cell_type": "code",
   "execution_count": null,
   "metadata": {},
   "outputs": [],
   "source": []
  },
  {
   "cell_type": "code",
   "execution_count": 6,
   "metadata": {},
   "outputs": [
    {
     "name": "stderr",
     "output_type": "stream",
     "text": [
      "0it [00:00, ?it/s]You are instantiating a Trainer but Tensorboard is not installed. You should consider installing it.\n"
     ]
    },
    {
     "name": "stdout",
     "output_type": "stream",
     "text": [
      "Loading from /export/home/hguo/Experiments/20201019/full/./retraining-remove-0-correct-full-helpful-1.g0306.ll.unc.edu/output_dir\n"
     ]
    },
    {
     "name": "stderr",
     "output_type": "stream",
     "text": [
      "1it [00:07,  7.45s/it]You are instantiating a Trainer but Tensorboard is not installed. You should consider installing it.\n",
      "2it [00:11,  6.30s/it]"
     ]
    },
    {
     "name": "stdout",
     "output_type": "stream",
     "text": [
      "Loading from /export/home/hguo/Experiments/20201019/full/./retraining-remove-0-correct-full-helpful-100.g0306.ll.unc.edu/output_dir\n"
     ]
    },
    {
     "name": "stderr",
     "output_type": "stream",
     "text": [
      "You are instantiating a Trainer but Tensorboard is not installed. You should consider installing it.\n",
      "3it [00:14,  5.48s/it]"
     ]
    },
    {
     "name": "stdout",
     "output_type": "stream",
     "text": [
      "Loading from /export/home/hguo/Experiments/20201019/full/./retraining-remove-0-correct-full-helpful-10000.g0306.ll.unc.edu/output_dir\n"
     ]
    },
    {
     "name": "stderr",
     "output_type": "stream",
     "text": [
      "You are instantiating a Trainer but Tensorboard is not installed. You should consider installing it.\n",
      "4it [00:18,  4.86s/it]"
     ]
    },
    {
     "name": "stdout",
     "output_type": "stream",
     "text": [
      "Loading from /export/home/hguo/Experiments/20201019/full/./retraining-remove-0-correct-full-harmful-1.g0306.ll.unc.edu/output_dir\n"
     ]
    },
    {
     "name": "stderr",
     "output_type": "stream",
     "text": [
      "You are instantiating a Trainer but Tensorboard is not installed. You should consider installing it.\n",
      "5it [00:21,  4.46s/it]"
     ]
    },
    {
     "name": "stdout",
     "output_type": "stream",
     "text": [
      "Loading from /export/home/hguo/Experiments/20201019/full/./retraining-remove-0-correct-full-harmful-100.g0306.ll.unc.edu/output_dir\n"
     ]
    },
    {
     "name": "stderr",
     "output_type": "stream",
     "text": [
      "You are instantiating a Trainer but Tensorboard is not installed. You should consider installing it.\n",
      "6it [00:25,  4.17s/it]"
     ]
    },
    {
     "name": "stdout",
     "output_type": "stream",
     "text": [
      "Loading from /export/home/hguo/Experiments/20201019/full/./retraining-remove-0-correct-full-harmful-10000.g0306.ll.unc.edu/output_dir\n"
     ]
    },
    {
     "name": "stderr",
     "output_type": "stream",
     "text": [
      "You are instantiating a Trainer but Tensorboard is not installed. You should consider installing it.\n",
      "7it [00:28,  3.96s/it]"
     ]
    },
    {
     "name": "stdout",
     "output_type": "stream",
     "text": [
      "Loading from /export/home/hguo/Experiments/20201019/full/./retraining-remove-3-incorrect-full-helpful-1.g0306.ll.unc.edu/output_dir\n"
     ]
    },
    {
     "name": "stderr",
     "output_type": "stream",
     "text": [
      "You are instantiating a Trainer but Tensorboard is not installed. You should consider installing it.\n",
      "8it [00:32,  3.84s/it]"
     ]
    },
    {
     "name": "stdout",
     "output_type": "stream",
     "text": [
      "Loading from /export/home/hguo/Experiments/20201019/full/./retraining-remove-3-incorrect-full-helpful-100.g0306.ll.unc.edu/output_dir\n"
     ]
    },
    {
     "name": "stderr",
     "output_type": "stream",
     "text": [
      "You are instantiating a Trainer but Tensorboard is not installed. You should consider installing it.\n",
      "9it [00:35,  3.75s/it]"
     ]
    },
    {
     "name": "stdout",
     "output_type": "stream",
     "text": [
      "Loading from /export/home/hguo/Experiments/20201019/full/./retraining-remove-3-incorrect-full-helpful-10000.g0306.ll.unc.edu/output_dir\n"
     ]
    },
    {
     "name": "stderr",
     "output_type": "stream",
     "text": [
      "You are instantiating a Trainer but Tensorboard is not installed. You should consider installing it.\n",
      "10it [00:39,  3.66s/it]"
     ]
    },
    {
     "name": "stdout",
     "output_type": "stream",
     "text": [
      "Loading from /export/home/hguo/Experiments/20201019/full/./retraining-remove-3-incorrect-full-harmful-1.g0306.ll.unc.edu/output_dir\n"
     ]
    },
    {
     "name": "stderr",
     "output_type": "stream",
     "text": [
      "You are instantiating a Trainer but Tensorboard is not installed. You should consider installing it.\n",
      "11it [00:42,  3.62s/it]"
     ]
    },
    {
     "name": "stdout",
     "output_type": "stream",
     "text": [
      "Loading from /export/home/hguo/Experiments/20201019/full/./retraining-remove-3-incorrect-full-harmful-100.g0306.ll.unc.edu/output_dir\n"
     ]
    },
    {
     "name": "stderr",
     "output_type": "stream",
     "text": [
      "You are instantiating a Trainer but Tensorboard is not installed. You should consider installing it.\n",
      "12it [00:46,  3.59s/it]"
     ]
    },
    {
     "name": "stdout",
     "output_type": "stream",
     "text": [
      "Loading from /export/home/hguo/Experiments/20201019/full/./retraining-remove-3-incorrect-full-harmful-10000.g0306.ll.unc.edu/output_dir\n"
     ]
    },
    {
     "name": "stderr",
     "output_type": "stream",
     "text": [
      "You are instantiating a Trainer but Tensorboard is not installed. You should consider installing it.\n",
      "13it [00:49,  3.55s/it]"
     ]
    },
    {
     "name": "stdout",
     "output_type": "stream",
     "text": [
      "Loading from /export/home/hguo/Experiments/20201019/full/./retraining-remove-1-correct-full-helpful-1.g0306.ll.unc.edu/output_dir\n"
     ]
    },
    {
     "name": "stderr",
     "output_type": "stream",
     "text": [
      "You are instantiating a Trainer but Tensorboard is not installed. You should consider installing it.\n",
      "14it [00:53,  3.55s/it]"
     ]
    },
    {
     "name": "stdout",
     "output_type": "stream",
     "text": [
      "Loading from /export/home/hguo/Experiments/20201019/full/./retraining-remove-1-correct-full-helpful-100.g0306.ll.unc.edu/output_dir\n"
     ]
    },
    {
     "name": "stderr",
     "output_type": "stream",
     "text": [
      "You are instantiating a Trainer but Tensorboard is not installed. You should consider installing it.\n",
      "15it [00:56,  3.54s/it]"
     ]
    },
    {
     "name": "stdout",
     "output_type": "stream",
     "text": [
      "Loading from /export/home/hguo/Experiments/20201019/full/./retraining-remove-1-correct-full-helpful-10000.g0306.ll.unc.edu/output_dir\n"
     ]
    },
    {
     "name": "stderr",
     "output_type": "stream",
     "text": [
      "You are instantiating a Trainer but Tensorboard is not installed. You should consider installing it.\n",
      "16it [01:00,  3.55s/it]"
     ]
    },
    {
     "name": "stdout",
     "output_type": "stream",
     "text": [
      "Loading from /export/home/hguo/Experiments/20201019/full/./retraining-remove-1-correct-full-harmful-1.g0306.ll.unc.edu/output_dir\n"
     ]
    },
    {
     "name": "stderr",
     "output_type": "stream",
     "text": [
      "You are instantiating a Trainer but Tensorboard is not installed. You should consider installing it.\n",
      "17it [01:03,  3.54s/it]"
     ]
    },
    {
     "name": "stdout",
     "output_type": "stream",
     "text": [
      "Loading from /export/home/hguo/Experiments/20201019/full/./retraining-remove-1-correct-full-harmful-100.g0306.ll.unc.edu/output_dir\n"
     ]
    },
    {
     "name": "stderr",
     "output_type": "stream",
     "text": [
      "You are instantiating a Trainer but Tensorboard is not installed. You should consider installing it.\n",
      "18it [01:07,  3.54s/it]"
     ]
    },
    {
     "name": "stdout",
     "output_type": "stream",
     "text": [
      "Loading from /export/home/hguo/Experiments/20201019/full/./retraining-remove-1-correct-full-harmful-10000.g0306.ll.unc.edu/output_dir\n"
     ]
    },
    {
     "name": "stderr",
     "output_type": "stream",
     "text": [
      "You are instantiating a Trainer but Tensorboard is not installed. You should consider installing it.\n",
      "19it [01:10,  3.51s/it]"
     ]
    },
    {
     "name": "stdout",
     "output_type": "stream",
     "text": [
      "Loading from /export/home/hguo/Experiments/20201019/full/./retraining-remove-14-incorrect-full-helpful-1.g0306.ll.unc.edu/output_dir\n"
     ]
    },
    {
     "name": "stderr",
     "output_type": "stream",
     "text": [
      "You are instantiating a Trainer but Tensorboard is not installed. You should consider installing it.\n",
      "20it [01:14,  3.52s/it]"
     ]
    },
    {
     "name": "stdout",
     "output_type": "stream",
     "text": [
      "Loading from /export/home/hguo/Experiments/20201019/full/./retraining-remove-14-incorrect-full-helpful-100.g0306.ll.unc.edu/output_dir\n"
     ]
    },
    {
     "name": "stderr",
     "output_type": "stream",
     "text": [
      "You are instantiating a Trainer but Tensorboard is not installed. You should consider installing it.\n",
      "21it [01:17,  3.52s/it]"
     ]
    },
    {
     "name": "stdout",
     "output_type": "stream",
     "text": [
      "Loading from /export/home/hguo/Experiments/20201019/full/./retraining-remove-14-incorrect-full-helpful-10000.g0306.ll.unc.edu/output_dir\n"
     ]
    },
    {
     "name": "stderr",
     "output_type": "stream",
     "text": [
      "You are instantiating a Trainer but Tensorboard is not installed. You should consider installing it.\n",
      "22it [01:21,  3.54s/it]"
     ]
    },
    {
     "name": "stdout",
     "output_type": "stream",
     "text": [
      "Loading from /export/home/hguo/Experiments/20201019/full/./retraining-remove-14-incorrect-full-harmful-1.g0306.ll.unc.edu/output_dir\n"
     ]
    },
    {
     "name": "stderr",
     "output_type": "stream",
     "text": [
      "You are instantiating a Trainer but Tensorboard is not installed. You should consider installing it.\n",
      "23it [01:24,  3.54s/it]"
     ]
    },
    {
     "name": "stdout",
     "output_type": "stream",
     "text": [
      "Loading from /export/home/hguo/Experiments/20201019/full/./retraining-remove-14-incorrect-full-harmful-100.g0306.ll.unc.edu/output_dir\n"
     ]
    },
    {
     "name": "stderr",
     "output_type": "stream",
     "text": [
      "You are instantiating a Trainer but Tensorboard is not installed. You should consider installing it.\n",
      "24it [01:28,  3.53s/it]"
     ]
    },
    {
     "name": "stdout",
     "output_type": "stream",
     "text": [
      "Loading from /export/home/hguo/Experiments/20201019/full/./retraining-remove-14-incorrect-full-harmful-10000.g0306.ll.unc.edu/output_dir\n"
     ]
    },
    {
     "name": "stderr",
     "output_type": "stream",
     "text": [
      "You are instantiating a Trainer but Tensorboard is not installed. You should consider installing it.\n",
      "25it [01:32,  3.54s/it]"
     ]
    },
    {
     "name": "stdout",
     "output_type": "stream",
     "text": [
      "Loading from /export/home/hguo/Experiments/20201019/full/./retraining-remove-2-correct-full-helpful-1.g0306.ll.unc.edu/output_dir\n"
     ]
    },
    {
     "name": "stderr",
     "output_type": "stream",
     "text": [
      "You are instantiating a Trainer but Tensorboard is not installed. You should consider installing it.\n",
      "26it [01:35,  3.54s/it]"
     ]
    },
    {
     "name": "stdout",
     "output_type": "stream",
     "text": [
      "Loading from /export/home/hguo/Experiments/20201019/full/./retraining-remove-2-correct-full-helpful-100.g0306.ll.unc.edu/output_dir\n"
     ]
    },
    {
     "name": "stderr",
     "output_type": "stream",
     "text": [
      "You are instantiating a Trainer but Tensorboard is not installed. You should consider installing it.\n",
      "27it [01:39,  3.54s/it]"
     ]
    },
    {
     "name": "stdout",
     "output_type": "stream",
     "text": [
      "Loading from /export/home/hguo/Experiments/20201019/full/./retraining-remove-2-correct-full-helpful-10000.g0306.ll.unc.edu/output_dir\n"
     ]
    },
    {
     "name": "stderr",
     "output_type": "stream",
     "text": [
      "You are instantiating a Trainer but Tensorboard is not installed. You should consider installing it.\n",
      "28it [01:42,  3.52s/it]"
     ]
    },
    {
     "name": "stdout",
     "output_type": "stream",
     "text": [
      "Loading from /export/home/hguo/Experiments/20201019/full/./retraining-remove-2-correct-full-harmful-1.g0306.ll.unc.edu/output_dir\n"
     ]
    },
    {
     "name": "stderr",
     "output_type": "stream",
     "text": [
      "You are instantiating a Trainer but Tensorboard is not installed. You should consider installing it.\n",
      "29it [01:46,  3.52s/it]"
     ]
    },
    {
     "name": "stdout",
     "output_type": "stream",
     "text": [
      "Loading from /export/home/hguo/Experiments/20201019/full/./retraining-remove-2-correct-full-harmful-100.g0306.ll.unc.edu/output_dir\n"
     ]
    },
    {
     "name": "stderr",
     "output_type": "stream",
     "text": [
      "You are instantiating a Trainer but Tensorboard is not installed. You should consider installing it.\n",
      "30it [01:49,  3.52s/it]"
     ]
    },
    {
     "name": "stdout",
     "output_type": "stream",
     "text": [
      "Loading from /export/home/hguo/Experiments/20201019/full/./retraining-remove-2-correct-full-harmful-10000.g0306.ll.unc.edu/output_dir\n"
     ]
    },
    {
     "name": "stderr",
     "output_type": "stream",
     "text": [
      "You are instantiating a Trainer but Tensorboard is not installed. You should consider installing it.\n",
      "31it [01:53,  3.51s/it]"
     ]
    },
    {
     "name": "stdout",
     "output_type": "stream",
     "text": [
      "Loading from /export/home/hguo/Experiments/20201019/full/./retraining-remove-15-incorrect-full-helpful-1.g0306.ll.unc.edu/output_dir\n"
     ]
    },
    {
     "name": "stderr",
     "output_type": "stream",
     "text": [
      "You are instantiating a Trainer but Tensorboard is not installed. You should consider installing it.\n",
      "32it [01:56,  3.51s/it]"
     ]
    },
    {
     "name": "stdout",
     "output_type": "stream",
     "text": [
      "Loading from /export/home/hguo/Experiments/20201019/full/./retraining-remove-15-incorrect-full-helpful-100.g0306.ll.unc.edu/output_dir\n"
     ]
    },
    {
     "name": "stderr",
     "output_type": "stream",
     "text": [
      "You are instantiating a Trainer but Tensorboard is not installed. You should consider installing it.\n",
      "33it [02:00,  3.51s/it]"
     ]
    },
    {
     "name": "stdout",
     "output_type": "stream",
     "text": [
      "Loading from /export/home/hguo/Experiments/20201019/full/./retraining-remove-15-incorrect-full-helpful-10000.g0306.ll.unc.edu/output_dir\n"
     ]
    },
    {
     "name": "stderr",
     "output_type": "stream",
     "text": [
      "You are instantiating a Trainer but Tensorboard is not installed. You should consider installing it.\n",
      "34it [02:03,  3.50s/it]"
     ]
    },
    {
     "name": "stdout",
     "output_type": "stream",
     "text": [
      "Loading from /export/home/hguo/Experiments/20201019/full/./retraining-remove-15-incorrect-full-harmful-1.g0306.ll.unc.edu/output_dir\n"
     ]
    },
    {
     "name": "stderr",
     "output_type": "stream",
     "text": [
      "You are instantiating a Trainer but Tensorboard is not installed. You should consider installing it.\n",
      "35it [02:07,  3.50s/it]"
     ]
    },
    {
     "name": "stdout",
     "output_type": "stream",
     "text": [
      "Loading from /export/home/hguo/Experiments/20201019/full/./retraining-remove-15-incorrect-full-harmful-100.g0306.ll.unc.edu/output_dir\n"
     ]
    },
    {
     "name": "stderr",
     "output_type": "stream",
     "text": [
      "You are instantiating a Trainer but Tensorboard is not installed. You should consider installing it.\n",
      "36it [02:10,  3.50s/it]"
     ]
    },
    {
     "name": "stdout",
     "output_type": "stream",
     "text": [
      "Loading from /export/home/hguo/Experiments/20201019/full/./retraining-remove-15-incorrect-full-harmful-10000.g0306.ll.unc.edu/output_dir\n"
     ]
    },
    {
     "name": "stderr",
     "output_type": "stream",
     "text": [
      "You are instantiating a Trainer but Tensorboard is not installed. You should consider installing it.\n",
      "37it [02:14,  3.49s/it]"
     ]
    },
    {
     "name": "stdout",
     "output_type": "stream",
     "text": [
      "Loading from /export/home/hguo/Experiments/20201019/KNN/./retraining-remove-0-correct-KNN-1000-helpful-1.g0303.ll.unc.edu/output_dir\n"
     ]
    },
    {
     "name": "stderr",
     "output_type": "stream",
     "text": [
      "You are instantiating a Trainer but Tensorboard is not installed. You should consider installing it.\n",
      "38it [02:17,  3.50s/it]"
     ]
    },
    {
     "name": "stdout",
     "output_type": "stream",
     "text": [
      "Loading from /export/home/hguo/Experiments/20201019/KNN/./retraining-remove-0-correct-KNN-1000-helpful-100.g0303.ll.unc.edu/output_dir\n"
     ]
    },
    {
     "name": "stderr",
     "output_type": "stream",
     "text": [
      "You are instantiating a Trainer but Tensorboard is not installed. You should consider installing it.\n",
      "39it [02:21,  3.50s/it]"
     ]
    },
    {
     "name": "stdout",
     "output_type": "stream",
     "text": [
      "Loading from /export/home/hguo/Experiments/20201019/KNN/./retraining-remove-0-correct-KNN-1000-helpful-10000.g0303.ll.unc.edu/output_dir\n"
     ]
    },
    {
     "name": "stderr",
     "output_type": "stream",
     "text": [
      "You are instantiating a Trainer but Tensorboard is not installed. You should consider installing it.\n",
      "40it [02:24,  3.49s/it]"
     ]
    },
    {
     "name": "stdout",
     "output_type": "stream",
     "text": [
      "Loading from /export/home/hguo/Experiments/20201019/KNN/./retraining-remove-0-correct-KNN-1000-harmful-1.g0303.ll.unc.edu/output_dir\n"
     ]
    },
    {
     "name": "stderr",
     "output_type": "stream",
     "text": [
      "You are instantiating a Trainer but Tensorboard is not installed. You should consider installing it.\n",
      "41it [02:28,  3.50s/it]"
     ]
    },
    {
     "name": "stdout",
     "output_type": "stream",
     "text": [
      "Loading from /export/home/hguo/Experiments/20201019/KNN/./retraining-remove-0-correct-KNN-1000-harmful-100.g0303.ll.unc.edu/output_dir\n"
     ]
    },
    {
     "name": "stderr",
     "output_type": "stream",
     "text": [
      "You are instantiating a Trainer but Tensorboard is not installed. You should consider installing it.\n",
      "42it [02:31,  3.50s/it]"
     ]
    },
    {
     "name": "stdout",
     "output_type": "stream",
     "text": [
      "Loading from /export/home/hguo/Experiments/20201019/KNN/./retraining-remove-0-correct-KNN-1000-harmful-10000.g0303.ll.unc.edu/output_dir\n"
     ]
    },
    {
     "name": "stderr",
     "output_type": "stream",
     "text": [
      "You are instantiating a Trainer but Tensorboard is not installed. You should consider installing it.\n",
      "43it [02:35,  3.50s/it]"
     ]
    },
    {
     "name": "stdout",
     "output_type": "stream",
     "text": [
      "Loading from /export/home/hguo/Experiments/20201019/KNN/./retraining-remove-3-incorrect-KNN-1000-helpful-1.g0303.ll.unc.edu/output_dir\n"
     ]
    },
    {
     "name": "stderr",
     "output_type": "stream",
     "text": [
      "You are instantiating a Trainer but Tensorboard is not installed. You should consider installing it.\n",
      "44it [02:38,  3.48s/it]"
     ]
    },
    {
     "name": "stdout",
     "output_type": "stream",
     "text": [
      "Loading from /export/home/hguo/Experiments/20201019/KNN/./retraining-remove-3-incorrect-KNN-1000-helpful-100.g0303.ll.unc.edu/output_dir\n"
     ]
    },
    {
     "name": "stderr",
     "output_type": "stream",
     "text": [
      "You are instantiating a Trainer but Tensorboard is not installed. You should consider installing it.\n",
      "45it [02:41,  3.48s/it]"
     ]
    },
    {
     "name": "stdout",
     "output_type": "stream",
     "text": [
      "Loading from /export/home/hguo/Experiments/20201019/KNN/./retraining-remove-3-incorrect-KNN-1000-helpful-10000.g0303.ll.unc.edu/output_dir\n"
     ]
    },
    {
     "name": "stderr",
     "output_type": "stream",
     "text": [
      "You are instantiating a Trainer but Tensorboard is not installed. You should consider installing it.\n",
      "46it [02:45,  3.45s/it]"
     ]
    },
    {
     "name": "stdout",
     "output_type": "stream",
     "text": [
      "Loading from /export/home/hguo/Experiments/20201019/KNN/./retraining-remove-3-incorrect-KNN-1000-harmful-1.g0303.ll.unc.edu/output_dir\n"
     ]
    },
    {
     "name": "stderr",
     "output_type": "stream",
     "text": [
      "You are instantiating a Trainer but Tensorboard is not installed. You should consider installing it.\n",
      "47it [02:48,  3.44s/it]"
     ]
    },
    {
     "name": "stdout",
     "output_type": "stream",
     "text": [
      "Loading from /export/home/hguo/Experiments/20201019/KNN/./retraining-remove-3-incorrect-KNN-1000-harmful-100.g0303.ll.unc.edu/output_dir\n"
     ]
    },
    {
     "name": "stderr",
     "output_type": "stream",
     "text": [
      "You are instantiating a Trainer but Tensorboard is not installed. You should consider installing it.\n",
      "48it [02:52,  3.45s/it]"
     ]
    },
    {
     "name": "stdout",
     "output_type": "stream",
     "text": [
      "Loading from /export/home/hguo/Experiments/20201019/KNN/./retraining-remove-3-incorrect-KNN-1000-harmful-10000.g0303.ll.unc.edu/output_dir\n"
     ]
    },
    {
     "name": "stderr",
     "output_type": "stream",
     "text": [
      "You are instantiating a Trainer but Tensorboard is not installed. You should consider installing it.\n",
      "49it [02:55,  3.45s/it]"
     ]
    },
    {
     "name": "stdout",
     "output_type": "stream",
     "text": [
      "Loading from /export/home/hguo/Experiments/20201019/KNN/./retraining-remove-1-correct-KNN-1000-helpful-1.g0303.ll.unc.edu/output_dir\n"
     ]
    },
    {
     "name": "stderr",
     "output_type": "stream",
     "text": [
      "You are instantiating a Trainer but Tensorboard is not installed. You should consider installing it.\n",
      "50it [02:59,  3.47s/it]"
     ]
    },
    {
     "name": "stdout",
     "output_type": "stream",
     "text": [
      "Loading from /export/home/hguo/Experiments/20201019/KNN/./retraining-remove-1-correct-KNN-1000-helpful-100.g0303.ll.unc.edu/output_dir\n"
     ]
    },
    {
     "name": "stderr",
     "output_type": "stream",
     "text": [
      "You are instantiating a Trainer but Tensorboard is not installed. You should consider installing it.\n",
      "51it [03:02,  3.48s/it]"
     ]
    },
    {
     "name": "stdout",
     "output_type": "stream",
     "text": [
      "Loading from /export/home/hguo/Experiments/20201019/KNN/./retraining-remove-1-correct-KNN-1000-helpful-10000.g0303.ll.unc.edu/output_dir\n"
     ]
    },
    {
     "name": "stderr",
     "output_type": "stream",
     "text": [
      "You are instantiating a Trainer but Tensorboard is not installed. You should consider installing it.\n",
      "52it [03:06,  3.46s/it]"
     ]
    },
    {
     "name": "stdout",
     "output_type": "stream",
     "text": [
      "Loading from /export/home/hguo/Experiments/20201019/KNN/./retraining-remove-1-correct-KNN-1000-harmful-1.g0303.ll.unc.edu/output_dir\n"
     ]
    },
    {
     "name": "stderr",
     "output_type": "stream",
     "text": [
      "You are instantiating a Trainer but Tensorboard is not installed. You should consider installing it.\n",
      "53it [03:09,  3.45s/it]"
     ]
    },
    {
     "name": "stdout",
     "output_type": "stream",
     "text": [
      "Loading from /export/home/hguo/Experiments/20201019/KNN/./retraining-remove-1-correct-KNN-1000-harmful-100.g0303.ll.unc.edu/output_dir\n"
     ]
    },
    {
     "name": "stderr",
     "output_type": "stream",
     "text": [
      "You are instantiating a Trainer but Tensorboard is not installed. You should consider installing it.\n",
      "54it [03:13,  3.46s/it]"
     ]
    },
    {
     "name": "stdout",
     "output_type": "stream",
     "text": [
      "Loading from /export/home/hguo/Experiments/20201019/KNN/./retraining-remove-1-correct-KNN-1000-harmful-10000.g0303.ll.unc.edu/output_dir\n"
     ]
    },
    {
     "name": "stderr",
     "output_type": "stream",
     "text": [
      "You are instantiating a Trainer but Tensorboard is not installed. You should consider installing it.\n",
      "55it [03:16,  3.44s/it]"
     ]
    },
    {
     "name": "stdout",
     "output_type": "stream",
     "text": [
      "Loading from /export/home/hguo/Experiments/20201019/KNN/./retraining-remove-14-incorrect-KNN-1000-helpful-1.g0303.ll.unc.edu/output_dir\n"
     ]
    },
    {
     "name": "stderr",
     "output_type": "stream",
     "text": [
      "You are instantiating a Trainer but Tensorboard is not installed. You should consider installing it.\n",
      "56it [03:19,  3.43s/it]"
     ]
    },
    {
     "name": "stdout",
     "output_type": "stream",
     "text": [
      "Loading from /export/home/hguo/Experiments/20201019/KNN/./retraining-remove-14-incorrect-KNN-1000-helpful-100.g0303.ll.unc.edu/output_dir\n"
     ]
    },
    {
     "name": "stderr",
     "output_type": "stream",
     "text": [
      "You are instantiating a Trainer but Tensorboard is not installed. You should consider installing it.\n",
      "57it [03:23,  3.45s/it]"
     ]
    },
    {
     "name": "stdout",
     "output_type": "stream",
     "text": [
      "Loading from /export/home/hguo/Experiments/20201019/KNN/./retraining-remove-14-incorrect-KNN-1000-helpful-10000.g0303.ll.unc.edu/output_dir\n"
     ]
    },
    {
     "name": "stderr",
     "output_type": "stream",
     "text": [
      "You are instantiating a Trainer but Tensorboard is not installed. You should consider installing it.\n",
      "58it [03:26,  3.45s/it]"
     ]
    },
    {
     "name": "stdout",
     "output_type": "stream",
     "text": [
      "Loading from /export/home/hguo/Experiments/20201019/KNN/./retraining-remove-14-incorrect-KNN-1000-harmful-1.g0303.ll.unc.edu/output_dir\n"
     ]
    },
    {
     "name": "stderr",
     "output_type": "stream",
     "text": [
      "You are instantiating a Trainer but Tensorboard is not installed. You should consider installing it.\n",
      "59it [03:30,  3.47s/it]"
     ]
    },
    {
     "name": "stdout",
     "output_type": "stream",
     "text": [
      "Loading from /export/home/hguo/Experiments/20201019/KNN/./retraining-remove-14-incorrect-KNN-1000-harmful-100.g0303.ll.unc.edu/output_dir\n"
     ]
    },
    {
     "name": "stderr",
     "output_type": "stream",
     "text": [
      "You are instantiating a Trainer but Tensorboard is not installed. You should consider installing it.\n",
      "60it [03:33,  3.48s/it]"
     ]
    },
    {
     "name": "stdout",
     "output_type": "stream",
     "text": [
      "Loading from /export/home/hguo/Experiments/20201019/KNN/./retraining-remove-14-incorrect-KNN-1000-harmful-10000.g0303.ll.unc.edu/output_dir\n"
     ]
    },
    {
     "name": "stderr",
     "output_type": "stream",
     "text": [
      "You are instantiating a Trainer but Tensorboard is not installed. You should consider installing it.\n",
      "61it [03:37,  3.47s/it]"
     ]
    },
    {
     "name": "stdout",
     "output_type": "stream",
     "text": [
      "Loading from /export/home/hguo/Experiments/20201019/KNN/./retraining-remove-2-correct-KNN-1000-helpful-1.g0303.ll.unc.edu/output_dir\n"
     ]
    },
    {
     "name": "stderr",
     "output_type": "stream",
     "text": [
      "You are instantiating a Trainer but Tensorboard is not installed. You should consider installing it.\n",
      "62it [03:40,  3.48s/it]"
     ]
    },
    {
     "name": "stdout",
     "output_type": "stream",
     "text": [
      "Loading from /export/home/hguo/Experiments/20201019/KNN/./retraining-remove-2-correct-KNN-1000-helpful-100.g0303.ll.unc.edu/output_dir\n"
     ]
    },
    {
     "name": "stderr",
     "output_type": "stream",
     "text": [
      "You are instantiating a Trainer but Tensorboard is not installed. You should consider installing it.\n",
      "63it [03:44,  3.49s/it]"
     ]
    },
    {
     "name": "stdout",
     "output_type": "stream",
     "text": [
      "Loading from /export/home/hguo/Experiments/20201019/KNN/./retraining-remove-2-correct-KNN-1000-helpful-10000.g0303.ll.unc.edu/output_dir\n"
     ]
    },
    {
     "name": "stderr",
     "output_type": "stream",
     "text": [
      "You are instantiating a Trainer but Tensorboard is not installed. You should consider installing it.\n",
      "64it [03:47,  3.47s/it]"
     ]
    },
    {
     "name": "stdout",
     "output_type": "stream",
     "text": [
      "Loading from /export/home/hguo/Experiments/20201019/KNN/./retraining-remove-2-correct-KNN-1000-harmful-1.g0303.ll.unc.edu/output_dir\n"
     ]
    },
    {
     "name": "stderr",
     "output_type": "stream",
     "text": [
      "You are instantiating a Trainer but Tensorboard is not installed. You should consider installing it.\n",
      "65it [03:51,  3.48s/it]"
     ]
    },
    {
     "name": "stdout",
     "output_type": "stream",
     "text": [
      "Loading from /export/home/hguo/Experiments/20201019/KNN/./retraining-remove-2-correct-KNN-1000-harmful-100.g0303.ll.unc.edu/output_dir\n"
     ]
    },
    {
     "name": "stderr",
     "output_type": "stream",
     "text": [
      "You are instantiating a Trainer but Tensorboard is not installed. You should consider installing it.\n",
      "66it [03:54,  3.49s/it]"
     ]
    },
    {
     "name": "stdout",
     "output_type": "stream",
     "text": [
      "Loading from /export/home/hguo/Experiments/20201019/KNN/./retraining-remove-2-correct-KNN-1000-harmful-10000.g0303.ll.unc.edu/output_dir\n"
     ]
    },
    {
     "name": "stderr",
     "output_type": "stream",
     "text": [
      "You are instantiating a Trainer but Tensorboard is not installed. You should consider installing it.\n",
      "67it [03:58,  3.48s/it]"
     ]
    },
    {
     "name": "stdout",
     "output_type": "stream",
     "text": [
      "Loading from /export/home/hguo/Experiments/20201019/KNN/./retraining-remove-15-incorrect-KNN-1000-helpful-1.g0303.ll.unc.edu/output_dir\n"
     ]
    },
    {
     "name": "stderr",
     "output_type": "stream",
     "text": [
      "You are instantiating a Trainer but Tensorboard is not installed. You should consider installing it.\n",
      "68it [04:01,  3.48s/it]"
     ]
    },
    {
     "name": "stdout",
     "output_type": "stream",
     "text": [
      "Loading from /export/home/hguo/Experiments/20201019/KNN/./retraining-remove-15-incorrect-KNN-1000-helpful-100.g0303.ll.unc.edu/output_dir\n"
     ]
    },
    {
     "name": "stderr",
     "output_type": "stream",
     "text": [
      "You are instantiating a Trainer but Tensorboard is not installed. You should consider installing it.\n",
      "69it [04:05,  3.49s/it]"
     ]
    },
    {
     "name": "stdout",
     "output_type": "stream",
     "text": [
      "Loading from /export/home/hguo/Experiments/20201019/KNN/./retraining-remove-15-incorrect-KNN-1000-helpful-10000.g0303.ll.unc.edu/output_dir\n"
     ]
    },
    {
     "name": "stderr",
     "output_type": "stream",
     "text": [
      "You are instantiating a Trainer but Tensorboard is not installed. You should consider installing it.\n",
      "70it [04:08,  3.47s/it]"
     ]
    },
    {
     "name": "stdout",
     "output_type": "stream",
     "text": [
      "Loading from /export/home/hguo/Experiments/20201019/KNN/./retraining-remove-15-incorrect-KNN-1000-harmful-1.g0303.ll.unc.edu/output_dir\n"
     ]
    },
    {
     "name": "stderr",
     "output_type": "stream",
     "text": [
      "You are instantiating a Trainer but Tensorboard is not installed. You should consider installing it.\n",
      "71it [04:12,  3.48s/it]"
     ]
    },
    {
     "name": "stdout",
     "output_type": "stream",
     "text": [
      "Loading from /export/home/hguo/Experiments/20201019/KNN/./retraining-remove-15-incorrect-KNN-1000-harmful-100.g0303.ll.unc.edu/output_dir\n"
     ]
    },
    {
     "name": "stderr",
     "output_type": "stream",
     "text": [
      "You are instantiating a Trainer but Tensorboard is not installed. You should consider installing it.\n",
      "72it [04:15,  3.48s/it]"
     ]
    },
    {
     "name": "stdout",
     "output_type": "stream",
     "text": [
      "Loading from /export/home/hguo/Experiments/20201019/KNN/./retraining-remove-15-incorrect-KNN-1000-harmful-10000.g0303.ll.unc.edu/output_dir\n"
     ]
    },
    {
     "name": "stderr",
     "output_type": "stream",
     "text": [
      "You are instantiating a Trainer but Tensorboard is not installed. You should consider installing it.\n",
      "73it [04:18,  3.47s/it]"
     ]
    },
    {
     "name": "stdout",
     "output_type": "stream",
     "text": [
      "Loading from /export/home/hguo/Experiments/20201019/KNN/./retraining-remove-0-correct-KNN-10000-helpful-1.g0303.ll.unc.edu/output_dir\n"
     ]
    },
    {
     "name": "stderr",
     "output_type": "stream",
     "text": [
      "You are instantiating a Trainer but Tensorboard is not installed. You should consider installing it.\n",
      "74it [04:22,  3.47s/it]"
     ]
    },
    {
     "name": "stdout",
     "output_type": "stream",
     "text": [
      "Loading from /export/home/hguo/Experiments/20201019/KNN/./retraining-remove-0-correct-KNN-10000-helpful-100.g0303.ll.unc.edu/output_dir\n"
     ]
    },
    {
     "name": "stderr",
     "output_type": "stream",
     "text": [
      "You are instantiating a Trainer but Tensorboard is not installed. You should consider installing it.\n",
      "75it [04:25,  3.48s/it]"
     ]
    },
    {
     "name": "stdout",
     "output_type": "stream",
     "text": [
      "Loading from /export/home/hguo/Experiments/20201019/KNN/./retraining-remove-0-correct-KNN-10000-helpful-10000.g0303.ll.unc.edu/output_dir\n"
     ]
    },
    {
     "name": "stderr",
     "output_type": "stream",
     "text": [
      "You are instantiating a Trainer but Tensorboard is not installed. You should consider installing it.\n",
      "76it [04:29,  3.46s/it]"
     ]
    },
    {
     "name": "stdout",
     "output_type": "stream",
     "text": [
      "Loading from /export/home/hguo/Experiments/20201019/KNN/./retraining-remove-0-correct-KNN-10000-harmful-1.g0303.ll.unc.edu/output_dir\n"
     ]
    },
    {
     "name": "stderr",
     "output_type": "stream",
     "text": [
      "You are instantiating a Trainer but Tensorboard is not installed. You should consider installing it.\n",
      "77it [04:32,  3.48s/it]"
     ]
    },
    {
     "name": "stdout",
     "output_type": "stream",
     "text": [
      "Loading from /export/home/hguo/Experiments/20201019/KNN/./retraining-remove-0-correct-KNN-10000-harmful-100.g0303.ll.unc.edu/output_dir\n"
     ]
    },
    {
     "name": "stderr",
     "output_type": "stream",
     "text": [
      "You are instantiating a Trainer but Tensorboard is not installed. You should consider installing it.\n",
      "78it [04:36,  3.49s/it]"
     ]
    },
    {
     "name": "stdout",
     "output_type": "stream",
     "text": [
      "Loading from /export/home/hguo/Experiments/20201019/KNN/./retraining-remove-0-correct-KNN-10000-harmful-10000.g0303.ll.unc.edu/output_dir\n"
     ]
    },
    {
     "name": "stderr",
     "output_type": "stream",
     "text": [
      "You are instantiating a Trainer but Tensorboard is not installed. You should consider installing it.\n",
      "79it [04:39,  3.47s/it]"
     ]
    },
    {
     "name": "stdout",
     "output_type": "stream",
     "text": [
      "Loading from /export/home/hguo/Experiments/20201019/KNN/./retraining-remove-3-incorrect-KNN-10000-helpful-1.g0303.ll.unc.edu/output_dir\n"
     ]
    },
    {
     "name": "stderr",
     "output_type": "stream",
     "text": [
      "You are instantiating a Trainer but Tensorboard is not installed. You should consider installing it.\n",
      "80it [04:43,  3.48s/it]"
     ]
    },
    {
     "name": "stdout",
     "output_type": "stream",
     "text": [
      "Loading from /export/home/hguo/Experiments/20201019/KNN/./retraining-remove-3-incorrect-KNN-10000-helpful-100.g0303.ll.unc.edu/output_dir\n"
     ]
    },
    {
     "name": "stderr",
     "output_type": "stream",
     "text": [
      "You are instantiating a Trainer but Tensorboard is not installed. You should consider installing it.\n",
      "81it [04:46,  3.49s/it]"
     ]
    },
    {
     "name": "stdout",
     "output_type": "stream",
     "text": [
      "Loading from /export/home/hguo/Experiments/20201019/KNN/./retraining-remove-3-incorrect-KNN-10000-helpful-10000.g0303.ll.unc.edu/output_dir\n"
     ]
    },
    {
     "name": "stderr",
     "output_type": "stream",
     "text": [
      "You are instantiating a Trainer but Tensorboard is not installed. You should consider installing it.\n",
      "82it [04:50,  3.46s/it]"
     ]
    },
    {
     "name": "stdout",
     "output_type": "stream",
     "text": [
      "Loading from /export/home/hguo/Experiments/20201019/KNN/./retraining-remove-3-incorrect-KNN-10000-harmful-1.g0303.ll.unc.edu/output_dir\n"
     ]
    },
    {
     "name": "stderr",
     "output_type": "stream",
     "text": [
      "You are instantiating a Trainer but Tensorboard is not installed. You should consider installing it.\n",
      "83it [04:53,  3.44s/it]"
     ]
    },
    {
     "name": "stdout",
     "output_type": "stream",
     "text": [
      "Loading from /export/home/hguo/Experiments/20201019/KNN/./retraining-remove-3-incorrect-KNN-10000-harmful-100.g0303.ll.unc.edu/output_dir\n"
     ]
    },
    {
     "name": "stderr",
     "output_type": "stream",
     "text": [
      "You are instantiating a Trainer but Tensorboard is not installed. You should consider installing it.\n",
      "84it [04:57,  3.45s/it]"
     ]
    },
    {
     "name": "stdout",
     "output_type": "stream",
     "text": [
      "Loading from /export/home/hguo/Experiments/20201019/KNN/./retraining-remove-3-incorrect-KNN-10000-harmful-10000.g0303.ll.unc.edu/output_dir\n"
     ]
    },
    {
     "name": "stderr",
     "output_type": "stream",
     "text": [
      "You are instantiating a Trainer but Tensorboard is not installed. You should consider installing it.\n",
      "85it [05:00,  3.45s/it]"
     ]
    },
    {
     "name": "stdout",
     "output_type": "stream",
     "text": [
      "Loading from /export/home/hguo/Experiments/20201019/KNN/./retraining-remove-1-correct-KNN-10000-helpful-1.g0303.ll.unc.edu/output_dir\n"
     ]
    },
    {
     "name": "stderr",
     "output_type": "stream",
     "text": [
      "You are instantiating a Trainer but Tensorboard is not installed. You should consider installing it.\n",
      "86it [05:04,  3.46s/it]"
     ]
    },
    {
     "name": "stdout",
     "output_type": "stream",
     "text": [
      "Loading from /export/home/hguo/Experiments/20201019/KNN/./retraining-remove-1-correct-KNN-10000-helpful-100.g0303.ll.unc.edu/output_dir\n"
     ]
    },
    {
     "name": "stderr",
     "output_type": "stream",
     "text": [
      "You are instantiating a Trainer but Tensorboard is not installed. You should consider installing it.\n",
      "87it [05:07,  3.47s/it]"
     ]
    },
    {
     "name": "stdout",
     "output_type": "stream",
     "text": [
      "Loading from /export/home/hguo/Experiments/20201019/KNN/./retraining-remove-1-correct-KNN-10000-helpful-10000.g0303.ll.unc.edu/output_dir\n"
     ]
    },
    {
     "name": "stderr",
     "output_type": "stream",
     "text": [
      "You are instantiating a Trainer but Tensorboard is not installed. You should consider installing it.\n",
      "88it [05:11,  3.46s/it]"
     ]
    },
    {
     "name": "stdout",
     "output_type": "stream",
     "text": [
      "Loading from /export/home/hguo/Experiments/20201019/KNN/./retraining-remove-1-correct-KNN-10000-harmful-1.g0303.ll.unc.edu/output_dir\n"
     ]
    },
    {
     "name": "stderr",
     "output_type": "stream",
     "text": [
      "You are instantiating a Trainer but Tensorboard is not installed. You should consider installing it.\n",
      "89it [05:14,  3.47s/it]"
     ]
    },
    {
     "name": "stdout",
     "output_type": "stream",
     "text": [
      "Loading from /export/home/hguo/Experiments/20201019/KNN/./retraining-remove-1-correct-KNN-10000-harmful-100.g0303.ll.unc.edu/output_dir\n"
     ]
    },
    {
     "name": "stderr",
     "output_type": "stream",
     "text": [
      "You are instantiating a Trainer but Tensorboard is not installed. You should consider installing it.\n",
      "90it [05:18,  3.48s/it]"
     ]
    },
    {
     "name": "stdout",
     "output_type": "stream",
     "text": [
      "Loading from /export/home/hguo/Experiments/20201019/KNN/./retraining-remove-1-correct-KNN-10000-harmful-10000.g0303.ll.unc.edu/output_dir\n"
     ]
    },
    {
     "name": "stderr",
     "output_type": "stream",
     "text": [
      "You are instantiating a Trainer but Tensorboard is not installed. You should consider installing it.\n",
      "91it [05:21,  3.46s/it]"
     ]
    },
    {
     "name": "stdout",
     "output_type": "stream",
     "text": [
      "Loading from /export/home/hguo/Experiments/20201019/KNN/./retraining-remove-14-incorrect-KNN-10000-helpful-1.g0303.ll.unc.edu/output_dir\n"
     ]
    },
    {
     "name": "stderr",
     "output_type": "stream",
     "text": [
      "You are instantiating a Trainer but Tensorboard is not installed. You should consider installing it.\n",
      "92it [05:24,  3.47s/it]"
     ]
    },
    {
     "name": "stdout",
     "output_type": "stream",
     "text": [
      "Loading from /export/home/hguo/Experiments/20201019/KNN/./retraining-remove-14-incorrect-KNN-10000-helpful-100.g0303.ll.unc.edu/output_dir\n"
     ]
    },
    {
     "name": "stderr",
     "output_type": "stream",
     "text": [
      "You are instantiating a Trainer but Tensorboard is not installed. You should consider installing it.\n",
      "93it [05:28,  3.48s/it]"
     ]
    },
    {
     "name": "stdout",
     "output_type": "stream",
     "text": [
      "Loading from /export/home/hguo/Experiments/20201019/KNN/./retraining-remove-14-incorrect-KNN-10000-helpful-10000.g0303.ll.unc.edu/output_dir\n"
     ]
    },
    {
     "name": "stderr",
     "output_type": "stream",
     "text": [
      "You are instantiating a Trainer but Tensorboard is not installed. You should consider installing it.\n",
      "94it [05:31,  3.46s/it]"
     ]
    },
    {
     "name": "stdout",
     "output_type": "stream",
     "text": [
      "Loading from /export/home/hguo/Experiments/20201019/KNN/./retraining-remove-14-incorrect-KNN-10000-harmful-1.g0303.ll.unc.edu/output_dir\n"
     ]
    },
    {
     "name": "stderr",
     "output_type": "stream",
     "text": [
      "You are instantiating a Trainer but Tensorboard is not installed. You should consider installing it.\n",
      "95it [05:35,  3.47s/it]"
     ]
    },
    {
     "name": "stdout",
     "output_type": "stream",
     "text": [
      "Loading from /export/home/hguo/Experiments/20201019/KNN/./retraining-remove-14-incorrect-KNN-10000-harmful-100.g0303.ll.unc.edu/output_dir\n"
     ]
    },
    {
     "name": "stderr",
     "output_type": "stream",
     "text": [
      "You are instantiating a Trainer but Tensorboard is not installed. You should consider installing it.\n",
      "96it [05:38,  3.47s/it]"
     ]
    },
    {
     "name": "stdout",
     "output_type": "stream",
     "text": [
      "Loading from /export/home/hguo/Experiments/20201019/KNN/./retraining-remove-14-incorrect-KNN-10000-harmful-10000.g0303.ll.unc.edu/output_dir\n"
     ]
    },
    {
     "name": "stderr",
     "output_type": "stream",
     "text": [
      "You are instantiating a Trainer but Tensorboard is not installed. You should consider installing it.\n",
      "97it [05:42,  3.46s/it]"
     ]
    },
    {
     "name": "stdout",
     "output_type": "stream",
     "text": [
      "Loading from /export/home/hguo/Experiments/20201019/KNN/./retraining-remove-2-correct-KNN-10000-helpful-1.g0303.ll.unc.edu/output_dir\n"
     ]
    },
    {
     "name": "stderr",
     "output_type": "stream",
     "text": [
      "You are instantiating a Trainer but Tensorboard is not installed. You should consider installing it.\n",
      "98it [05:45,  3.47s/it]"
     ]
    },
    {
     "name": "stdout",
     "output_type": "stream",
     "text": [
      "Loading from /export/home/hguo/Experiments/20201019/KNN/./retraining-remove-2-correct-KNN-10000-helpful-100.g0303.ll.unc.edu/output_dir\n"
     ]
    },
    {
     "name": "stderr",
     "output_type": "stream",
     "text": [
      "You are instantiating a Trainer but Tensorboard is not installed. You should consider installing it.\n",
      "99it [05:49,  3.47s/it]"
     ]
    },
    {
     "name": "stdout",
     "output_type": "stream",
     "text": [
      "Loading from /export/home/hguo/Experiments/20201019/KNN/./retraining-remove-2-correct-KNN-10000-helpful-10000.g0303.ll.unc.edu/output_dir\n"
     ]
    },
    {
     "name": "stderr",
     "output_type": "stream",
     "text": [
      "You are instantiating a Trainer but Tensorboard is not installed. You should consider installing it.\n",
      "100it [05:52,  3.46s/it]"
     ]
    },
    {
     "name": "stdout",
     "output_type": "stream",
     "text": [
      "Loading from /export/home/hguo/Experiments/20201019/KNN/./retraining-remove-2-correct-KNN-10000-harmful-1.g0303.ll.unc.edu/output_dir\n"
     ]
    },
    {
     "name": "stderr",
     "output_type": "stream",
     "text": [
      "You are instantiating a Trainer but Tensorboard is not installed. You should consider installing it.\n",
      "101it [05:56,  3.47s/it]"
     ]
    },
    {
     "name": "stdout",
     "output_type": "stream",
     "text": [
      "Loading from /export/home/hguo/Experiments/20201019/KNN/./retraining-remove-2-correct-KNN-10000-harmful-100.g0303.ll.unc.edu/output_dir\n"
     ]
    },
    {
     "name": "stderr",
     "output_type": "stream",
     "text": [
      "You are instantiating a Trainer but Tensorboard is not installed. You should consider installing it.\n",
      "102it [05:59,  3.47s/it]"
     ]
    },
    {
     "name": "stdout",
     "output_type": "stream",
     "text": [
      "Loading from /export/home/hguo/Experiments/20201019/KNN/./retraining-remove-2-correct-KNN-10000-harmful-10000.g0303.ll.unc.edu/output_dir\n"
     ]
    },
    {
     "name": "stderr",
     "output_type": "stream",
     "text": [
      "You are instantiating a Trainer but Tensorboard is not installed. You should consider installing it.\n",
      "103it [06:03,  3.46s/it]"
     ]
    },
    {
     "name": "stdout",
     "output_type": "stream",
     "text": [
      "Loading from /export/home/hguo/Experiments/20201019/KNN/./retraining-remove-15-incorrect-KNN-10000-helpful-1.g0303.ll.unc.edu/output_dir\n"
     ]
    },
    {
     "name": "stderr",
     "output_type": "stream",
     "text": [
      "You are instantiating a Trainer but Tensorboard is not installed. You should consider installing it.\n",
      "104it [06:06,  3.47s/it]"
     ]
    },
    {
     "name": "stdout",
     "output_type": "stream",
     "text": [
      "Loading from /export/home/hguo/Experiments/20201019/KNN/./retraining-remove-15-incorrect-KNN-10000-helpful-100.g0303.ll.unc.edu/output_dir\n"
     ]
    },
    {
     "name": "stderr",
     "output_type": "stream",
     "text": [
      "You are instantiating a Trainer but Tensorboard is not installed. You should consider installing it.\n",
      "105it [06:10,  3.48s/it]"
     ]
    },
    {
     "name": "stdout",
     "output_type": "stream",
     "text": [
      "Loading from /export/home/hguo/Experiments/20201019/KNN/./retraining-remove-15-incorrect-KNN-10000-helpful-10000.g0303.ll.unc.edu/output_dir\n"
     ]
    },
    {
     "name": "stderr",
     "output_type": "stream",
     "text": [
      "You are instantiating a Trainer but Tensorboard is not installed. You should consider installing it.\n",
      "106it [06:13,  3.46s/it]"
     ]
    },
    {
     "name": "stdout",
     "output_type": "stream",
     "text": [
      "Loading from /export/home/hguo/Experiments/20201019/KNN/./retraining-remove-15-incorrect-KNN-10000-harmful-1.g0303.ll.unc.edu/output_dir\n"
     ]
    },
    {
     "name": "stderr",
     "output_type": "stream",
     "text": [
      "You are instantiating a Trainer but Tensorboard is not installed. You should consider installing it.\n",
      "107it [06:16,  3.47s/it]"
     ]
    },
    {
     "name": "stdout",
     "output_type": "stream",
     "text": [
      "Loading from /export/home/hguo/Experiments/20201019/KNN/./retraining-remove-15-incorrect-KNN-10000-harmful-100.g0303.ll.unc.edu/output_dir\n"
     ]
    },
    {
     "name": "stderr",
     "output_type": "stream",
     "text": [
      "You are instantiating a Trainer but Tensorboard is not installed. You should consider installing it.\n",
      "108it [06:20,  3.48s/it]"
     ]
    },
    {
     "name": "stdout",
     "output_type": "stream",
     "text": [
      "Loading from /export/home/hguo/Experiments/20201019/KNN/./retraining-remove-15-incorrect-KNN-10000-harmful-10000.g0303.ll.unc.edu/output_dir\n"
     ]
    },
    {
     "name": "stderr",
     "output_type": "stream",
     "text": [
      "You are instantiating a Trainer but Tensorboard is not installed. You should consider installing it.\n",
      "109it [06:23,  3.46s/it]"
     ]
    },
    {
     "name": "stdout",
     "output_type": "stream",
     "text": [
      "Loading from /export/home/hguo/Experiments/20201019/random/./retraining-remove-0-correct-random-neutral-1.g0310.ll.unc.edu/output_dir\n"
     ]
    },
    {
     "name": "stderr",
     "output_type": "stream",
     "text": [
      "You are instantiating a Trainer but Tensorboard is not installed. You should consider installing it.\n",
      "110it [06:27,  3.47s/it]"
     ]
    },
    {
     "name": "stdout",
     "output_type": "stream",
     "text": [
      "Loading from /export/home/hguo/Experiments/20201019/random/./retraining-remove-0-correct-random-neutral-100.g0310.ll.unc.edu/output_dir\n"
     ]
    },
    {
     "name": "stderr",
     "output_type": "stream",
     "text": [
      "You are instantiating a Trainer but Tensorboard is not installed. You should consider installing it.\n",
      "111it [06:30,  3.48s/it]"
     ]
    },
    {
     "name": "stdout",
     "output_type": "stream",
     "text": [
      "Loading from /export/home/hguo/Experiments/20201019/random/./retraining-remove-0-correct-random-neutral-10000.g0310.ll.unc.edu/output_dir\n"
     ]
    },
    {
     "name": "stderr",
     "output_type": "stream",
     "text": [
      "You are instantiating a Trainer but Tensorboard is not installed. You should consider installing it.\n",
      "112it [06:34,  3.45s/it]"
     ]
    },
    {
     "name": "stdout",
     "output_type": "stream",
     "text": [
      "Loading from /export/home/hguo/Experiments/20201019/random/./retraining-remove-0-correct-random-entailment-1.g0310.ll.unc.edu/output_dir\n"
     ]
    },
    {
     "name": "stderr",
     "output_type": "stream",
     "text": [
      "You are instantiating a Trainer but Tensorboard is not installed. You should consider installing it.\n",
      "113it [06:37,  3.44s/it]"
     ]
    },
    {
     "name": "stdout",
     "output_type": "stream",
     "text": [
      "Loading from /export/home/hguo/Experiments/20201019/random/./retraining-remove-0-correct-random-entailment-100.g0310.ll.unc.edu/output_dir\n"
     ]
    },
    {
     "name": "stderr",
     "output_type": "stream",
     "text": [
      "You are instantiating a Trainer but Tensorboard is not installed. You should consider installing it.\n",
      "114it [06:41,  3.45s/it]"
     ]
    },
    {
     "name": "stdout",
     "output_type": "stream",
     "text": [
      "Loading from /export/home/hguo/Experiments/20201019/random/./retraining-remove-0-correct-random-entailment-10000.g0310.ll.unc.edu/output_dir\n"
     ]
    },
    {
     "name": "stderr",
     "output_type": "stream",
     "text": [
      "You are instantiating a Trainer but Tensorboard is not installed. You should consider installing it.\n",
      "115it [06:44,  3.45s/it]"
     ]
    },
    {
     "name": "stdout",
     "output_type": "stream",
     "text": [
      "Loading from /export/home/hguo/Experiments/20201019/random/./retraining-remove-0-correct-random-contradiction-1.g0310.ll.unc.edu/output_dir\n"
     ]
    },
    {
     "name": "stderr",
     "output_type": "stream",
     "text": [
      "You are instantiating a Trainer but Tensorboard is not installed. You should consider installing it.\n",
      "116it [06:48,  3.46s/it]"
     ]
    },
    {
     "name": "stdout",
     "output_type": "stream",
     "text": [
      "Loading from /export/home/hguo/Experiments/20201019/random/./retraining-remove-0-correct-random-contradiction-100.g0310.ll.unc.edu/output_dir\n"
     ]
    },
    {
     "name": "stderr",
     "output_type": "stream",
     "text": [
      "You are instantiating a Trainer but Tensorboard is not installed. You should consider installing it.\n",
      "117it [06:51,  3.47s/it]"
     ]
    },
    {
     "name": "stdout",
     "output_type": "stream",
     "text": [
      "Loading from /export/home/hguo/Experiments/20201019/random/./retraining-remove-0-correct-random-contradiction-10000.g0310.ll.unc.edu/output_dir\n"
     ]
    },
    {
     "name": "stderr",
     "output_type": "stream",
     "text": [
      "You are instantiating a Trainer but Tensorboard is not installed. You should consider installing it.\n",
      "118it [06:54,  3.45s/it]"
     ]
    },
    {
     "name": "stdout",
     "output_type": "stream",
     "text": [
      "Loading from /export/home/hguo/Experiments/20201019/random/./retraining-remove-3-incorrect-random-neutral-1.g0310.ll.unc.edu/output_dir\n"
     ]
    },
    {
     "name": "stderr",
     "output_type": "stream",
     "text": [
      "You are instantiating a Trainer but Tensorboard is not installed. You should consider installing it.\n",
      "119it [06:58,  3.46s/it]"
     ]
    },
    {
     "name": "stdout",
     "output_type": "stream",
     "text": [
      "Loading from /export/home/hguo/Experiments/20201019/random/./retraining-remove-3-incorrect-random-neutral-100.g0310.ll.unc.edu/output_dir\n"
     ]
    },
    {
     "name": "stderr",
     "output_type": "stream",
     "text": [
      "You are instantiating a Trainer but Tensorboard is not installed. You should consider installing it.\n",
      "120it [07:01,  3.47s/it]"
     ]
    },
    {
     "name": "stdout",
     "output_type": "stream",
     "text": [
      "Loading from /export/home/hguo/Experiments/20201019/random/./retraining-remove-3-incorrect-random-neutral-10000.g0310.ll.unc.edu/output_dir\n"
     ]
    },
    {
     "name": "stderr",
     "output_type": "stream",
     "text": [
      "You are instantiating a Trainer but Tensorboard is not installed. You should consider installing it.\n",
      "121it [07:06,  3.90s/it]"
     ]
    },
    {
     "name": "stdout",
     "output_type": "stream",
     "text": [
      "Loading from /export/home/hguo/Experiments/20201019/random/./retraining-remove-3-incorrect-random-entailment-1.g0310.ll.unc.edu/output_dir\n"
     ]
    },
    {
     "name": "stderr",
     "output_type": "stream",
     "text": [
      "You are instantiating a Trainer but Tensorboard is not installed. You should consider installing it.\n",
      "122it [07:10,  3.73s/it]"
     ]
    },
    {
     "name": "stdout",
     "output_type": "stream",
     "text": [
      "Loading from /export/home/hguo/Experiments/20201019/random/./retraining-remove-3-incorrect-random-entailment-100.g0310.ll.unc.edu/output_dir\n"
     ]
    },
    {
     "name": "stderr",
     "output_type": "stream",
     "text": [
      "You are instantiating a Trainer but Tensorboard is not installed. You should consider installing it.\n",
      "123it [07:13,  3.62s/it]"
     ]
    },
    {
     "name": "stdout",
     "output_type": "stream",
     "text": [
      "Loading from /export/home/hguo/Experiments/20201019/random/./retraining-remove-3-incorrect-random-entailment-10000.g0310.ll.unc.edu/output_dir\n"
     ]
    },
    {
     "name": "stderr",
     "output_type": "stream",
     "text": [
      "You are instantiating a Trainer but Tensorboard is not installed. You should consider installing it.\n",
      "124it [07:16,  3.53s/it]"
     ]
    },
    {
     "name": "stdout",
     "output_type": "stream",
     "text": [
      "Loading from /export/home/hguo/Experiments/20201019/random/./retraining-remove-3-incorrect-random-contradiction-1.g0310.ll.unc.edu/output_dir\n"
     ]
    },
    {
     "name": "stderr",
     "output_type": "stream",
     "text": [
      "You are instantiating a Trainer but Tensorboard is not installed. You should consider installing it.\n",
      "125it [07:20,  3.47s/it]"
     ]
    },
    {
     "name": "stdout",
     "output_type": "stream",
     "text": [
      "Loading from /export/home/hguo/Experiments/20201019/random/./retraining-remove-3-incorrect-random-contradiction-100.g0310.ll.unc.edu/output_dir\n"
     ]
    },
    {
     "name": "stderr",
     "output_type": "stream",
     "text": [
      "You are instantiating a Trainer but Tensorboard is not installed. You should consider installing it.\n",
      "126it [07:23,  3.43s/it]"
     ]
    },
    {
     "name": "stdout",
     "output_type": "stream",
     "text": [
      "Loading from /export/home/hguo/Experiments/20201019/random/./retraining-remove-3-incorrect-random-contradiction-10000.g0310.ll.unc.edu/output_dir\n"
     ]
    },
    {
     "name": "stderr",
     "output_type": "stream",
     "text": [
      "You are instantiating a Trainer but Tensorboard is not installed. You should consider installing it.\n",
      "127it [07:26,  3.40s/it]"
     ]
    },
    {
     "name": "stdout",
     "output_type": "stream",
     "text": [
      "Loading from /export/home/hguo/Experiments/20201019/random/./retraining-remove-1-correct-random-neutral-1.g0310.ll.unc.edu/output_dir\n"
     ]
    },
    {
     "name": "stderr",
     "output_type": "stream",
     "text": [
      "You are instantiating a Trainer but Tensorboard is not installed. You should consider installing it.\n",
      "128it [07:30,  3.38s/it]"
     ]
    },
    {
     "name": "stdout",
     "output_type": "stream",
     "text": [
      "Loading from /export/home/hguo/Experiments/20201019/random/./retraining-remove-1-correct-random-neutral-100.g0310.ll.unc.edu/output_dir\n"
     ]
    },
    {
     "name": "stderr",
     "output_type": "stream",
     "text": [
      "You are instantiating a Trainer but Tensorboard is not installed. You should consider installing it.\n",
      "129it [07:33,  3.37s/it]"
     ]
    },
    {
     "name": "stdout",
     "output_type": "stream",
     "text": [
      "Loading from /export/home/hguo/Experiments/20201019/random/./retraining-remove-1-correct-random-neutral-10000.g0310.ll.unc.edu/output_dir\n"
     ]
    },
    {
     "name": "stderr",
     "output_type": "stream",
     "text": [
      "You are instantiating a Trainer but Tensorboard is not installed. You should consider installing it.\n",
      "130it [07:36,  3.36s/it]"
     ]
    },
    {
     "name": "stdout",
     "output_type": "stream",
     "text": [
      "Loading from /export/home/hguo/Experiments/20201019/random/./retraining-remove-1-correct-random-entailment-1.g0310.ll.unc.edu/output_dir\n"
     ]
    },
    {
     "name": "stderr",
     "output_type": "stream",
     "text": [
      "You are instantiating a Trainer but Tensorboard is not installed. You should consider installing it.\n",
      "131it [07:40,  3.35s/it]"
     ]
    },
    {
     "name": "stdout",
     "output_type": "stream",
     "text": [
      "Loading from /export/home/hguo/Experiments/20201019/random/./retraining-remove-1-correct-random-entailment-100.g0310.ll.unc.edu/output_dir\n"
     ]
    },
    {
     "name": "stderr",
     "output_type": "stream",
     "text": [
      "You are instantiating a Trainer but Tensorboard is not installed. You should consider installing it.\n",
      "132it [07:43,  3.34s/it]"
     ]
    },
    {
     "name": "stdout",
     "output_type": "stream",
     "text": [
      "Loading from /export/home/hguo/Experiments/20201019/random/./retraining-remove-1-correct-random-entailment-10000.g0310.ll.unc.edu/output_dir\n"
     ]
    },
    {
     "name": "stderr",
     "output_type": "stream",
     "text": [
      "You are instantiating a Trainer but Tensorboard is not installed. You should consider installing it.\n",
      "133it [07:46,  3.34s/it]"
     ]
    },
    {
     "name": "stdout",
     "output_type": "stream",
     "text": [
      "Loading from /export/home/hguo/Experiments/20201019/random/./retraining-remove-1-correct-random-contradiction-1.g0310.ll.unc.edu/output_dir\n"
     ]
    },
    {
     "name": "stderr",
     "output_type": "stream",
     "text": [
      "You are instantiating a Trainer but Tensorboard is not installed. You should consider installing it.\n",
      "134it [07:50,  3.34s/it]"
     ]
    },
    {
     "name": "stdout",
     "output_type": "stream",
     "text": [
      "Loading from /export/home/hguo/Experiments/20201019/random/./retraining-remove-1-correct-random-contradiction-100.g0310.ll.unc.edu/output_dir\n"
     ]
    },
    {
     "name": "stderr",
     "output_type": "stream",
     "text": [
      "You are instantiating a Trainer but Tensorboard is not installed. You should consider installing it.\n",
      "135it [07:53,  3.34s/it]"
     ]
    },
    {
     "name": "stdout",
     "output_type": "stream",
     "text": [
      "Loading from /export/home/hguo/Experiments/20201019/random/./retraining-remove-1-correct-random-contradiction-10000.g0310.ll.unc.edu/output_dir\n"
     ]
    },
    {
     "name": "stderr",
     "output_type": "stream",
     "text": [
      "You are instantiating a Trainer but Tensorboard is not installed. You should consider installing it.\n",
      "136it [07:56,  3.33s/it]"
     ]
    },
    {
     "name": "stdout",
     "output_type": "stream",
     "text": [
      "Loading from /export/home/hguo/Experiments/20201019/random/./retraining-remove-14-incorrect-random-neutral-1.g0310.ll.unc.edu/output_dir\n"
     ]
    },
    {
     "name": "stderr",
     "output_type": "stream",
     "text": [
      "You are instantiating a Trainer but Tensorboard is not installed. You should consider installing it.\n",
      "137it [08:00,  3.33s/it]"
     ]
    },
    {
     "name": "stdout",
     "output_type": "stream",
     "text": [
      "Loading from /export/home/hguo/Experiments/20201019/random/./retraining-remove-14-incorrect-random-neutral-100.g0310.ll.unc.edu/output_dir\n"
     ]
    },
    {
     "name": "stderr",
     "output_type": "stream",
     "text": [
      "You are instantiating a Trainer but Tensorboard is not installed. You should consider installing it.\n",
      "138it [08:03,  3.33s/it]"
     ]
    },
    {
     "name": "stdout",
     "output_type": "stream",
     "text": [
      "Loading from /export/home/hguo/Experiments/20201019/random/./retraining-remove-14-incorrect-random-neutral-10000.g0310.ll.unc.edu/output_dir\n"
     ]
    },
    {
     "name": "stderr",
     "output_type": "stream",
     "text": [
      "You are instantiating a Trainer but Tensorboard is not installed. You should consider installing it.\n",
      "139it [08:06,  3.33s/it]"
     ]
    },
    {
     "name": "stdout",
     "output_type": "stream",
     "text": [
      "Loading from /export/home/hguo/Experiments/20201019/random/./retraining-remove-14-incorrect-random-entailment-1.g0310.ll.unc.edu/output_dir\n"
     ]
    },
    {
     "name": "stderr",
     "output_type": "stream",
     "text": [
      "You are instantiating a Trainer but Tensorboard is not installed. You should consider installing it.\n",
      "140it [08:10,  3.34s/it]"
     ]
    },
    {
     "name": "stdout",
     "output_type": "stream",
     "text": [
      "Loading from /export/home/hguo/Experiments/20201019/random/./retraining-remove-14-incorrect-random-entailment-100.g0310.ll.unc.edu/output_dir\n"
     ]
    },
    {
     "name": "stderr",
     "output_type": "stream",
     "text": [
      "You are instantiating a Trainer but Tensorboard is not installed. You should consider installing it.\n",
      "141it [08:13,  3.34s/it]"
     ]
    },
    {
     "name": "stdout",
     "output_type": "stream",
     "text": [
      "Loading from /export/home/hguo/Experiments/20201019/random/./retraining-remove-14-incorrect-random-entailment-10000.g0310.ll.unc.edu/output_dir\n"
     ]
    },
    {
     "name": "stderr",
     "output_type": "stream",
     "text": [
      "You are instantiating a Trainer but Tensorboard is not installed. You should consider installing it.\n",
      "142it [08:16,  3.34s/it]"
     ]
    },
    {
     "name": "stdout",
     "output_type": "stream",
     "text": [
      "Loading from /export/home/hguo/Experiments/20201019/random/./retraining-remove-14-incorrect-random-contradiction-1.g0310.ll.unc.edu/output_dir\n"
     ]
    },
    {
     "name": "stderr",
     "output_type": "stream",
     "text": [
      "You are instantiating a Trainer but Tensorboard is not installed. You should consider installing it.\n",
      "143it [08:20,  3.34s/it]"
     ]
    },
    {
     "name": "stdout",
     "output_type": "stream",
     "text": [
      "Loading from /export/home/hguo/Experiments/20201019/random/./retraining-remove-14-incorrect-random-contradiction-100.g0310.ll.unc.edu/output_dir\n"
     ]
    },
    {
     "name": "stderr",
     "output_type": "stream",
     "text": [
      "You are instantiating a Trainer but Tensorboard is not installed. You should consider installing it.\n",
      "144it [08:23,  3.34s/it]"
     ]
    },
    {
     "name": "stdout",
     "output_type": "stream",
     "text": [
      "Loading from /export/home/hguo/Experiments/20201019/random/./retraining-remove-14-incorrect-random-contradiction-10000.g0310.ll.unc.edu/output_dir\n"
     ]
    },
    {
     "name": "stderr",
     "output_type": "stream",
     "text": [
      "You are instantiating a Trainer but Tensorboard is not installed. You should consider installing it.\n",
      "145it [08:26,  3.34s/it]"
     ]
    },
    {
     "name": "stdout",
     "output_type": "stream",
     "text": [
      "Loading from /export/home/hguo/Experiments/20201019/random/./retraining-remove-2-correct-random-neutral-1.g0310.ll.unc.edu/output_dir\n"
     ]
    },
    {
     "name": "stderr",
     "output_type": "stream",
     "text": [
      "You are instantiating a Trainer but Tensorboard is not installed. You should consider installing it.\n",
      "146it [08:30,  3.34s/it]"
     ]
    },
    {
     "name": "stdout",
     "output_type": "stream",
     "text": [
      "Loading from /export/home/hguo/Experiments/20201019/random/./retraining-remove-2-correct-random-neutral-100.g0310.ll.unc.edu/output_dir\n"
     ]
    },
    {
     "name": "stderr",
     "output_type": "stream",
     "text": [
      "You are instantiating a Trainer but Tensorboard is not installed. You should consider installing it.\n",
      "147it [08:33,  3.34s/it]"
     ]
    },
    {
     "name": "stdout",
     "output_type": "stream",
     "text": [
      "Loading from /export/home/hguo/Experiments/20201019/random/./retraining-remove-2-correct-random-neutral-10000.g0310.ll.unc.edu/output_dir\n"
     ]
    },
    {
     "name": "stderr",
     "output_type": "stream",
     "text": [
      "You are instantiating a Trainer but Tensorboard is not installed. You should consider installing it.\n",
      "148it [08:36,  3.34s/it]"
     ]
    },
    {
     "name": "stdout",
     "output_type": "stream",
     "text": [
      "Loading from /export/home/hguo/Experiments/20201019/random/./retraining-remove-2-correct-random-entailment-1.g0310.ll.unc.edu/output_dir\n"
     ]
    },
    {
     "name": "stderr",
     "output_type": "stream",
     "text": [
      "You are instantiating a Trainer but Tensorboard is not installed. You should consider installing it.\n",
      "149it [08:40,  3.34s/it]"
     ]
    },
    {
     "name": "stdout",
     "output_type": "stream",
     "text": [
      "Loading from /export/home/hguo/Experiments/20201019/random/./retraining-remove-2-correct-random-entailment-100.g0310.ll.unc.edu/output_dir\n"
     ]
    },
    {
     "name": "stderr",
     "output_type": "stream",
     "text": [
      "You are instantiating a Trainer but Tensorboard is not installed. You should consider installing it.\n",
      "150it [08:43,  3.34s/it]"
     ]
    },
    {
     "name": "stdout",
     "output_type": "stream",
     "text": [
      "Loading from /export/home/hguo/Experiments/20201019/random/./retraining-remove-2-correct-random-entailment-10000.g0310.ll.unc.edu/output_dir\n"
     ]
    },
    {
     "name": "stderr",
     "output_type": "stream",
     "text": [
      "You are instantiating a Trainer but Tensorboard is not installed. You should consider installing it.\n",
      "151it [08:46,  3.34s/it]"
     ]
    },
    {
     "name": "stdout",
     "output_type": "stream",
     "text": [
      "Loading from /export/home/hguo/Experiments/20201019/random/./retraining-remove-2-correct-random-contradiction-1.g0310.ll.unc.edu/output_dir\n"
     ]
    },
    {
     "name": "stderr",
     "output_type": "stream",
     "text": [
      "You are instantiating a Trainer but Tensorboard is not installed. You should consider installing it.\n",
      "152it [08:50,  3.34s/it]"
     ]
    },
    {
     "name": "stdout",
     "output_type": "stream",
     "text": [
      "Loading from /export/home/hguo/Experiments/20201019/random/./retraining-remove-2-correct-random-contradiction-100.g0310.ll.unc.edu/output_dir\n"
     ]
    },
    {
     "name": "stderr",
     "output_type": "stream",
     "text": [
      "You are instantiating a Trainer but Tensorboard is not installed. You should consider installing it.\n",
      "153it [08:53,  3.34s/it]"
     ]
    },
    {
     "name": "stdout",
     "output_type": "stream",
     "text": [
      "Loading from /export/home/hguo/Experiments/20201019/random/./retraining-remove-2-correct-random-contradiction-10000.g0310.ll.unc.edu/output_dir\n"
     ]
    },
    {
     "name": "stderr",
     "output_type": "stream",
     "text": [
      "You are instantiating a Trainer but Tensorboard is not installed. You should consider installing it.\n",
      "154it [08:56,  3.34s/it]"
     ]
    },
    {
     "name": "stdout",
     "output_type": "stream",
     "text": [
      "Loading from /export/home/hguo/Experiments/20201019/random/./retraining-remove-15-incorrect-random-neutral-1.g0310.ll.unc.edu/output_dir\n"
     ]
    },
    {
     "name": "stderr",
     "output_type": "stream",
     "text": [
      "You are instantiating a Trainer but Tensorboard is not installed. You should consider installing it.\n",
      "155it [09:00,  3.34s/it]"
     ]
    },
    {
     "name": "stdout",
     "output_type": "stream",
     "text": [
      "Loading from /export/home/hguo/Experiments/20201019/random/./retraining-remove-15-incorrect-random-neutral-100.g0310.ll.unc.edu/output_dir\n"
     ]
    },
    {
     "name": "stderr",
     "output_type": "stream",
     "text": [
      "You are instantiating a Trainer but Tensorboard is not installed. You should consider installing it.\n",
      "156it [09:03,  3.34s/it]"
     ]
    },
    {
     "name": "stdout",
     "output_type": "stream",
     "text": [
      "Loading from /export/home/hguo/Experiments/20201019/random/./retraining-remove-15-incorrect-random-neutral-10000.g0310.ll.unc.edu/output_dir\n"
     ]
    },
    {
     "name": "stderr",
     "output_type": "stream",
     "text": [
      "You are instantiating a Trainer but Tensorboard is not installed. You should consider installing it.\n",
      "157it [09:06,  3.34s/it]"
     ]
    },
    {
     "name": "stdout",
     "output_type": "stream",
     "text": [
      "Loading from /export/home/hguo/Experiments/20201019/random/./retraining-remove-15-incorrect-random-entailment-1.g0310.ll.unc.edu/output_dir\n"
     ]
    },
    {
     "name": "stderr",
     "output_type": "stream",
     "text": [
      "You are instantiating a Trainer but Tensorboard is not installed. You should consider installing it.\n",
      "158it [09:10,  3.34s/it]"
     ]
    },
    {
     "name": "stdout",
     "output_type": "stream",
     "text": [
      "Loading from /export/home/hguo/Experiments/20201019/random/./retraining-remove-15-incorrect-random-entailment-100.g0310.ll.unc.edu/output_dir\n"
     ]
    },
    {
     "name": "stderr",
     "output_type": "stream",
     "text": [
      "You are instantiating a Trainer but Tensorboard is not installed. You should consider installing it.\n",
      "159it [09:13,  3.34s/it]"
     ]
    },
    {
     "name": "stdout",
     "output_type": "stream",
     "text": [
      "Loading from /export/home/hguo/Experiments/20201019/random/./retraining-remove-15-incorrect-random-entailment-10000.g0310.ll.unc.edu/output_dir\n"
     ]
    },
    {
     "name": "stderr",
     "output_type": "stream",
     "text": [
      "You are instantiating a Trainer but Tensorboard is not installed. You should consider installing it.\n",
      "160it [09:16,  3.33s/it]"
     ]
    },
    {
     "name": "stdout",
     "output_type": "stream",
     "text": [
      "Loading from /export/home/hguo/Experiments/20201019/random/./retraining-remove-15-incorrect-random-contradiction-1.g0310.ll.unc.edu/output_dir\n"
     ]
    },
    {
     "name": "stderr",
     "output_type": "stream",
     "text": [
      "You are instantiating a Trainer but Tensorboard is not installed. You should consider installing it.\n",
      "161it [09:20,  3.33s/it]"
     ]
    },
    {
     "name": "stdout",
     "output_type": "stream",
     "text": [
      "Loading from /export/home/hguo/Experiments/20201019/random/./retraining-remove-15-incorrect-random-contradiction-100.g0310.ll.unc.edu/output_dir\n"
     ]
    },
    {
     "name": "stderr",
     "output_type": "stream",
     "text": [
      "You are instantiating a Trainer but Tensorboard is not installed. You should consider installing it.\n",
      "162it [09:23,  3.48s/it]"
     ]
    },
    {
     "name": "stdout",
     "output_type": "stream",
     "text": [
      "Loading from /export/home/hguo/Experiments/20201019/random/./retraining-remove-15-incorrect-random-contradiction-10000.g0310.ll.unc.edu/output_dir\n"
     ]
    },
    {
     "name": "stderr",
     "output_type": "stream",
     "text": [
      "\n"
     ]
    }
   ],
   "source": [
    "EXPERIMENTS_BASE_DIR = \"/export/home/hguo/Experiments/20201019\"\n",
    "\n",
    "\n",
    "def _load_model(\n",
    "        mode: str,\n",
    "        example_index: int,\n",
    "        correct_mode: str,\n",
    "        tag: str,\n",
    "        num_data_points_to_remove: int\n",
    ") -> Tuple[torch.nn.Module, transformers.Trainer]:\n",
    "    if mode != \"original\":\n",
    "        if mode in [\"full\"]:\n",
    "            relative_dir = \"full\"\n",
    "            hostname = \"g0306.ll.unc.edu\"\n",
    "\n",
    "        if mode in [\"KNN-1000\", \"KNN-10000\"]:\n",
    "            relative_dir = \"KNN\"\n",
    "            hostname = \"g0303.ll.unc.edu\"\n",
    "\n",
    "        if mode in [\"random\"]:\n",
    "            relative_dir = \"random\"\n",
    "            hostname = \"g0310.ll.unc.edu\"\n",
    "\n",
    "        folder_name = (\n",
    "            f\"./retraining-remove-\"\n",
    "            f\"{example_index}-\"\n",
    "            f\"{correct_mode}-\"\n",
    "            f\"{mode}-\"\n",
    "            f\"{tag}-\"\n",
    "            f\"{num_data_points_to_remove}\"\n",
    "            f\".{hostname}\"\n",
    "        )\n",
    "\n",
    "        model_dir = os.path.join(\n",
    "            EXPERIMENTS_BASE_DIR,\n",
    "            relative_dir,\n",
    "            folder_name,\n",
    "            \"output_dir\")\n",
    "    else:\n",
    "        if not all([\n",
    "                example_index is None,\n",
    "                correct_mode is None,\n",
    "                tag is None,\n",
    "                num_data_points_to_remove is None\n",
    "        ]):\n",
    "            raise ValueError\n",
    "\n",
    "        model_dir = constants.MNLI_MODEL_PATH\n",
    "\n",
    "    model = AutoModelForSequenceClassification.from_pretrained(model_dir)\n",
    "    model.eval()\n",
    "\n",
    "    # Most of these arguments are placeholders\n",
    "    # and are not really used at all, so ignore\n",
    "    # the exact values of these.\n",
    "    trainer = transformers.Trainer(\n",
    "        model=model,\n",
    "        args=TrainingArguments(\n",
    "            output_dir=\"./tmp-output\",\n",
    "            per_device_train_batch_size=128,\n",
    "            per_device_eval_batch_size=128,\n",
    "            learning_rate=5e-5,\n",
    "            logging_steps=100),\n",
    "    )\n",
    "\n",
    "    if model.training is True:\n",
    "        raise ValueError\n",
    "    \n",
    "    print(f\"Loading from {model_dir}\")\n",
    "    return model, trainer\n",
    "\n",
    "def _compute_loss(\n",
    "        trainer: transformers.Trainer,\n",
    "        model: torch.nn.Module,\n",
    "        inputs: Dict[str, Any],\n",
    ") -> torch.Tensor:\n",
    "    _, _, batch_mean_loss = misc_utils.predict(\n",
    "        trainer=trainer,\n",
    "        model=model,\n",
    "        inputs=inputs)\n",
    "\n",
    "    return batch_mean_loss\n",
    "\n",
    "\n",
    "with tqdm(total=None) as pbar:\n",
    "    loss_collections = []\n",
    "    for mode in [\"full\", \"KNN-1000\", \"KNN-10000\", \"random\"]:\n",
    "        for example_relative_index in range(NUM_RETRAINING_EXPERIMENTS):\n",
    "            for correct_mode in [\"correct\", \"incorrect\"]:\n",
    "                if correct_mode == \"correct\":\n",
    "                    example_index = CORRECT_INDICES[example_relative_index]\n",
    "                if correct_mode == \"incorrect\":\n",
    "                    example_index = INCORRECT_INDICES[example_relative_index]\n",
    "\n",
    "                if mode in [\"full\", \"KNN-1000\", \"KNN-10000\"]:\n",
    "                    tags = [\"helpful\", \"harmful\"]\n",
    "\n",
    "                elif mode in [\"random\"]:\n",
    "                    tags = [\"neutral\", \"entailment\", \"contradiction\"]\n",
    "\n",
    "                else:\n",
    "                    raise ValueError\n",
    "\n",
    "                for tag in tags:\n",
    "                    for num_data_points_to_remove in NUM_DATAPOINTS_TO_REMOVE_CHOICES:\n",
    "                        test_inputs = test_inputs_collections[example_index]\n",
    "\n",
    "                        model, trainer = _load_model(\n",
    "                            mode=mode,\n",
    "                            example_index=example_index,\n",
    "                            correct_mode=correct_mode,\n",
    "                            tag=tag,\n",
    "                            num_data_points_to_remove=num_data_points_to_remove)\n",
    "\n",
    "                        loss = _compute_loss(\n",
    "                            trainer=trainer,\n",
    "                            model=model,\n",
    "                            inputs=test_inputs)\n",
    "\n",
    "                        loss_collections.append({\n",
    "                            \"mode\": mode,\n",
    "                            \"correct_mode\": correct_mode,\n",
    "                            \"example_index\": example_index,\n",
    "                            \"tag\": tag,\n",
    "                            \"num_data_points_to_remove\": num_data_points_to_remove,\n",
    "                            \"loss\": loss,\n",
    "                        })\n",
    "\n",
    "                        pbar.update(1)"
   ]
  },
  {
   "cell_type": "code",
   "execution_count": 7,
   "metadata": {},
   "outputs": [],
   "source": [
    "# example_index = 2\n",
    "# correct_mode = \"correct\"\n",
    "# mode = \"KNN-10000\"\n",
    "# tag = \"helpful\"\n",
    "# num_data_points_to_remove = 100\n",
    "\n",
    "# model = _load_model(\n",
    "#     example_index=example_index,\n",
    "#     correct_mode=correct_mode,\n",
    "#     mode=mode, tag=tag,\n",
    "#     num_data_points_to_remove=num_data_points_to_remove)\n",
    "# inputs = test_inputs_collections[0]"
   ]
  },
  {
   "cell_type": "code",
   "execution_count": null,
   "metadata": {},
   "outputs": [],
   "source": []
  },
  {
   "cell_type": "code",
   "execution_count": 8,
   "metadata": {},
   "outputs": [
    {
     "name": "stderr",
     "output_type": "stream",
     "text": [
      "You are instantiating a Trainer but Tensorboard is not installed. You should consider installing it.\n"
     ]
    },
    {
     "name": "stdout",
     "output_type": "stream",
     "text": [
      "Loading from /export/home/hguo/Experiments/20200706/\n"
     ]
    },
    {
     "name": "stderr",
     "output_type": "stream",
     "text": [
      "You are instantiating a Trainer but Tensorboard is not installed. You should consider installing it.\n"
     ]
    },
    {
     "name": "stdout",
     "output_type": "stream",
     "text": [
      "Loading from /export/home/hguo/Experiments/20200706/\n"
     ]
    },
    {
     "name": "stderr",
     "output_type": "stream",
     "text": [
      "You are instantiating a Trainer but Tensorboard is not installed. You should consider installing it.\n"
     ]
    },
    {
     "name": "stdout",
     "output_type": "stream",
     "text": [
      "Loading from /export/home/hguo/Experiments/20200706/\n"
     ]
    },
    {
     "name": "stderr",
     "output_type": "stream",
     "text": [
      "You are instantiating a Trainer but Tensorboard is not installed. You should consider installing it.\n"
     ]
    },
    {
     "name": "stdout",
     "output_type": "stream",
     "text": [
      "Loading from /export/home/hguo/Experiments/20200706/\n"
     ]
    },
    {
     "name": "stderr",
     "output_type": "stream",
     "text": [
      "You are instantiating a Trainer but Tensorboard is not installed. You should consider installing it.\n"
     ]
    },
    {
     "name": "stdout",
     "output_type": "stream",
     "text": [
      "Loading from /export/home/hguo/Experiments/20200706/\n"
     ]
    },
    {
     "name": "stderr",
     "output_type": "stream",
     "text": [
      "You are instantiating a Trainer but Tensorboard is not installed. You should consider installing it.\n"
     ]
    },
    {
     "name": "stdout",
     "output_type": "stream",
     "text": [
      "Loading from /export/home/hguo/Experiments/20200706/\n"
     ]
    }
   ],
   "source": [
    "for example_relative_index in range(NUM_RETRAINING_EXPERIMENTS):\n",
    "    for correct_mode in [\"correct\", \"incorrect\"]:\n",
    "        if correct_mode == \"correct\":\n",
    "            example_index = CORRECT_INDICES[example_relative_index]\n",
    "        if correct_mode == \"incorrect\":\n",
    "            example_index = INCORRECT_INDICES[example_relative_index]\n",
    "\n",
    "        test_inputs = test_inputs_collections[example_index]\n",
    "\n",
    "        model, trainer = _load_model(\n",
    "            mode=\"original\",\n",
    "            example_index=None,\n",
    "            correct_mode=None,\n",
    "            tag=None,\n",
    "            num_data_points_to_remove=None)\n",
    "\n",
    "        loss = _compute_loss(\n",
    "            trainer=trainer,\n",
    "            model=model,\n",
    "            inputs=test_inputs)\n",
    "\n",
    "        loss_collections.append({\n",
    "            \"mode\": \"original\",\n",
    "            \"correct_mode\": correct_mode,\n",
    "            \"example_index\": example_index,\n",
    "            \"tag\": None,\n",
    "            \"num_data_points_to_remove\": None,\n",
    "            \"loss\": loss,\n",
    "        })\n",
    "\n",
    "        pbar.update(1)"
   ]
  },
  {
   "cell_type": "code",
   "execution_count": 409,
   "metadata": {},
   "outputs": [],
   "source": [
    "# torch.save(loss_collections, \"/export/home/hguo/Experiments/20201102/loss_collections.20201102.pt\")"
   ]
  },
  {
   "cell_type": "code",
   "execution_count": 320,
   "metadata": {},
   "outputs": [
    {
     "data": {
      "text/html": [
       "<div>\n",
       "<style scoped>\n",
       "    .dataframe tbody tr th:only-of-type {\n",
       "        vertical-align: middle;\n",
       "    }\n",
       "\n",
       "    .dataframe tbody tr th {\n",
       "        vertical-align: top;\n",
       "    }\n",
       "\n",
       "    .dataframe thead th {\n",
       "        text-align: right;\n",
       "    }\n",
       "</style>\n",
       "<table border=\"1\" class=\"dataframe\">\n",
       "  <thead>\n",
       "    <tr style=\"text-align: right;\">\n",
       "      <th></th>\n",
       "      <th>mode</th>\n",
       "      <th>correct_mode</th>\n",
       "      <th>example_index</th>\n",
       "      <th>tag</th>\n",
       "      <th>num_data_points_to_remove</th>\n",
       "      <th>loss</th>\n",
       "      <th>loss_diff</th>\n",
       "    </tr>\n",
       "  </thead>\n",
       "  <tbody>\n",
       "    <tr>\n",
       "      <th>0</th>\n",
       "      <td>full</td>\n",
       "      <td>correct</td>\n",
       "      <td>0</td>\n",
       "      <td>helpful</td>\n",
       "      <td>1.0</td>\n",
       "      <td>0.460587</td>\n",
       "      <td>0.068262</td>\n",
       "    </tr>\n",
       "    <tr>\n",
       "      <th>1</th>\n",
       "      <td>full</td>\n",
       "      <td>correct</td>\n",
       "      <td>0</td>\n",
       "      <td>helpful</td>\n",
       "      <td>100.0</td>\n",
       "      <td>0.566573</td>\n",
       "      <td>0.174249</td>\n",
       "    </tr>\n",
       "    <tr>\n",
       "      <th>2</th>\n",
       "      <td>full</td>\n",
       "      <td>correct</td>\n",
       "      <td>0</td>\n",
       "      <td>helpful</td>\n",
       "      <td>10000.0</td>\n",
       "      <td>5.615797</td>\n",
       "      <td>5.223472</td>\n",
       "    </tr>\n",
       "    <tr>\n",
       "      <th>3</th>\n",
       "      <td>full</td>\n",
       "      <td>correct</td>\n",
       "      <td>0</td>\n",
       "      <td>harmful</td>\n",
       "      <td>1.0</td>\n",
       "      <td>0.400037</td>\n",
       "      <td>0.007712</td>\n",
       "    </tr>\n",
       "    <tr>\n",
       "      <th>4</th>\n",
       "      <td>full</td>\n",
       "      <td>correct</td>\n",
       "      <td>0</td>\n",
       "      <td>harmful</td>\n",
       "      <td>100.0</td>\n",
       "      <td>0.283041</td>\n",
       "      <td>-0.109284</td>\n",
       "    </tr>\n",
       "    <tr>\n",
       "      <th>...</th>\n",
       "      <td>...</td>\n",
       "      <td>...</td>\n",
       "      <td>...</td>\n",
       "      <td>...</td>\n",
       "      <td>...</td>\n",
       "      <td>...</td>\n",
       "      <td>...</td>\n",
       "    </tr>\n",
       "    <tr>\n",
       "      <th>163</th>\n",
       "      <td>original</td>\n",
       "      <td>incorrect</td>\n",
       "      <td>3</td>\n",
       "      <td>None</td>\n",
       "      <td>NaN</td>\n",
       "      <td>0.759366</td>\n",
       "      <td>0.000000</td>\n",
       "    </tr>\n",
       "    <tr>\n",
       "      <th>164</th>\n",
       "      <td>original</td>\n",
       "      <td>correct</td>\n",
       "      <td>1</td>\n",
       "      <td>None</td>\n",
       "      <td>NaN</td>\n",
       "      <td>0.022249</td>\n",
       "      <td>0.000000</td>\n",
       "    </tr>\n",
       "    <tr>\n",
       "      <th>165</th>\n",
       "      <td>original</td>\n",
       "      <td>incorrect</td>\n",
       "      <td>14</td>\n",
       "      <td>None</td>\n",
       "      <td>NaN</td>\n",
       "      <td>2.864019</td>\n",
       "      <td>0.000000</td>\n",
       "    </tr>\n",
       "    <tr>\n",
       "      <th>166</th>\n",
       "      <td>original</td>\n",
       "      <td>correct</td>\n",
       "      <td>2</td>\n",
       "      <td>None</td>\n",
       "      <td>NaN</td>\n",
       "      <td>0.321906</td>\n",
       "      <td>0.000000</td>\n",
       "    </tr>\n",
       "    <tr>\n",
       "      <th>167</th>\n",
       "      <td>original</td>\n",
       "      <td>incorrect</td>\n",
       "      <td>15</td>\n",
       "      <td>None</td>\n",
       "      <td>NaN</td>\n",
       "      <td>4.337420</td>\n",
       "      <td>0.000000</td>\n",
       "    </tr>\n",
       "  </tbody>\n",
       "</table>\n",
       "<p>168 rows × 7 columns</p>\n",
       "</div>"
      ],
      "text/plain": [
       "         mode correct_mode  example_index      tag  num_data_points_to_remove  \\\n",
       "0        full      correct              0  helpful                        1.0   \n",
       "1        full      correct              0  helpful                      100.0   \n",
       "2        full      correct              0  helpful                    10000.0   \n",
       "3        full      correct              0  harmful                        1.0   \n",
       "4        full      correct              0  harmful                      100.0   \n",
       "..        ...          ...            ...      ...                        ...   \n",
       "163  original    incorrect              3     None                        NaN   \n",
       "164  original      correct              1     None                        NaN   \n",
       "165  original    incorrect             14     None                        NaN   \n",
       "166  original      correct              2     None                        NaN   \n",
       "167  original    incorrect             15     None                        NaN   \n",
       "\n",
       "         loss  loss_diff  \n",
       "0    0.460587   0.068262  \n",
       "1    0.566573   0.174249  \n",
       "2    5.615797   5.223472  \n",
       "3    0.400037   0.007712  \n",
       "4    0.283041  -0.109284  \n",
       "..        ...        ...  \n",
       "163  0.759366   0.000000  \n",
       "164  0.022249   0.000000  \n",
       "165  2.864019   0.000000  \n",
       "166  0.321906   0.000000  \n",
       "167  4.337420   0.000000  \n",
       "\n",
       "[168 rows x 7 columns]"
      ]
     },
     "execution_count": 320,
     "metadata": {},
     "output_type": "execute_result"
    }
   ],
   "source": [
    "import pandas as pd\n",
    "loss_df = pd.DataFrame(loss_collections)\n",
    "\n",
    "def _get_loss_diff(row):\n",
    "    loss_diff = loss_df[\n",
    "        (loss_df[\"mode\"] == \"original\") &\n",
    "        (loss_df[\"correct_mode\"] == row[\"correct_mode\"]) &\n",
    "        (loss_df[\"example_index\"] == row[\"example_index\"])\n",
    "    ][\"loss\"].values\n",
    "\n",
    "    if loss_diff.shape != (1, ):\n",
    "        raise ValueError\n",
    "\n",
    "    return loss_diff[0]\n",
    "\n",
    "\n",
    "loss_df[\"loss_diff\"] = loss_df.apply(lambda row: row[\"loss\"] - _get_loss_diff(row), axis=1)\n",
    "\n",
    "if not (loss_df[loss_df[\"mode\"] == \"original\"].loss_diff.values == 0.0).all():\n",
    "    raise ValueError\n",
    "\n",
    "loss_df"
   ]
  },
  {
   "cell_type": "code",
   "execution_count": null,
   "metadata": {},
   "outputs": [],
   "source": []
  },
  {
   "cell_type": "code",
   "execution_count": 336,
   "metadata": {},
   "outputs": [],
   "source": [
    "new_losses_mean = pd.DataFrame(\n",
    "    loss_df[loss_df[\"mode\"] != \"original\"]\n",
    "    .groupby([\"mode\", \"correct_mode\", \"tag\", \"num_data_points_to_remove\"])\n",
    "    [\"loss_diff\"].mean()\n",
    ").to_dict()[\"loss_diff\"]\n",
    "\n",
    "new_losses_std = pd.DataFrame(\n",
    "    loss_df[loss_df[\"mode\"] != \"original\"]\n",
    "    .groupby([\"mode\", \"correct_mode\", \"tag\", \"num_data_points_to_remove\"])\n",
    "    [\"loss_diff\"].std()\n",
    ").to_dict()[\"loss_diff\"]\n",
    "\n",
    "original_losses_mean = pd.DataFrame(\n",
    "    loss_df[loss_df[\"mode\"] == \"original\"]\n",
    "    .groupby([\"mode\", \"correct_mode\"])\n",
    "    [\"loss_diff\"].mean()\n",
    ").to_dict()[\"loss_diff\"]\n",
    "\n",
    "original_losses_std = pd.DataFrame(\n",
    "    loss_df[loss_df[\"mode\"] == \"original\"]\n",
    "    .groupby([\"mode\", \"correct_mode\"])\n",
    "    [\"loss_diff\"].std()\n",
    ").to_dict()[\"loss_diff\"]"
   ]
  },
  {
   "cell_type": "code",
   "execution_count": null,
   "metadata": {},
   "outputs": [],
   "source": []
  },
  {
   "cell_type": "code",
   "execution_count": null,
   "metadata": {},
   "outputs": [],
   "source": []
  },
  {
   "cell_type": "code",
   "execution_count": null,
   "metadata": {},
   "outputs": [],
   "source": []
  },
  {
   "cell_type": "code",
   "execution_count": null,
   "metadata": {},
   "outputs": [],
   "source": []
  },
  {
   "cell_type": "code",
   "execution_count": 391,
   "metadata": {},
   "outputs": [
    {
     "data": {
      "image/png": "[encoded data removed]",
      "text/plain": [
       "<Figure size 1620x720 with 2 Axes>"
      ]
     },
     "metadata": {
      "needs_background": "light"
     },
     "output_type": "display_data"
    }
   ],
   "source": [
    "import matplotlib.pyplot as plt\n",
    "plt.rcParams[\"figure.figsize\"] = (22.5, 10)\n",
    "plt.rcParams.update({\"font.size\": 15})\n",
    "figure, axes = plt.subplots(1, 2, sharex=True)\n",
    "\n",
    "\n",
    "for mode in [\"full\", \"KNN-1000\", \"KNN-10000\", \"random\"]:\n",
    "    for axis_index, correct_mode in enumerate([\"correct\", \"incorrect\"]):\n",
    "        if correct_mode == \"correct\":\n",
    "            example_index = CORRECT_INDICES[example_relative_index]\n",
    "        if correct_mode == \"incorrect\":\n",
    "            example_index = INCORRECT_INDICES[example_relative_index]\n",
    "\n",
    "        if mode in [\"full\", \"KNN-1000\", \"KNN-10000\"]:\n",
    "            tags = [\"helpful\", \"harmful\"]\n",
    "\n",
    "        elif mode in [\"random\"]:\n",
    "            tags = [\"neutral\", \"entailment\", \"contradiction\"]\n",
    "\n",
    "        else:\n",
    "            raise ValueError\n",
    "\n",
    "        for tag in tags:\n",
    "            Xs = [0]# [0, 1, 100, 10000]\n",
    "            Ys_mean = [original_losses_mean[(\"original\", correct_mode)]]\n",
    "            Ys_std_min = [\n",
    "                original_losses_mean[(\"original\", correct_mode)] -\n",
    "                original_losses_std[(\"original\", correct_mode)]\n",
    "            ]\n",
    "            Ys_std_max = [\n",
    "                original_losses_mean[(\"original\", correct_mode)] +\n",
    "                original_losses_std[(\"original\", correct_mode)]\n",
    "            ]\n",
    "            for num_data_points_to_remove in NUM_DATAPOINTS_TO_REMOVE_CHOICES:\n",
    "                Xs.append(num_data_points_to_remove)\n",
    "                Ys_mean.append(losses_mean[(\n",
    "                    mode, correct_mode, tag, num_data_points_to_remove\n",
    "                )])\n",
    "\n",
    "                Ys_std_min.append(\n",
    "                    losses_mean[(mode, correct_mode, tag, num_data_points_to_remove)] -\n",
    "                    losses_std[(mode, correct_mode, tag, num_data_points_to_remove)]\n",
    "                )\n",
    "                Ys_std_max.append(\n",
    "                    losses_mean[(mode, correct_mode, tag, num_data_points_to_remove)] +\n",
    "                    losses_std[(mode, correct_mode, tag, num_data_points_to_remove)]\n",
    "                )\n",
    "\n",
    "            axes[axis_index].plot(\n",
    "                Xs, Ys_mean,\n",
    "                linestyle=\"--\",\n",
    "                marker=\"o\",\n",
    "                label=f\"{mode}-{tag}\",\n",
    "                linewidth=2.5,\n",
    "                markersize=10,\n",
    "                color={\n",
    "                    (\"full\", \"helpful\"): \"#407A78\",\n",
    "                    (\"KNN-10000\", \"helpful\"): \"#7CA6A0\",\n",
    "                    (\"KNN-1000\", \"helpful\"): \"#9FBDB6\",\n",
    "                    (\"full\", \"harmful\"): \"#EBA788\",\n",
    "                    (\"KNN-10000\", \"harmful\"): \"#FAC8B1\",\n",
    "                    (\"KNN-1000\", \"harmful\"): \"#F5DAC9\",\n",
    "                    (\"random\", \"neutral\"): \"lightgrey\",\n",
    "                    (\"random\", \"entailment\"): \"lightgrey\",\n",
    "                    (\"random\", \"contradiction\"): \"lightgrey\",\n",
    "                }[(mode, tag)])\n",
    "            axes[axis_index].legend()\n",
    "            axes[axis_index].set_xscale(\"symlog\")\n",
    "            axes[axis_index].set_yscale(\"symlog\")\n",
    "            axes[axis_index].set_xlabel(\"Number of Data-points Removed\")\n",
    "            axes[axis_index].set_ylabel(\"Change in Loss\")\n",
    "            axes[axis_index].set_title(f\"{correct_mode.capitalize()}\")\n",
    "            if correct_mode == \"correct\":\n",
    "                axes[axis_index].set_ylim(top=0.25, bottom=-0.25)\n",
    "            else:\n",
    "                axes[axis_index].set_ylim(top=0.75, bottom=-0.75)\n",
    "\n",
    "# figure.savefig(\"./20201102-retraining.pdf\")"
   ]
  },
  {
   "cell_type": "code",
   "execution_count": 382,
   "metadata": {},
   "outputs": [],
   "source": [
    "# for column, correct_mode in enumerate([\"correct\", \"incorrect\"]):\n",
    "#     for mode in [\"full\", \"KNN-1000\", \"KNN-10000\"]:\n",
    "#         for row, tag in enumerate([\"helpful\", \"harmful\"]):\n",
    "\n",
    "#     for random_label in [\"neutral\", \"entailment\", \"contradiction\"]:\n",
    "#         Xs = [0, 1, 2, 3]# [0, 1, 100, 10000]\n",
    "#         Ys_mean = [\n",
    "#             original_losses_mean[(\"original\", correct_mode)]\n",
    "#         ] + [\n",
    "#             losses_mean[(\"random\", correct_mode, random_label, n)] for n in [1, 100, 10000]\n",
    "#         ]\n",
    "\n",
    "#         Ys_std_min = [\n",
    "#             original_losses_mean[(\"original\", correct_mode)] -\n",
    "#             original_losses_std[(\"original\", correct_mode)]\n",
    "#         ] + [\n",
    "#             losses_mean[(\"random\", correct_mode, random_label, n)] -\n",
    "#             losses_std[(\"random\", correct_mode, random_label, n)]\n",
    "#             for n in [1, 100, 10000]\n",
    "#         ]\n",
    "\n",
    "#         Ys_std_max = [\n",
    "#             original_losses_mean[(\"original\", correct_mode)] +\n",
    "#             original_losses_std[(\"original\", correct_mode)]\n",
    "#         ] + [\n",
    "#             losses_mean[(\"random\", correct_mode, random_label, n)] +\n",
    "#             losses_std[(\"random\", correct_mode, random_label, n)]\n",
    "#             for n in [1, 100, 10000]\n",
    "#         ]\n",
    "#         axes[column].plot(Xs, Ys_mean, label=f\"{random_label}\", linestyle=\"--\")\n",
    "#         axes[column].legend()\n",
    "#         if correct_mode == \"correct\":\n",
    "#             axes[column].set_ylim(top=0.2, bottom=-0.25)\n",
    "#         else:\n",
    "#             axes[column].set_ylim(top=0.25, bottom=-0.5)\n",
    "#         axes[column].set_title(f\"{correct_mode}\")"
   ]
  },
  {
   "cell_type": "code",
   "execution_count": 145,
   "metadata": {},
   "outputs": [],
   "source": [
    "# for mode in [\"full\", \"KNN-1000\", \"KNN-10000\"]:\n",
    "#     Xs = [0, 1, 100, 10000]\n",
    "#     Ys = [\n",
    "#         original_losses_mean[(\"original\", \"correct\")]\n",
    "#     ] + [\n",
    "#         losses_mean[(mode, \"incorrect\", \"harmful\", n)] for n in [1, 100, 10000]\n",
    "#     ]\n",
    "#     plt.plot(Xs, Ys, label=mode)\n",
    "\n",
    "# plt.legend()\n",
    "# plt.xscale(\"log\")"
   ]
  },
  {
   "cell_type": "code",
   "execution_count": null,
   "metadata": {},
   "outputs": [],
   "source": []
  },
  {
   "cell_type": "code",
   "execution_count": null,
   "metadata": {},
   "outputs": [],
   "source": []
  },
  {
   "cell_type": "code",
   "execution_count": null,
   "metadata": {},
   "outputs": [],
   "source": []
  },
  {
   "cell_type": "code",
   "execution_count": null,
   "metadata": {},
   "outputs": [],
   "source": []
  },
  {
   "cell_type": "code",
   "execution_count": null,
   "metadata": {},
   "outputs": [],
   "source": []
  },
  {
   "cell_type": "code",
   "execution_count": null,
   "metadata": {},
   "outputs": [],
   "source": []
  }
 ],
 "metadata": {
  "kernelspec": {
   "display_name": "Python 3",
   "language": "python",
   "name": "python3"
  },
  "language_info": {
   "codemirror_mode": {
    "name": "ipython",
    "version": 3
   },
   "file_extension": ".py",
   "mimetype": "text/x-python",
   "name": "python",
   "nbconvert_exporter": "python",
   "pygments_lexer": "ipython3",
   "version": "3.7.7"
  }
 },
 "nbformat": 4,
 "nbformat_minor": 4
}
