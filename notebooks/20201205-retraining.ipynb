{
 "cells": [
  {
   "cell_type": "code",
   "execution_count": 1,
   "metadata": {},
   "outputs": [
    {
     "name": "stdout",
     "output_type": "stream",
     "text": [
      "/workspace/fast-influence-functions\n"
     ]
    }
   ],
   "source": [
    "cd /workspace/fast-influence-functions"
   ]
  },
  {
   "cell_type": "code",
   "execution_count": 2,
   "metadata": {},
   "outputs": [],
   "source": [
    "import os\n",
    "os.environ[\"CUDA_DEVICE_ORDER\"]=\"PCI_BUS_ID\"   # see issue #152\n",
    "os.environ[\"CUDA_VISIBLE_DEVICES\"]=\"3\""
   ]
  },
  {
   "cell_type": "code",
   "execution_count": 3,
   "metadata": {},
   "outputs": [
    {
     "name": "stderr",
     "output_type": "stream",
     "text": [
      "\u001b[34m\u001b[1mwandb\u001b[0m: \u001b[33mWARNING\u001b[0m W&B installed but not logged in.  Run `wandb login` or set the WANDB_API_KEY env variable.\n"
     ]
    }
   ],
   "source": [
    "import torch\n",
    "import transformers\n",
    "from tqdm import tqdm\n",
    "from transformers import TrainingArguments\n",
    "from transformers import default_data_collator\n",
    "from transformers import AutoModelForSequenceClassification\n",
    "from typing import Tuple, Dict, Any, Optional, List\n",
    "\n",
    "from run_experiments import NUM_RETRAINING_EXPERIMENTS\n",
    "from experiments import constants\n",
    "from experiments import misc_utils\n",
    "from experiments.data_utils import glue_output_modes\n",
    "from experiments.mnli import (\n",
    "    NUM_DATAPOINTS_TO_REMOVE_CHOICES,\n",
    "    CORRECT_INDICES,\n",
    "    INCORRECT_INDICES)"
   ]
  },
  {
   "cell_type": "code",
   "execution_count": 4,
   "metadata": {},
   "outputs": [
    {
     "name": "stdout",
     "output_type": "stream",
     "text": [
      "Params Trainable: 14768643\n",
      "\tbert.encoder.layer.10.attention.self.query.weight\n",
      "\tbert.encoder.layer.10.attention.self.query.bias\n",
      "\tbert.encoder.layer.10.attention.self.key.weight\n",
      "\tbert.encoder.layer.10.attention.self.key.bias\n",
      "\tbert.encoder.layer.10.attention.self.value.weight\n",
      "\tbert.encoder.layer.10.attention.self.value.bias\n",
      "\tbert.encoder.layer.10.attention.output.dense.weight\n",
      "\tbert.encoder.layer.10.attention.output.dense.bias\n",
      "\tbert.encoder.layer.10.attention.output.LayerNorm.weight\n",
      "\tbert.encoder.layer.10.attention.output.LayerNorm.bias\n",
      "\tbert.encoder.layer.10.intermediate.dense.weight\n",
      "\tbert.encoder.layer.10.intermediate.dense.bias\n",
      "\tbert.encoder.layer.10.output.dense.weight\n",
      "\tbert.encoder.layer.10.output.dense.bias\n",
      "\tbert.encoder.layer.10.output.LayerNorm.weight\n",
      "\tbert.encoder.layer.10.output.LayerNorm.bias\n",
      "\tbert.encoder.layer.11.attention.self.query.weight\n",
      "\tbert.encoder.layer.11.attention.self.query.bias\n",
      "\tbert.encoder.layer.11.attention.self.key.weight\n",
      "\tbert.encoder.layer.11.attention.self.key.bias\n",
      "\tbert.encoder.layer.11.attention.self.value.weight\n",
      "\tbert.encoder.layer.11.attention.self.value.bias\n",
      "\tbert.encoder.layer.11.attention.output.dense.weight\n",
      "\tbert.encoder.layer.11.attention.output.dense.bias\n",
      "\tbert.encoder.layer.11.attention.output.LayerNorm.weight\n",
      "\tbert.encoder.layer.11.attention.output.LayerNorm.bias\n",
      "\tbert.encoder.layer.11.intermediate.dense.weight\n",
      "\tbert.encoder.layer.11.intermediate.dense.bias\n",
      "\tbert.encoder.layer.11.output.dense.weight\n",
      "\tbert.encoder.layer.11.output.dense.bias\n",
      "\tbert.encoder.layer.11.output.LayerNorm.weight\n",
      "\tbert.encoder.layer.11.output.LayerNorm.bias\n",
      "\tbert.pooler.dense.weight\n",
      "\tbert.pooler.dense.bias\n",
      "\tclassifier.weight\n",
      "\tclassifier.bias\n"
     ]
    }
   ],
   "source": [
    "tokenizer, _ = misc_utils.create_tokenizer_and_model(\n",
    "    constants.MNLI_MODEL_PATH)\n",
    "\n",
    "(_,\n",
    " mnli_eval_dataset) = misc_utils.create_datasets(\n",
    "    task_name=\"mnli\",\n",
    "    tokenizer=tokenizer)\n",
    "\n",
    "eval_instance_data_loader = misc_utils.get_dataloader(\n",
    "    dataset=mnli_eval_dataset,\n",
    "    batch_size=1,\n",
    "    random=False)"
   ]
  },
  {
   "cell_type": "code",
   "execution_count": null,
   "metadata": {},
   "outputs": [],
   "source": []
  },
  {
   "cell_type": "code",
   "execution_count": 5,
   "metadata": {},
   "outputs": [],
   "source": [
    "def get_test_inputs_collections() -> List[int]:\n",
    "    test_inputs_collections = {}\n",
    "    for test_index, test_inputs in enumerate(eval_instance_data_loader):\n",
    "        if test_index in (\n",
    "                CORRECT_INDICES[:NUM_RETRAINING_EXPERIMENTS] +\n",
    "                INCORRECT_INDICES[:NUM_RETRAINING_EXPERIMENTS]):\n",
    "\n",
    "            test_inputs_collections[test_index] = test_inputs\n",
    "\n",
    "    return test_inputs_collections\n",
    "\n",
    "# Get the inputs collections\n",
    "test_inputs_collections = get_test_inputs_collections()"
   ]
  },
  {
   "cell_type": "code",
   "execution_count": 7,
   "metadata": {},
   "outputs": [
    {
     "data": {
      "text/plain": [
       "[1, 5, 25]"
      ]
     },
     "metadata": {},
     "output_type": "display_data"
    }
   ],
   "source": [
    "display(NUM_DATAPOINTS_TO_REMOVE_CHOICES)\n",
    "NUM_DATAPOINTS_TO_REMOVE_CHOICES = [5, 25]"
   ]
  },
  {
   "cell_type": "code",
   "execution_count": null,
   "metadata": {},
   "outputs": [],
   "source": []
  },
  {
   "cell_type": "code",
   "execution_count": 8,
   "metadata": {},
   "outputs": [
    {
     "name": "stderr",
     "output_type": "stream",
     "text": [
      "0it [00:00, ?it/s]You are instantiating a Trainer but Tensorboard is not installed. You should consider installing it.\n"
     ]
    },
    {
     "name": "stdout",
     "output_type": "stream",
     "text": [
      "Loading from /export/home/hguo/Experiments/20201204/full/./retraining-remove-0-correct-full-helpful-5/output_dir\n"
     ]
    },
    {
     "name": "stderr",
     "output_type": "stream",
     "text": [
      "1it [00:12, 12.88s/it]You are instantiating a Trainer but Tensorboard is not installed. You should consider installing it.\n",
      "2it [00:27, 13.28s/it]"
     ]
    },
    {
     "name": "stdout",
     "output_type": "stream",
     "text": [
      "Loading from /export/home/hguo/Experiments/20201204/full/./retraining-remove-0-correct-full-helpful-25/output_dir\n"
     ]
    },
    {
     "name": "stderr",
     "output_type": "stream",
     "text": [
      "You are instantiating a Trainer but Tensorboard is not installed. You should consider installing it.\n",
      "3it [00:36, 12.08s/it]"
     ]
    },
    {
     "name": "stdout",
     "output_type": "stream",
     "text": [
      "Loading from /export/home/hguo/Experiments/20201204/full/./retraining-remove-0-correct-full-harmful-5/output_dir\n"
     ]
    },
    {
     "name": "stderr",
     "output_type": "stream",
     "text": [
      "You are instantiating a Trainer but Tensorboard is not installed. You should consider installing it.\n",
      "4it [00:48, 12.19s/it]"
     ]
    },
    {
     "name": "stdout",
     "output_type": "stream",
     "text": [
      "Loading from /export/home/hguo/Experiments/20201204/full/./retraining-remove-0-correct-full-harmful-25/output_dir\n"
     ]
    },
    {
     "name": "stderr",
     "output_type": "stream",
     "text": [
      "You are instantiating a Trainer but Tensorboard is not installed. You should consider installing it.\n",
      "5it [00:56, 10.73s/it]"
     ]
    },
    {
     "name": "stdout",
     "output_type": "stream",
     "text": [
      "Loading from /export/home/hguo/Experiments/20201204/full/./retraining-remove-3-incorrect-full-helpful-5/output_dir\n"
     ]
    },
    {
     "name": "stderr",
     "output_type": "stream",
     "text": [
      "You are instantiating a Trainer but Tensorboard is not installed. You should consider installing it.\n",
      "6it [01:10, 11.88s/it]"
     ]
    },
    {
     "name": "stdout",
     "output_type": "stream",
     "text": [
      "Loading from /export/home/hguo/Experiments/20201204/full/./retraining-remove-3-incorrect-full-helpful-25/output_dir\n"
     ]
    },
    {
     "name": "stderr",
     "output_type": "stream",
     "text": [
      "You are instantiating a Trainer but Tensorboard is not installed. You should consider installing it.\n",
      "7it [01:22, 11.71s/it]"
     ]
    },
    {
     "name": "stdout",
     "output_type": "stream",
     "text": [
      "Loading from /export/home/hguo/Experiments/20201204/full/./retraining-remove-3-incorrect-full-harmful-5/output_dir\n"
     ]
    },
    {
     "name": "stderr",
     "output_type": "stream",
     "text": [
      "You are instantiating a Trainer but Tensorboard is not installed. You should consider installing it.\n",
      "8it [01:33, 11.56s/it]"
     ]
    },
    {
     "name": "stdout",
     "output_type": "stream",
     "text": [
      "Loading from /export/home/hguo/Experiments/20201204/full/./retraining-remove-3-incorrect-full-harmful-25/output_dir\n"
     ]
    },
    {
     "name": "stderr",
     "output_type": "stream",
     "text": [
      "You are instantiating a Trainer but Tensorboard is not installed. You should consider installing it.\n",
      "9it [01:47, 12.51s/it]"
     ]
    },
    {
     "name": "stdout",
     "output_type": "stream",
     "text": [
      "Loading from /export/home/hguo/Experiments/20201204/full/./retraining-remove-1-correct-full-helpful-5/output_dir\n"
     ]
    },
    {
     "name": "stderr",
     "output_type": "stream",
     "text": [
      "You are instantiating a Trainer but Tensorboard is not installed. You should consider installing it.\n",
      "10it [02:00, 12.61s/it]"
     ]
    },
    {
     "name": "stdout",
     "output_type": "stream",
     "text": [
      "Loading from /export/home/hguo/Experiments/20201204/full/./retraining-remove-1-correct-full-helpful-25/output_dir\n"
     ]
    },
    {
     "name": "stderr",
     "output_type": "stream",
     "text": [
      "You are instantiating a Trainer but Tensorboard is not installed. You should consider installing it.\n",
      "11it [02:08, 11.02s/it]"
     ]
    },
    {
     "name": "stdout",
     "output_type": "stream",
     "text": [
      "Loading from /export/home/hguo/Experiments/20201204/full/./retraining-remove-1-correct-full-harmful-5/output_dir\n"
     ]
    },
    {
     "name": "stderr",
     "output_type": "stream",
     "text": [
      "You are instantiating a Trainer but Tensorboard is not installed. You should consider installing it.\n",
      "12it [02:19, 11.12s/it]"
     ]
    },
    {
     "name": "stdout",
     "output_type": "stream",
     "text": [
      "Loading from /export/home/hguo/Experiments/20201204/full/./retraining-remove-1-correct-full-harmful-25/output_dir\n"
     ]
    },
    {
     "name": "stderr",
     "output_type": "stream",
     "text": [
      "You are instantiating a Trainer but Tensorboard is not installed. You should consider installing it.\n",
      "13it [02:29, 10.84s/it]"
     ]
    },
    {
     "name": "stdout",
     "output_type": "stream",
     "text": [
      "Loading from /export/home/hguo/Experiments/20201204/full/./retraining-remove-14-incorrect-full-helpful-5/output_dir\n"
     ]
    },
    {
     "name": "stderr",
     "output_type": "stream",
     "text": [
      "You are instantiating a Trainer but Tensorboard is not installed. You should consider installing it.\n",
      "14it [02:37,  9.85s/it]"
     ]
    },
    {
     "name": "stdout",
     "output_type": "stream",
     "text": [
      "Loading from /export/home/hguo/Experiments/20201204/full/./retraining-remove-14-incorrect-full-helpful-25/output_dir\n"
     ]
    },
    {
     "name": "stderr",
     "output_type": "stream",
     "text": [
      "You are instantiating a Trainer but Tensorboard is not installed. You should consider installing it.\n",
      "15it [02:44,  9.11s/it]"
     ]
    },
    {
     "name": "stdout",
     "output_type": "stream",
     "text": [
      "Loading from /export/home/hguo/Experiments/20201204/full/./retraining-remove-14-incorrect-full-harmful-5/output_dir\n"
     ]
    },
    {
     "name": "stderr",
     "output_type": "stream",
     "text": [
      "You are instantiating a Trainer but Tensorboard is not installed. You should consider installing it.\n",
      "16it [02:52,  8.63s/it]"
     ]
    },
    {
     "name": "stdout",
     "output_type": "stream",
     "text": [
      "Loading from /export/home/hguo/Experiments/20201204/full/./retraining-remove-14-incorrect-full-harmful-25/output_dir\n"
     ]
    },
    {
     "name": "stderr",
     "output_type": "stream",
     "text": [
      "You are instantiating a Trainer but Tensorboard is not installed. You should consider installing it.\n",
      "17it [03:02,  9.26s/it]"
     ]
    },
    {
     "name": "stdout",
     "output_type": "stream",
     "text": [
      "Loading from /export/home/hguo/Experiments/20201204/full/./retraining-remove-2-correct-full-helpful-5/output_dir\n"
     ]
    },
    {
     "name": "stderr",
     "output_type": "stream",
     "text": [
      "You are instantiating a Trainer but Tensorboard is not installed. You should consider installing it.\n",
      "18it [03:13,  9.81s/it]"
     ]
    },
    {
     "name": "stdout",
     "output_type": "stream",
     "text": [
      "Loading from /export/home/hguo/Experiments/20201204/full/./retraining-remove-2-correct-full-helpful-25/output_dir\n"
     ]
    },
    {
     "name": "stderr",
     "output_type": "stream",
     "text": [
      "You are instantiating a Trainer but Tensorboard is not installed. You should consider installing it.\n",
      "19it [03:26, 10.60s/it]"
     ]
    },
    {
     "name": "stdout",
     "output_type": "stream",
     "text": [
      "Loading from /export/home/hguo/Experiments/20201204/full/./retraining-remove-2-correct-full-harmful-5/output_dir\n"
     ]
    },
    {
     "name": "stderr",
     "output_type": "stream",
     "text": [
      "You are instantiating a Trainer but Tensorboard is not installed. You should consider installing it.\n",
      "20it [03:34,  9.74s/it]"
     ]
    },
    {
     "name": "stdout",
     "output_type": "stream",
     "text": [
      "Loading from /export/home/hguo/Experiments/20201204/full/./retraining-remove-2-correct-full-harmful-25/output_dir\n"
     ]
    },
    {
     "name": "stderr",
     "output_type": "stream",
     "text": [
      "You are instantiating a Trainer but Tensorboard is not installed. You should consider installing it.\n",
      "21it [03:45, 10.18s/it]"
     ]
    },
    {
     "name": "stdout",
     "output_type": "stream",
     "text": [
      "Loading from /export/home/hguo/Experiments/20201204/full/./retraining-remove-15-incorrect-full-helpful-5/output_dir\n"
     ]
    },
    {
     "name": "stderr",
     "output_type": "stream",
     "text": [
      "You are instantiating a Trainer but Tensorboard is not installed. You should consider installing it.\n",
      "22it [03:55, 10.32s/it]"
     ]
    },
    {
     "name": "stdout",
     "output_type": "stream",
     "text": [
      "Loading from /export/home/hguo/Experiments/20201204/full/./retraining-remove-15-incorrect-full-helpful-25/output_dir\n"
     ]
    },
    {
     "name": "stderr",
     "output_type": "stream",
     "text": [
      "You are instantiating a Trainer but Tensorboard is not installed. You should consider installing it.\n",
      "23it [04:11, 11.82s/it]"
     ]
    },
    {
     "name": "stdout",
     "output_type": "stream",
     "text": [
      "Loading from /export/home/hguo/Experiments/20201204/full/./retraining-remove-15-incorrect-full-harmful-5/output_dir\n"
     ]
    },
    {
     "name": "stderr",
     "output_type": "stream",
     "text": [
      "You are instantiating a Trainer but Tensorboard is not installed. You should consider installing it.\n",
      "24it [04:23, 11.87s/it]"
     ]
    },
    {
     "name": "stdout",
     "output_type": "stream",
     "text": [
      "Loading from /export/home/hguo/Experiments/20201204/full/./retraining-remove-15-incorrect-full-harmful-25/output_dir\n"
     ]
    },
    {
     "name": "stderr",
     "output_type": "stream",
     "text": [
      "You are instantiating a Trainer but Tensorboard is not installed. You should consider installing it.\n",
      "25it [04:30, 10.56s/it]"
     ]
    },
    {
     "name": "stdout",
     "output_type": "stream",
     "text": [
      "Loading from /export/home/hguo/Experiments/20201204/KNN-1000/./retraining-remove-0-correct-KNN-1000-helpful-5/output_dir\n"
     ]
    },
    {
     "name": "stderr",
     "output_type": "stream",
     "text": [
      "You are instantiating a Trainer but Tensorboard is not installed. You should consider installing it.\n",
      "26it [04:38,  9.65s/it]"
     ]
    },
    {
     "name": "stdout",
     "output_type": "stream",
     "text": [
      "Loading from /export/home/hguo/Experiments/20201204/KNN-1000/./retraining-remove-0-correct-KNN-1000-helpful-25/output_dir\n"
     ]
    },
    {
     "name": "stderr",
     "output_type": "stream",
     "text": [
      "You are instantiating a Trainer but Tensorboard is not installed. You should consider installing it.\n",
      "27it [04:58, 12.95s/it]"
     ]
    },
    {
     "name": "stdout",
     "output_type": "stream",
     "text": [
      "Loading from /export/home/hguo/Experiments/20201204/KNN-1000/./retraining-remove-0-correct-KNN-1000-harmful-5/output_dir\n"
     ]
    },
    {
     "name": "stderr",
     "output_type": "stream",
     "text": [
      "You are instantiating a Trainer but Tensorboard is not installed. You should consider installing it.\n",
      "28it [05:20, 15.67s/it]"
     ]
    },
    {
     "name": "stdout",
     "output_type": "stream",
     "text": [
      "Loading from /export/home/hguo/Experiments/20201204/KNN-1000/./retraining-remove-0-correct-KNN-1000-harmful-25/output_dir\n"
     ]
    },
    {
     "name": "stderr",
     "output_type": "stream",
     "text": [
      "You are instantiating a Trainer but Tensorboard is not installed. You should consider installing it.\n",
      "29it [05:28, 13.30s/it]"
     ]
    },
    {
     "name": "stdout",
     "output_type": "stream",
     "text": [
      "Loading from /export/home/hguo/Experiments/20201204/KNN-1000/./retraining-remove-3-incorrect-KNN-1000-helpful-5/output_dir\n"
     ]
    },
    {
     "name": "stderr",
     "output_type": "stream",
     "text": [
      "You are instantiating a Trainer but Tensorboard is not installed. You should consider installing it.\n",
      "30it [05:36, 11.65s/it]"
     ]
    },
    {
     "name": "stdout",
     "output_type": "stream",
     "text": [
      "Loading from /export/home/hguo/Experiments/20201204/KNN-1000/./retraining-remove-3-incorrect-KNN-1000-helpful-25/output_dir\n"
     ]
    },
    {
     "name": "stderr",
     "output_type": "stream",
     "text": [
      "You are instantiating a Trainer but Tensorboard is not installed. You should consider installing it.\n",
      "31it [05:48, 11.75s/it]"
     ]
    },
    {
     "name": "stdout",
     "output_type": "stream",
     "text": [
      "Loading from /export/home/hguo/Experiments/20201204/KNN-1000/./retraining-remove-3-incorrect-KNN-1000-harmful-5/output_dir\n"
     ]
    },
    {
     "name": "stderr",
     "output_type": "stream",
     "text": [
      "You are instantiating a Trainer but Tensorboard is not installed. You should consider installing it.\n",
      "32it [05:55, 10.37s/it]"
     ]
    },
    {
     "name": "stdout",
     "output_type": "stream",
     "text": [
      "Loading from /export/home/hguo/Experiments/20201204/KNN-1000/./retraining-remove-3-incorrect-KNN-1000-harmful-25/output_dir\n"
     ]
    },
    {
     "name": "stderr",
     "output_type": "stream",
     "text": [
      "You are instantiating a Trainer but Tensorboard is not installed. You should consider installing it.\n",
      "33it [06:10, 11.75s/it]"
     ]
    },
    {
     "name": "stdout",
     "output_type": "stream",
     "text": [
      "Loading from /export/home/hguo/Experiments/20201204/KNN-1000/./retraining-remove-1-correct-KNN-1000-helpful-5/output_dir\n"
     ]
    },
    {
     "name": "stderr",
     "output_type": "stream",
     "text": [
      "You are instantiating a Trainer but Tensorboard is not installed. You should consider installing it.\n",
      "34it [06:22, 11.74s/it]"
     ]
    },
    {
     "name": "stdout",
     "output_type": "stream",
     "text": [
      "Loading from /export/home/hguo/Experiments/20201204/KNN-1000/./retraining-remove-1-correct-KNN-1000-helpful-25/output_dir\n"
     ]
    },
    {
     "name": "stderr",
     "output_type": "stream",
     "text": [
      "You are instantiating a Trainer but Tensorboard is not installed. You should consider installing it.\n",
      "35it [06:35, 12.14s/it]"
     ]
    },
    {
     "name": "stdout",
     "output_type": "stream",
     "text": [
      "Loading from /export/home/hguo/Experiments/20201204/KNN-1000/./retraining-remove-1-correct-KNN-1000-harmful-5/output_dir\n"
     ]
    },
    {
     "name": "stderr",
     "output_type": "stream",
     "text": [
      "You are instantiating a Trainer but Tensorboard is not installed. You should consider installing it.\n",
      "36it [06:50, 12.99s/it]"
     ]
    },
    {
     "name": "stdout",
     "output_type": "stream",
     "text": [
      "Loading from /export/home/hguo/Experiments/20201204/KNN-1000/./retraining-remove-1-correct-KNN-1000-harmful-25/output_dir\n"
     ]
    },
    {
     "name": "stderr",
     "output_type": "stream",
     "text": [
      "You are instantiating a Trainer but Tensorboard is not installed. You should consider installing it.\n",
      "37it [07:02, 12.58s/it]"
     ]
    },
    {
     "name": "stdout",
     "output_type": "stream",
     "text": [
      "Loading from /export/home/hguo/Experiments/20201204/KNN-1000/./retraining-remove-14-incorrect-KNN-1000-helpful-5/output_dir\n"
     ]
    },
    {
     "name": "stderr",
     "output_type": "stream",
     "text": [
      "You are instantiating a Trainer but Tensorboard is not installed. You should consider installing it.\n",
      "38it [07:10, 11.28s/it]"
     ]
    },
    {
     "name": "stdout",
     "output_type": "stream",
     "text": [
      "Loading from /export/home/hguo/Experiments/20201204/KNN-1000/./retraining-remove-14-incorrect-KNN-1000-helpful-25/output_dir\n"
     ]
    },
    {
     "name": "stderr",
     "output_type": "stream",
     "text": [
      "You are instantiating a Trainer but Tensorboard is not installed. You should consider installing it.\n",
      "39it [07:24, 12.31s/it]"
     ]
    },
    {
     "name": "stdout",
     "output_type": "stream",
     "text": [
      "Loading from /export/home/hguo/Experiments/20201204/KNN-1000/./retraining-remove-14-incorrect-KNN-1000-harmful-5/output_dir\n"
     ]
    },
    {
     "name": "stderr",
     "output_type": "stream",
     "text": [
      "You are instantiating a Trainer but Tensorboard is not installed. You should consider installing it.\n",
      "40it [07:40, 13.30s/it]"
     ]
    },
    {
     "name": "stdout",
     "output_type": "stream",
     "text": [
      "Loading from /export/home/hguo/Experiments/20201204/KNN-1000/./retraining-remove-14-incorrect-KNN-1000-harmful-25/output_dir\n"
     ]
    },
    {
     "name": "stderr",
     "output_type": "stream",
     "text": [
      "You are instantiating a Trainer but Tensorboard is not installed. You should consider installing it.\n",
      "41it [08:02, 15.86s/it]"
     ]
    },
    {
     "name": "stdout",
     "output_type": "stream",
     "text": [
      "Loading from /export/home/hguo/Experiments/20201204/KNN-1000/./retraining-remove-2-correct-KNN-1000-helpful-5/output_dir\n"
     ]
    },
    {
     "name": "stderr",
     "output_type": "stream",
     "text": [
      "You are instantiating a Trainer but Tensorboard is not installed. You should consider installing it.\n",
      "42it [08:10, 13.52s/it]"
     ]
    },
    {
     "name": "stdout",
     "output_type": "stream",
     "text": [
      "Loading from /export/home/hguo/Experiments/20201204/KNN-1000/./retraining-remove-2-correct-KNN-1000-helpful-25/output_dir\n"
     ]
    },
    {
     "name": "stderr",
     "output_type": "stream",
     "text": [
      "You are instantiating a Trainer but Tensorboard is not installed. You should consider installing it.\n",
      "43it [08:18, 11.78s/it]"
     ]
    },
    {
     "name": "stdout",
     "output_type": "stream",
     "text": [
      "Loading from /export/home/hguo/Experiments/20201204/KNN-1000/./retraining-remove-2-correct-KNN-1000-harmful-5/output_dir\n"
     ]
    },
    {
     "name": "stderr",
     "output_type": "stream",
     "text": [
      "You are instantiating a Trainer but Tensorboard is not installed. You should consider installing it.\n",
      "44it [08:29, 11.54s/it]"
     ]
    },
    {
     "name": "stdout",
     "output_type": "stream",
     "text": [
      "Loading from /export/home/hguo/Experiments/20201204/KNN-1000/./retraining-remove-2-correct-KNN-1000-harmful-25/output_dir\n"
     ]
    },
    {
     "name": "stderr",
     "output_type": "stream",
     "text": [
      "You are instantiating a Trainer but Tensorboard is not installed. You should consider installing it.\n",
      "45it [08:45, 13.05s/it]"
     ]
    },
    {
     "name": "stdout",
     "output_type": "stream",
     "text": [
      "Loading from /export/home/hguo/Experiments/20201204/KNN-1000/./retraining-remove-15-incorrect-KNN-1000-helpful-5/output_dir\n"
     ]
    },
    {
     "name": "stderr",
     "output_type": "stream",
     "text": [
      "You are instantiating a Trainer but Tensorboard is not installed. You should consider installing it.\n",
      "46it [08:53, 11.38s/it]"
     ]
    },
    {
     "name": "stdout",
     "output_type": "stream",
     "text": [
      "Loading from /export/home/hguo/Experiments/20201204/KNN-1000/./retraining-remove-15-incorrect-KNN-1000-helpful-25/output_dir\n"
     ]
    },
    {
     "name": "stderr",
     "output_type": "stream",
     "text": [
      "You are instantiating a Trainer but Tensorboard is not installed. You should consider installing it.\n",
      "47it [09:13, 14.00s/it]"
     ]
    },
    {
     "name": "stdout",
     "output_type": "stream",
     "text": [
      "Loading from /export/home/hguo/Experiments/20201204/KNN-1000/./retraining-remove-15-incorrect-KNN-1000-harmful-5/output_dir\n"
     ]
    },
    {
     "name": "stderr",
     "output_type": "stream",
     "text": [
      "You are instantiating a Trainer but Tensorboard is not installed. You should consider installing it.\n",
      "48it [09:27, 13.99s/it]"
     ]
    },
    {
     "name": "stdout",
     "output_type": "stream",
     "text": [
      "Loading from /export/home/hguo/Experiments/20201204/KNN-1000/./retraining-remove-15-incorrect-KNN-1000-harmful-25/output_dir\n"
     ]
    },
    {
     "name": "stderr",
     "output_type": "stream",
     "text": [
      "You are instantiating a Trainer but Tensorboard is not installed. You should consider installing it.\n",
      "49it [09:42, 14.31s/it]"
     ]
    },
    {
     "name": "stdout",
     "output_type": "stream",
     "text": [
      "Loading from /export/home/hguo/Experiments/20201204/KNN-10000/./retraining-remove-0-correct-KNN-10000-helpful-5/output_dir\n"
     ]
    },
    {
     "name": "stderr",
     "output_type": "stream",
     "text": [
      "You are instantiating a Trainer but Tensorboard is not installed. You should consider installing it.\n",
      "50it [09:57, 14.66s/it]"
     ]
    },
    {
     "name": "stdout",
     "output_type": "stream",
     "text": [
      "Loading from /export/home/hguo/Experiments/20201204/KNN-10000/./retraining-remove-0-correct-KNN-10000-helpful-25/output_dir\n"
     ]
    },
    {
     "name": "stderr",
     "output_type": "stream",
     "text": [
      "You are instantiating a Trainer but Tensorboard is not installed. You should consider installing it.\n",
      "51it [10:21, 17.45s/it]"
     ]
    },
    {
     "name": "stdout",
     "output_type": "stream",
     "text": [
      "Loading from /export/home/hguo/Experiments/20201204/KNN-10000/./retraining-remove-0-correct-KNN-10000-harmful-5/output_dir\n"
     ]
    },
    {
     "name": "stderr",
     "output_type": "stream",
     "text": [
      "You are instantiating a Trainer but Tensorboard is not installed. You should consider installing it.\n",
      "52it [10:37, 16.86s/it]"
     ]
    },
    {
     "name": "stdout",
     "output_type": "stream",
     "text": [
      "Loading from /export/home/hguo/Experiments/20201204/KNN-10000/./retraining-remove-0-correct-KNN-10000-harmful-25/output_dir\n"
     ]
    },
    {
     "name": "stderr",
     "output_type": "stream",
     "text": [
      "You are instantiating a Trainer but Tensorboard is not installed. You should consider installing it.\n",
      "53it [10:51, 16.13s/it]"
     ]
    },
    {
     "name": "stdout",
     "output_type": "stream",
     "text": [
      "Loading from /export/home/hguo/Experiments/20201204/KNN-10000/./retraining-remove-3-incorrect-KNN-10000-helpful-5/output_dir\n"
     ]
    },
    {
     "name": "stderr",
     "output_type": "stream",
     "text": [
      "You are instantiating a Trainer but Tensorboard is not installed. You should consider installing it.\n",
      "54it [10:59, 13.50s/it]"
     ]
    },
    {
     "name": "stdout",
     "output_type": "stream",
     "text": [
      "Loading from /export/home/hguo/Experiments/20201204/KNN-10000/./retraining-remove-3-incorrect-KNN-10000-helpful-25/output_dir\n"
     ]
    },
    {
     "name": "stderr",
     "output_type": "stream",
     "text": [
      "You are instantiating a Trainer but Tensorboard is not installed. You should consider installing it.\n",
      "55it [11:13, 13.65s/it]"
     ]
    },
    {
     "name": "stdout",
     "output_type": "stream",
     "text": [
      "Loading from /export/home/hguo/Experiments/20201204/KNN-10000/./retraining-remove-3-incorrect-KNN-10000-harmful-5/output_dir\n"
     ]
    },
    {
     "name": "stderr",
     "output_type": "stream",
     "text": [
      "You are instantiating a Trainer but Tensorboard is not installed. You should consider installing it.\n",
      "56it [11:23, 12.70s/it]"
     ]
    },
    {
     "name": "stdout",
     "output_type": "stream",
     "text": [
      "Loading from /export/home/hguo/Experiments/20201204/KNN-10000/./retraining-remove-3-incorrect-KNN-10000-harmful-25/output_dir\n"
     ]
    },
    {
     "name": "stderr",
     "output_type": "stream",
     "text": [
      "You are instantiating a Trainer but Tensorboard is not installed. You should consider installing it.\n",
      "57it [11:41, 14.15s/it]"
     ]
    },
    {
     "name": "stdout",
     "output_type": "stream",
     "text": [
      "Loading from /export/home/hguo/Experiments/20201204/KNN-10000/./retraining-remove-1-correct-KNN-10000-helpful-5/output_dir\n"
     ]
    },
    {
     "name": "stderr",
     "output_type": "stream",
     "text": [
      "You are instantiating a Trainer but Tensorboard is not installed. You should consider installing it.\n",
      "58it [11:52, 13.31s/it]"
     ]
    },
    {
     "name": "stdout",
     "output_type": "stream",
     "text": [
      "Loading from /export/home/hguo/Experiments/20201204/KNN-10000/./retraining-remove-1-correct-KNN-10000-helpful-25/output_dir\n"
     ]
    },
    {
     "name": "stderr",
     "output_type": "stream",
     "text": [
      "You are instantiating a Trainer but Tensorboard is not installed. You should consider installing it.\n",
      "59it [12:00, 11.63s/it]"
     ]
    },
    {
     "name": "stdout",
     "output_type": "stream",
     "text": [
      "Loading from /export/home/hguo/Experiments/20201204/KNN-10000/./retraining-remove-1-correct-KNN-10000-harmful-5/output_dir\n"
     ]
    },
    {
     "name": "stderr",
     "output_type": "stream",
     "text": [
      "You are instantiating a Trainer but Tensorboard is not installed. You should consider installing it.\n",
      "60it [12:12, 11.92s/it]"
     ]
    },
    {
     "name": "stdout",
     "output_type": "stream",
     "text": [
      "Loading from /export/home/hguo/Experiments/20201204/KNN-10000/./retraining-remove-1-correct-KNN-10000-harmful-25/output_dir\n"
     ]
    },
    {
     "name": "stderr",
     "output_type": "stream",
     "text": [
      "You are instantiating a Trainer but Tensorboard is not installed. You should consider installing it.\n",
      "61it [12:26, 12.49s/it]"
     ]
    },
    {
     "name": "stdout",
     "output_type": "stream",
     "text": [
      "Loading from /export/home/hguo/Experiments/20201204/KNN-10000/./retraining-remove-14-incorrect-KNN-10000-helpful-5/output_dir\n"
     ]
    },
    {
     "name": "stderr",
     "output_type": "stream",
     "text": [
      "You are instantiating a Trainer but Tensorboard is not installed. You should consider installing it.\n",
      "62it [12:40, 13.06s/it]"
     ]
    },
    {
     "name": "stdout",
     "output_type": "stream",
     "text": [
      "Loading from /export/home/hguo/Experiments/20201204/KNN-10000/./retraining-remove-14-incorrect-KNN-10000-helpful-25/output_dir\n"
     ]
    },
    {
     "name": "stderr",
     "output_type": "stream",
     "text": [
      "You are instantiating a Trainer but Tensorboard is not installed. You should consider installing it.\n",
      "63it [12:56, 13.84s/it]"
     ]
    },
    {
     "name": "stdout",
     "output_type": "stream",
     "text": [
      "Loading from /export/home/hguo/Experiments/20201204/KNN-10000/./retraining-remove-14-incorrect-KNN-10000-harmful-5/output_dir\n"
     ]
    },
    {
     "name": "stderr",
     "output_type": "stream",
     "text": [
      "You are instantiating a Trainer but Tensorboard is not installed. You should consider installing it.\n",
      "64it [13:10, 13.87s/it]"
     ]
    },
    {
     "name": "stdout",
     "output_type": "stream",
     "text": [
      "Loading from /export/home/hguo/Experiments/20201204/KNN-10000/./retraining-remove-14-incorrect-KNN-10000-harmful-25/output_dir\n"
     ]
    },
    {
     "name": "stderr",
     "output_type": "stream",
     "text": [
      "You are instantiating a Trainer but Tensorboard is not installed. You should consider installing it.\n",
      "65it [13:20, 12.75s/it]"
     ]
    },
    {
     "name": "stdout",
     "output_type": "stream",
     "text": [
      "Loading from /export/home/hguo/Experiments/20201204/KNN-10000/./retraining-remove-2-correct-KNN-10000-helpful-5/output_dir\n"
     ]
    },
    {
     "name": "stderr",
     "output_type": "stream",
     "text": [
      "You are instantiating a Trainer but Tensorboard is not installed. You should consider installing it.\n",
      "66it [13:36, 13.53s/it]"
     ]
    },
    {
     "name": "stdout",
     "output_type": "stream",
     "text": [
      "Loading from /export/home/hguo/Experiments/20201204/KNN-10000/./retraining-remove-2-correct-KNN-10000-helpful-25/output_dir\n"
     ]
    },
    {
     "name": "stderr",
     "output_type": "stream",
     "text": [
      "You are instantiating a Trainer but Tensorboard is not installed. You should consider installing it.\n",
      "67it [13:44, 11.87s/it]"
     ]
    },
    {
     "name": "stdout",
     "output_type": "stream",
     "text": [
      "Loading from /export/home/hguo/Experiments/20201204/KNN-10000/./retraining-remove-2-correct-KNN-10000-harmful-5/output_dir\n"
     ]
    },
    {
     "name": "stderr",
     "output_type": "stream",
     "text": [
      "You are instantiating a Trainer but Tensorboard is not installed. You should consider installing it.\n",
      "68it [14:11, 16.49s/it]"
     ]
    },
    {
     "name": "stdout",
     "output_type": "stream",
     "text": [
      "Loading from /export/home/hguo/Experiments/20201204/KNN-10000/./retraining-remove-2-correct-KNN-10000-harmful-25/output_dir\n"
     ]
    },
    {
     "name": "stderr",
     "output_type": "stream",
     "text": [
      "You are instantiating a Trainer but Tensorboard is not installed. You should consider installing it.\n",
      "69it [14:27, 16.48s/it]"
     ]
    },
    {
     "name": "stdout",
     "output_type": "stream",
     "text": [
      "Loading from /export/home/hguo/Experiments/20201204/KNN-10000/./retraining-remove-15-incorrect-KNN-10000-helpful-5/output_dir\n"
     ]
    },
    {
     "name": "stderr",
     "output_type": "stream",
     "text": [
      "You are instantiating a Trainer but Tensorboard is not installed. You should consider installing it.\n",
      "70it [14:35, 13.74s/it]"
     ]
    },
    {
     "name": "stdout",
     "output_type": "stream",
     "text": [
      "Loading from /export/home/hguo/Experiments/20201204/KNN-10000/./retraining-remove-15-incorrect-KNN-10000-helpful-25/output_dir\n"
     ]
    },
    {
     "name": "stderr",
     "output_type": "stream",
     "text": [
      "You are instantiating a Trainer but Tensorboard is not installed. You should consider installing it.\n",
      "71it [14:46, 13.06s/it]"
     ]
    },
    {
     "name": "stdout",
     "output_type": "stream",
     "text": [
      "Loading from /export/home/hguo/Experiments/20201204/KNN-10000/./retraining-remove-15-incorrect-KNN-10000-harmful-5/output_dir\n"
     ]
    },
    {
     "name": "stderr",
     "output_type": "stream",
     "text": [
      "You are instantiating a Trainer but Tensorboard is not installed. You should consider installing it.\n",
      "72it [15:04, 14.38s/it]"
     ]
    },
    {
     "name": "stdout",
     "output_type": "stream",
     "text": [
      "Loading from /export/home/hguo/Experiments/20201204/KNN-10000/./retraining-remove-15-incorrect-KNN-10000-harmful-25/output_dir\n"
     ]
    },
    {
     "name": "stderr",
     "output_type": "stream",
     "text": [
      "You are instantiating a Trainer but Tensorboard is not installed. You should consider installing it.\n",
      "73it [15:15, 13.36s/it]"
     ]
    },
    {
     "name": "stdout",
     "output_type": "stream",
     "text": [
      "Loading from /export/home/hguo/Experiments/20201204/random/./retraining-remove-0-correct-random-neutral-5/output_dir\n"
     ]
    },
    {
     "name": "stderr",
     "output_type": "stream",
     "text": [
      "You are instantiating a Trainer but Tensorboard is not installed. You should consider installing it.\n",
      "74it [15:22, 11.48s/it]"
     ]
    },
    {
     "name": "stdout",
     "output_type": "stream",
     "text": [
      "Loading from /export/home/hguo/Experiments/20201204/random/./retraining-remove-0-correct-random-neutral-25/output_dir\n"
     ]
    },
    {
     "name": "stderr",
     "output_type": "stream",
     "text": [
      "You are instantiating a Trainer but Tensorboard is not installed. You should consider installing it.\n",
      "75it [15:31, 10.89s/it]"
     ]
    },
    {
     "name": "stdout",
     "output_type": "stream",
     "text": [
      "Loading from /export/home/hguo/Experiments/20201204/random/./retraining-remove-0-correct-random-entailment-5/output_dir\n"
     ]
    },
    {
     "name": "stderr",
     "output_type": "stream",
     "text": [
      "You are instantiating a Trainer but Tensorboard is not installed. You should consider installing it.\n",
      "76it [15:38,  9.78s/it]"
     ]
    },
    {
     "name": "stdout",
     "output_type": "stream",
     "text": [
      "Loading from /export/home/hguo/Experiments/20201204/random/./retraining-remove-0-correct-random-entailment-25/output_dir\n"
     ]
    },
    {
     "name": "stderr",
     "output_type": "stream",
     "text": [
      "You are instantiating a Trainer but Tensorboard is not installed. You should consider installing it.\n",
      "77it [15:47,  9.31s/it]"
     ]
    },
    {
     "name": "stdout",
     "output_type": "stream",
     "text": [
      "Loading from /export/home/hguo/Experiments/20201204/random/./retraining-remove-0-correct-random-contradiction-5/output_dir\n"
     ]
    },
    {
     "name": "stderr",
     "output_type": "stream",
     "text": [
      "You are instantiating a Trainer but Tensorboard is not installed. You should consider installing it.\n",
      "78it [15:54,  8.65s/it]"
     ]
    },
    {
     "name": "stdout",
     "output_type": "stream",
     "text": [
      "Loading from /export/home/hguo/Experiments/20201204/random/./retraining-remove-0-correct-random-contradiction-25/output_dir\n"
     ]
    },
    {
     "name": "stderr",
     "output_type": "stream",
     "text": [
      "You are instantiating a Trainer but Tensorboard is not installed. You should consider installing it.\n",
      "79it [16:05,  9.40s/it]"
     ]
    },
    {
     "name": "stdout",
     "output_type": "stream",
     "text": [
      "Loading from /export/home/hguo/Experiments/20201204/random/./retraining-remove-3-incorrect-random-neutral-5/output_dir\n"
     ]
    },
    {
     "name": "stderr",
     "output_type": "stream",
     "text": [
      "You are instantiating a Trainer but Tensorboard is not installed. You should consider installing it.\n",
      "80it [16:20, 11.03s/it]"
     ]
    },
    {
     "name": "stdout",
     "output_type": "stream",
     "text": [
      "Loading from /export/home/hguo/Experiments/20201204/random/./retraining-remove-3-incorrect-random-neutral-25/output_dir\n"
     ]
    },
    {
     "name": "stderr",
     "output_type": "stream",
     "text": [
      "You are instantiating a Trainer but Tensorboard is not installed. You should consider installing it.\n",
      "81it [16:27,  9.83s/it]"
     ]
    },
    {
     "name": "stdout",
     "output_type": "stream",
     "text": [
      "Loading from /export/home/hguo/Experiments/20201204/random/./retraining-remove-3-incorrect-random-entailment-5/output_dir\n"
     ]
    },
    {
     "name": "stderr",
     "output_type": "stream",
     "text": [
      "You are instantiating a Trainer but Tensorboard is not installed. You should consider installing it.\n",
      "82it [16:36,  9.75s/it]"
     ]
    },
    {
     "name": "stdout",
     "output_type": "stream",
     "text": [
      "Loading from /export/home/hguo/Experiments/20201204/random/./retraining-remove-3-incorrect-random-entailment-25/output_dir\n"
     ]
    },
    {
     "name": "stderr",
     "output_type": "stream",
     "text": [
      "You are instantiating a Trainer but Tensorboard is not installed. You should consider installing it.\n",
      "83it [16:43,  8.93s/it]"
     ]
    },
    {
     "name": "stdout",
     "output_type": "stream",
     "text": [
      "Loading from /export/home/hguo/Experiments/20201204/random/./retraining-remove-3-incorrect-random-contradiction-5/output_dir\n"
     ]
    },
    {
     "name": "stderr",
     "output_type": "stream",
     "text": [
      "You are instantiating a Trainer but Tensorboard is not installed. You should consider installing it.\n",
      "84it [17:00, 11.27s/it]"
     ]
    },
    {
     "name": "stdout",
     "output_type": "stream",
     "text": [
      "Loading from /export/home/hguo/Experiments/20201204/random/./retraining-remove-3-incorrect-random-contradiction-25/output_dir\n"
     ]
    },
    {
     "name": "stderr",
     "output_type": "stream",
     "text": [
      "You are instantiating a Trainer but Tensorboard is not installed. You should consider installing it.\n",
      "85it [17:08, 10.17s/it]"
     ]
    },
    {
     "name": "stdout",
     "output_type": "stream",
     "text": [
      "Loading from /export/home/hguo/Experiments/20201204/random/./retraining-remove-1-correct-random-neutral-5/output_dir\n"
     ]
    },
    {
     "name": "stderr",
     "output_type": "stream",
     "text": [
      "You are instantiating a Trainer but Tensorboard is not installed. You should consider installing it.\n",
      "86it [17:22, 11.56s/it]"
     ]
    },
    {
     "name": "stdout",
     "output_type": "stream",
     "text": [
      "Loading from /export/home/hguo/Experiments/20201204/random/./retraining-remove-1-correct-random-neutral-25/output_dir\n"
     ]
    },
    {
     "name": "stderr",
     "output_type": "stream",
     "text": [
      "You are instantiating a Trainer but Tensorboard is not installed. You should consider installing it.\n",
      "87it [17:29, 10.21s/it]"
     ]
    },
    {
     "name": "stdout",
     "output_type": "stream",
     "text": [
      "Loading from /export/home/hguo/Experiments/20201204/random/./retraining-remove-1-correct-random-entailment-5/output_dir\n"
     ]
    },
    {
     "name": "stderr",
     "output_type": "stream",
     "text": [
      "You are instantiating a Trainer but Tensorboard is not installed. You should consider installing it.\n",
      "88it [17:44, 11.61s/it]"
     ]
    },
    {
     "name": "stdout",
     "output_type": "stream",
     "text": [
      "Loading from /export/home/hguo/Experiments/20201204/random/./retraining-remove-1-correct-random-entailment-25/output_dir\n"
     ]
    },
    {
     "name": "stderr",
     "output_type": "stream",
     "text": [
      "You are instantiating a Trainer but Tensorboard is not installed. You should consider installing it.\n",
      "89it [17:51, 10.28s/it]"
     ]
    },
    {
     "name": "stdout",
     "output_type": "stream",
     "text": [
      "Loading from /export/home/hguo/Experiments/20201204/random/./retraining-remove-1-correct-random-contradiction-5/output_dir\n"
     ]
    },
    {
     "name": "stderr",
     "output_type": "stream",
     "text": [
      "You are instantiating a Trainer but Tensorboard is not installed. You should consider installing it.\n",
      "90it [17:59,  9.34s/it]"
     ]
    },
    {
     "name": "stdout",
     "output_type": "stream",
     "text": [
      "Loading from /export/home/hguo/Experiments/20201204/random/./retraining-remove-1-correct-random-contradiction-25/output_dir\n"
     ]
    },
    {
     "name": "stderr",
     "output_type": "stream",
     "text": [
      "You are instantiating a Trainer but Tensorboard is not installed. You should consider installing it.\n",
      "91it [18:06,  8.70s/it]"
     ]
    },
    {
     "name": "stdout",
     "output_type": "stream",
     "text": [
      "Loading from /export/home/hguo/Experiments/20201204/random/./retraining-remove-14-incorrect-random-neutral-5/output_dir\n"
     ]
    },
    {
     "name": "stderr",
     "output_type": "stream",
     "text": [
      "You are instantiating a Trainer but Tensorboard is not installed. You should consider installing it.\n",
      "92it [18:18,  9.73s/it]"
     ]
    },
    {
     "name": "stdout",
     "output_type": "stream",
     "text": [
      "Loading from /export/home/hguo/Experiments/20201204/random/./retraining-remove-14-incorrect-random-neutral-25/output_dir\n"
     ]
    },
    {
     "name": "stderr",
     "output_type": "stream",
     "text": [
      "You are instantiating a Trainer but Tensorboard is not installed. You should consider installing it.\n",
      "93it [18:27,  9.57s/it]"
     ]
    },
    {
     "name": "stdout",
     "output_type": "stream",
     "text": [
      "Loading from /export/home/hguo/Experiments/20201204/random/./retraining-remove-14-incorrect-random-entailment-5/output_dir\n"
     ]
    },
    {
     "name": "stderr",
     "output_type": "stream",
     "text": [
      "You are instantiating a Trainer but Tensorboard is not installed. You should consider installing it.\n",
      "94it [18:37,  9.68s/it]"
     ]
    },
    {
     "name": "stdout",
     "output_type": "stream",
     "text": [
      "Loading from /export/home/hguo/Experiments/20201204/random/./retraining-remove-14-incorrect-random-entailment-25/output_dir\n"
     ]
    },
    {
     "name": "stderr",
     "output_type": "stream",
     "text": [
      "You are instantiating a Trainer but Tensorboard is not installed. You should consider installing it.\n",
      "95it [18:45,  9.03s/it]"
     ]
    },
    {
     "name": "stdout",
     "output_type": "stream",
     "text": [
      "Loading from /export/home/hguo/Experiments/20201204/random/./retraining-remove-14-incorrect-random-contradiction-5/output_dir\n"
     ]
    },
    {
     "name": "stderr",
     "output_type": "stream",
     "text": [
      "You are instantiating a Trainer but Tensorboard is not installed. You should consider installing it.\n",
      "96it [18:52,  8.46s/it]"
     ]
    },
    {
     "name": "stdout",
     "output_type": "stream",
     "text": [
      "Loading from /export/home/hguo/Experiments/20201204/random/./retraining-remove-14-incorrect-random-contradiction-25/output_dir\n"
     ]
    },
    {
     "name": "stderr",
     "output_type": "stream",
     "text": [
      "You are instantiating a Trainer but Tensorboard is not installed. You should consider installing it.\n",
      "97it [19:06, 10.12s/it]"
     ]
    },
    {
     "name": "stdout",
     "output_type": "stream",
     "text": [
      "Loading from /export/home/hguo/Experiments/20201204/random/./retraining-remove-2-correct-random-neutral-5/output_dir\n"
     ]
    },
    {
     "name": "stderr",
     "output_type": "stream",
     "text": [
      "You are instantiating a Trainer but Tensorboard is not installed. You should consider installing it.\n",
      "98it [19:13,  9.21s/it]"
     ]
    },
    {
     "name": "stdout",
     "output_type": "stream",
     "text": [
      "Loading from /export/home/hguo/Experiments/20201204/random/./retraining-remove-2-correct-random-neutral-25/output_dir\n"
     ]
    },
    {
     "name": "stderr",
     "output_type": "stream",
     "text": [
      "You are instantiating a Trainer but Tensorboard is not installed. You should consider installing it.\n",
      "99it [19:28, 10.94s/it]"
     ]
    },
    {
     "name": "stdout",
     "output_type": "stream",
     "text": [
      "Loading from /export/home/hguo/Experiments/20201204/random/./retraining-remove-2-correct-random-entailment-5/output_dir\n"
     ]
    },
    {
     "name": "stderr",
     "output_type": "stream",
     "text": [
      "You are instantiating a Trainer but Tensorboard is not installed. You should consider installing it.\n",
      "100it [19:40, 11.37s/it]"
     ]
    },
    {
     "name": "stdout",
     "output_type": "stream",
     "text": [
      "Loading from /export/home/hguo/Experiments/20201204/random/./retraining-remove-2-correct-random-entailment-25/output_dir\n"
     ]
    },
    {
     "name": "stderr",
     "output_type": "stream",
     "text": [
      "You are instantiating a Trainer but Tensorboard is not installed. You should consider installing it.\n",
      "101it [19:54, 12.16s/it]"
     ]
    },
    {
     "name": "stdout",
     "output_type": "stream",
     "text": [
      "Loading from /export/home/hguo/Experiments/20201204/random/./retraining-remove-2-correct-random-contradiction-5/output_dir\n"
     ]
    },
    {
     "name": "stderr",
     "output_type": "stream",
     "text": [
      "You are instantiating a Trainer but Tensorboard is not installed. You should consider installing it.\n",
      "102it [20:05, 11.86s/it]"
     ]
    },
    {
     "name": "stdout",
     "output_type": "stream",
     "text": [
      "Loading from /export/home/hguo/Experiments/20201204/random/./retraining-remove-2-correct-random-contradiction-25/output_dir\n"
     ]
    },
    {
     "name": "stderr",
     "output_type": "stream",
     "text": [
      "You are instantiating a Trainer but Tensorboard is not installed. You should consider installing it.\n",
      "103it [20:14, 10.80s/it]"
     ]
    },
    {
     "name": "stdout",
     "output_type": "stream",
     "text": [
      "Loading from /export/home/hguo/Experiments/20201204/random/./retraining-remove-15-incorrect-random-neutral-5/output_dir\n"
     ]
    },
    {
     "name": "stderr",
     "output_type": "stream",
     "text": [
      "You are instantiating a Trainer but Tensorboard is not installed. You should consider installing it.\n",
      "104it [20:21,  9.68s/it]"
     ]
    },
    {
     "name": "stdout",
     "output_type": "stream",
     "text": [
      "Loading from /export/home/hguo/Experiments/20201204/random/./retraining-remove-15-incorrect-random-neutral-25/output_dir\n"
     ]
    },
    {
     "name": "stderr",
     "output_type": "stream",
     "text": [
      "You are instantiating a Trainer but Tensorboard is not installed. You should consider installing it.\n",
      "105it [20:30,  9.60s/it]"
     ]
    },
    {
     "name": "stdout",
     "output_type": "stream",
     "text": [
      "Loading from /export/home/hguo/Experiments/20201204/random/./retraining-remove-15-incorrect-random-entailment-5/output_dir\n"
     ]
    },
    {
     "name": "stderr",
     "output_type": "stream",
     "text": [
      "You are instantiating a Trainer but Tensorboard is not installed. You should consider installing it.\n",
      "106it [20:44, 10.92s/it]"
     ]
    },
    {
     "name": "stdout",
     "output_type": "stream",
     "text": [
      "Loading from /export/home/hguo/Experiments/20201204/random/./retraining-remove-15-incorrect-random-entailment-25/output_dir\n"
     ]
    },
    {
     "name": "stderr",
     "output_type": "stream",
     "text": [
      "You are instantiating a Trainer but Tensorboard is not installed. You should consider installing it.\n",
      "107it [20:52,  9.86s/it]"
     ]
    },
    {
     "name": "stdout",
     "output_type": "stream",
     "text": [
      "Loading from /export/home/hguo/Experiments/20201204/random/./retraining-remove-15-incorrect-random-contradiction-5/output_dir\n"
     ]
    },
    {
     "name": "stderr",
     "output_type": "stream",
     "text": [
      "You are instantiating a Trainer but Tensorboard is not installed. You should consider installing it.\n",
      "108it [21:03, 11.70s/it]"
     ]
    },
    {
     "name": "stdout",
     "output_type": "stream",
     "text": [
      "Loading from /export/home/hguo/Experiments/20201204/random/./retraining-remove-15-incorrect-random-contradiction-25/output_dir\n"
     ]
    },
    {
     "name": "stderr",
     "output_type": "stream",
     "text": [
      "\n"
     ]
    }
   ],
   "source": [
    "# EXPERIMENTS_BASE_DIR = \"/export/home/hguo/Experiments-backup/20201019\"\n",
    "EXPERIMENTS_BASE_DIR = \"/export/home/hguo/Experiments/20201204\"\n",
    "\n",
    "\n",
    "def _load_model(\n",
    "        mode: str,\n",
    "        example_index: int,\n",
    "        correct_mode: str,\n",
    "        tag: str,\n",
    "        num_data_points_to_remove: int\n",
    ") -> Tuple[torch.nn.Module, transformers.Trainer]:\n",
    "    if mode != \"original\":\n",
    "        if mode in [\"full\"]:\n",
    "            relative_dir = \"full\"\n",
    "            # hostname = \"g0306.ll.unc.edu\"\n",
    "\n",
    "        if mode in [\"KNN-1000\"]:\n",
    "            relative_dir = \"KNN-1000\"\n",
    "            # hostname = \"g0303.ll.unc.edu\"\n",
    "\n",
    "        if mode in [\"KNN-10000\"]:\n",
    "            relative_dir = \"KNN-10000\"\n",
    "            # hostname = \"g0303.ll.unc.edu\"\n",
    "\n",
    "        if mode in [\"random\"]:\n",
    "            relative_dir = \"random\"\n",
    "            # hostname = \"g0310.ll.unc.edu\"\n",
    "\n",
    "        folder_name = (\n",
    "            f\"./retraining-remove-\"\n",
    "            f\"{example_index}-\"\n",
    "            f\"{correct_mode}-\"\n",
    "            f\"{mode}-\"\n",
    "            f\"{tag}-\"\n",
    "            f\"{num_data_points_to_remove}\"\n",
    "            # f\".{hostname}\"\n",
    "        )\n",
    "\n",
    "        model_dir = os.path.join(\n",
    "            EXPERIMENTS_BASE_DIR,\n",
    "            relative_dir,\n",
    "            folder_name,\n",
    "            \"output_dir\")\n",
    "    else:\n",
    "        if not all([\n",
    "                example_index is None,\n",
    "                correct_mode is None,\n",
    "                tag is None,\n",
    "                num_data_points_to_remove is None\n",
    "        ]):\n",
    "            raise ValueError\n",
    "\n",
    "        model_dir = constants.MNLI_MODEL_PATH\n",
    "\n",
    "    model = AutoModelForSequenceClassification.from_pretrained(model_dir)\n",
    "    model.eval()\n",
    "\n",
    "    # Most of these arguments are placeholders\n",
    "    # and are not really used at all, so ignore\n",
    "    # the exact values of these.\n",
    "    trainer = transformers.Trainer(\n",
    "        model=model,\n",
    "        args=TrainingArguments(\n",
    "            output_dir=\"./tmp-output\",\n",
    "            per_device_train_batch_size=128,\n",
    "            per_device_eval_batch_size=128,\n",
    "            learning_rate=5e-5,\n",
    "            logging_steps=100),\n",
    "    )\n",
    "\n",
    "    if model.training is True:\n",
    "        raise ValueError\n",
    "    \n",
    "    print(f\"Loading from {model_dir}\")\n",
    "    return model, trainer\n",
    "\n",
    "def _compute_loss(\n",
    "        trainer: transformers.Trainer,\n",
    "        model: torch.nn.Module,\n",
    "        inputs: Dict[str, Any],\n",
    ") -> torch.Tensor:\n",
    "    _, _, batch_mean_loss = misc_utils.predict(\n",
    "        trainer=trainer,\n",
    "        model=model,\n",
    "        inputs=inputs)\n",
    "\n",
    "    return batch_mean_loss\n",
    "\n",
    "\n",
    "with tqdm(total=None) as pbar:\n",
    "    loss_collections = []\n",
    "    for mode in [\"full\", \"KNN-1000\", \"KNN-10000\", \"random\"]:\n",
    "        for example_relative_index in range(NUM_RETRAINING_EXPERIMENTS):\n",
    "            for correct_mode in [\"correct\", \"incorrect\"]:\n",
    "                if correct_mode == \"correct\":\n",
    "                    example_index = CORRECT_INDICES[example_relative_index]\n",
    "                if correct_mode == \"incorrect\":\n",
    "                    example_index = INCORRECT_INDICES[example_relative_index]\n",
    "\n",
    "                if mode in [\"full\", \"KNN-1000\", \"KNN-10000\"]:\n",
    "                    tags = [\"helpful\", \"harmful\"]\n",
    "\n",
    "                elif mode in [\"random\"]:\n",
    "                    tags = [\"neutral\", \"entailment\", \"contradiction\"]\n",
    "\n",
    "                else:\n",
    "                    raise ValueError\n",
    "\n",
    "                for tag in tags:\n",
    "                    for num_data_points_to_remove in NUM_DATAPOINTS_TO_REMOVE_CHOICES:\n",
    "                        test_inputs = test_inputs_collections[example_index]\n",
    "\n",
    "                        model, trainer = _load_model(\n",
    "                            mode=mode,\n",
    "                            example_index=example_index,\n",
    "                            correct_mode=correct_mode,\n",
    "                            tag=tag,\n",
    "                            num_data_points_to_remove=num_data_points_to_remove)\n",
    "\n",
    "                        loss = _compute_loss(\n",
    "                            trainer=trainer,\n",
    "                            model=model,\n",
    "                            inputs=test_inputs)\n",
    "\n",
    "                        loss_collections.append({\n",
    "                            \"mode\": mode,\n",
    "                            \"correct_mode\": correct_mode,\n",
    "                            \"example_index\": example_index,\n",
    "                            \"tag\": tag,\n",
    "                            \"num_data_points_to_remove\": num_data_points_to_remove,\n",
    "                            \"loss\": loss,\n",
    "                        })\n",
    "\n",
    "                        pbar.update(1)"
   ]
  },
  {
   "cell_type": "code",
   "execution_count": 16,
   "metadata": {},
   "outputs": [],
   "source": [
    "# example_index = 2\n",
    "# correct_mode = \"correct\"\n",
    "# mode = \"KNN-10000\"\n",
    "# tag = \"helpful\"\n",
    "# num_data_points_to_remove = 100\n",
    "\n",
    "# model = _load_model(\n",
    "#     example_index=example_index,\n",
    "#     correct_mode=correct_mode,\n",
    "#     mode=mode, tag=tag,\n",
    "#     num_data_points_to_remove=num_data_points_to_remove)\n",
    "# inputs = test_inputs_collections[0]"
   ]
  },
  {
   "cell_type": "code",
   "execution_count": null,
   "metadata": {},
   "outputs": [],
   "source": []
  },
  {
   "cell_type": "code",
   "execution_count": 17,
   "metadata": {},
   "outputs": [
    {
     "name": "stderr",
     "output_type": "stream",
     "text": [
      "You are instantiating a Trainer but Tensorboard is not installed. You should consider installing it.\n"
     ]
    },
    {
     "name": "stdout",
     "output_type": "stream",
     "text": [
      "Loading from /export/home/hguo/Experiments/20200706/\n"
     ]
    },
    {
     "name": "stderr",
     "output_type": "stream",
     "text": [
      "You are instantiating a Trainer but Tensorboard is not installed. You should consider installing it.\n"
     ]
    },
    {
     "name": "stdout",
     "output_type": "stream",
     "text": [
      "Loading from /export/home/hguo/Experiments/20200706/\n"
     ]
    },
    {
     "name": "stderr",
     "output_type": "stream",
     "text": [
      "You are instantiating a Trainer but Tensorboard is not installed. You should consider installing it.\n"
     ]
    },
    {
     "name": "stdout",
     "output_type": "stream",
     "text": [
      "Loading from /export/home/hguo/Experiments/20200706/\n"
     ]
    },
    {
     "name": "stderr",
     "output_type": "stream",
     "text": [
      "You are instantiating a Trainer but Tensorboard is not installed. You should consider installing it.\n"
     ]
    },
    {
     "name": "stdout",
     "output_type": "stream",
     "text": [
      "Loading from /export/home/hguo/Experiments/20200706/\n"
     ]
    },
    {
     "name": "stderr",
     "output_type": "stream",
     "text": [
      "You are instantiating a Trainer but Tensorboard is not installed. You should consider installing it.\n"
     ]
    },
    {
     "name": "stdout",
     "output_type": "stream",
     "text": [
      "Loading from /export/home/hguo/Experiments/20200706/\n"
     ]
    },
    {
     "name": "stderr",
     "output_type": "stream",
     "text": [
      "You are instantiating a Trainer but Tensorboard is not installed. You should consider installing it.\n"
     ]
    },
    {
     "name": "stdout",
     "output_type": "stream",
     "text": [
      "Loading from /export/home/hguo/Experiments/20200706/\n"
     ]
    }
   ],
   "source": [
    "for example_relative_index in range(NUM_RETRAINING_EXPERIMENTS):\n",
    "    for correct_mode in [\"correct\", \"incorrect\"]:\n",
    "        if correct_mode == \"correct\":\n",
    "            example_index = CORRECT_INDICES[example_relative_index]\n",
    "        if correct_mode == \"incorrect\":\n",
    "            example_index = INCORRECT_INDICES[example_relative_index]\n",
    "\n",
    "        test_inputs = test_inputs_collections[example_index]\n",
    "\n",
    "        model, trainer = _load_model(\n",
    "            mode=\"original\",\n",
    "            example_index=None,\n",
    "            correct_mode=None,\n",
    "            tag=None,\n",
    "            num_data_points_to_remove=None)\n",
    "\n",
    "        loss = _compute_loss(\n",
    "            trainer=trainer,\n",
    "            model=model,\n",
    "            inputs=test_inputs)\n",
    "\n",
    "        loss_collections.append({\n",
    "            \"mode\": \"original\",\n",
    "            \"correct_mode\": correct_mode,\n",
    "            \"example_index\": example_index,\n",
    "            \"tag\": None,\n",
    "            \"num_data_points_to_remove\": None,\n",
    "            \"loss\": loss,\n",
    "        })\n",
    "\n",
    "        pbar.update(1)"
   ]
  },
  {
   "cell_type": "code",
   "execution_count": 4,
   "metadata": {},
   "outputs": [],
   "source": [
    "import torch\n",
    "\n",
    "# Old version, which used [1, 100, 10000]\n",
    "# torch.save(loss_collections, \"/export/home/hguo/Experiments/20201102/loss_collections.20201102.pt\")\n",
    "# loss_collections_old = torch.load(\"/export/home/hguo/Experiments/20201102/loss_collections.20201102.pt\")\n",
    "\n",
    "loss_collections = []\n",
    "# New version, which used [1]\n",
    "# torch.save(loss_collections, \"/export/home/hguo/Experiments/20201205/loss_collections.202012005.1.pt\")\n",
    "loss_collections += torch.load(\"/export/home/hguo/Experiments/20201205/loss_collections.202012005.1.pt\")\n",
    "# New version, which used [5, 25]\n",
    "# torch.save(loss_collections, \"/export/home/hguo/Experiments/20201205/loss_collections.202012005.5-25.pt\")\n",
    "loss_collections += torch.load(\"/export/home/hguo/Experiments/20201205/loss_collections.202012005.5-25.pt\")"
   ]
  },
  {
   "cell_type": "code",
   "execution_count": null,
   "metadata": {},
   "outputs": [],
   "source": []
  },
  {
   "cell_type": "code",
   "execution_count": null,
   "metadata": {},
   "outputs": [],
   "source": []
  },
  {
   "cell_type": "code",
   "execution_count": 5,
   "metadata": {},
   "outputs": [],
   "source": [
    "import pandas as pd\n",
    "loss_df = pd.DataFrame(loss_collections)\n",
    "\n",
    "def _get_loss_diff(row):\n",
    "    loss_diff = loss_df[\n",
    "        (loss_df[\"mode\"] == \"original\") &\n",
    "        (loss_df[\"correct_mode\"] == row[\"correct_mode\"]) &\n",
    "        (loss_df[\"example_index\"] == row[\"example_index\"])\n",
    "    ][\"loss\"].values\n",
    "\n",
    "    if loss_diff.shape != (1, ):\n",
    "        raise ValueError\n",
    "\n",
    "    return loss_diff[0]\n",
    "\n",
    "\n",
    "loss_df[\"loss_diff\"] = loss_df.apply(lambda row: row[\"loss\"] - _get_loss_diff(row), axis=1)\n",
    "\n",
    "if not (loss_df[loss_df[\"mode\"] == \"original\"].loss_diff.values == 0.0).all():\n",
    "    raise ValueError\n",
    "\n",
    "# loss_df = loss_df[loss_df.example_index.isin([0, 15, 14])]"
   ]
  },
  {
   "cell_type": "code",
   "execution_count": null,
   "metadata": {},
   "outputs": [],
   "source": []
  },
  {
   "cell_type": "code",
   "execution_count": 6,
   "metadata": {},
   "outputs": [],
   "source": [
    "new_losses_mean = pd.DataFrame(\n",
    "    loss_df[loss_df[\"mode\"] != \"original\"]\n",
    "    .groupby([\"mode\", \"correct_mode\", \"tag\", \"num_data_points_to_remove\"])\n",
    "    [\"loss_diff\"].mean()\n",
    ").to_dict()[\"loss_diff\"]\n",
    "\n",
    "new_losses_std = pd.DataFrame(\n",
    "    loss_df[loss_df[\"mode\"] != \"original\"]\n",
    "    .groupby([\"mode\", \"correct_mode\", \"tag\", \"num_data_points_to_remove\"])\n",
    "    [\"loss_diff\"].std()\n",
    ").to_dict()[\"loss_diff\"]\n",
    "\n",
    "original_losses_mean = pd.DataFrame(\n",
    "    loss_df[loss_df[\"mode\"] == \"original\"]\n",
    "    .groupby([\"mode\", \"correct_mode\"])\n",
    "    [\"loss_diff\"].mean()\n",
    ").to_dict()[\"loss_diff\"]\n",
    "\n",
    "original_losses_std = pd.DataFrame(\n",
    "    loss_df[loss_df[\"mode\"] == \"original\"]\n",
    "    .groupby([\"mode\", \"correct_mode\"])\n",
    "    [\"loss_diff\"].std()\n",
    ").to_dict()[\"loss_diff\"]"
   ]
  },
  {
   "cell_type": "code",
   "execution_count": null,
   "metadata": {},
   "outputs": [],
   "source": []
  },
  {
   "cell_type": "code",
   "execution_count": null,
   "metadata": {},
   "outputs": [],
   "source": []
  },
  {
   "cell_type": "code",
   "execution_count": null,
   "metadata": {},
   "outputs": [],
   "source": []
  },
  {
   "cell_type": "code",
   "execution_count": null,
   "metadata": {},
   "outputs": [],
   "source": []
  },
  {
   "cell_type": "code",
   "execution_count": 8,
   "metadata": {},
   "outputs": [
    {
     "data": {
      "image/png": "[encoded data removed]",
      "text/plain": [
       "<Figure size 1800x720 with 2 Axes>"
      ]
     },
     "metadata": {
      "needs_background": "light"
     },
     "output_type": "display_data"
    }
   ],
   "source": [
    "import matplotlib.pyplot as plt\n",
    "plt.rcParams[\"figure.figsize\"] = (25, 10)\n",
    "plt.rcParams.update({\"font.size\": 30})\n",
    "figure, axes = plt.subplots(1, 2, sharex=True)\n",
    "\n",
    "\n",
    "for mode in [\"full\", \"KNN-1000\", \"KNN-10000\", \"random\"]:\n",
    "    for axis_index, correct_mode in enumerate([\"correct\", \"incorrect\"]):\n",
    "\n",
    "        if mode in [\"full\", \"KNN-1000\", \"KNN-10000\"]:\n",
    "            tags = [\"helpful\", \"harmful\"]\n",
    "\n",
    "        elif mode in [\"random\"]:\n",
    "            tags = [\"neutral\", \"entailment\", \"contradiction\"]\n",
    "\n",
    "        else:\n",
    "            raise ValueError\n",
    "\n",
    "        for tag in tags:\n",
    "            Xs = [0]# [0, 1, 100, 10000]\n",
    "            Ys_mean = [original_losses_mean[(\"original\", correct_mode)]]\n",
    "            Ys_std_min = [\n",
    "                original_losses_mean[(\"original\", correct_mode)] -\n",
    "                original_losses_std[(\"original\", correct_mode)]\n",
    "            ]\n",
    "            Ys_std_max = [\n",
    "                original_losses_mean[(\"original\", correct_mode)] +\n",
    "                original_losses_std[(\"original\", correct_mode)]\n",
    "            ]\n",
    "            for num_data_points_to_remove in NUM_DATAPOINTS_TO_REMOVE_CHOICES:\n",
    "                Xs.append(num_data_points_to_remove)\n",
    "                Ys_mean.append(\n",
    "                    new_losses_mean[(mode, correct_mode, tag, num_data_points_to_remove)]\n",
    "                )\n",
    "\n",
    "                Ys_std_min.append(\n",
    "                    new_losses_mean[(mode, correct_mode, tag, num_data_points_to_remove)] -\n",
    "                    new_losses_std[(mode, correct_mode, tag, num_data_points_to_remove)]\n",
    "                )\n",
    "                Ys_std_max.append(\n",
    "                    new_losses_mean[(mode, correct_mode, tag, num_data_points_to_remove)] +\n",
    "                    new_losses_std[(mode, correct_mode, tag, num_data_points_to_remove)]\n",
    "                )\n",
    "\n",
    "            axes[axis_index].plot(\n",
    "                Xs, Ys_mean,\n",
    "                linestyle=(\"-\" if mode != \"random\" else \"--\"),\n",
    "                marker=\"o\",\n",
    "                label=f\"{mode}-{tag}\",\n",
    "                linewidth=3,\n",
    "                markersize=10,\n",
    "                color={\n",
    "                    (\"full\", \"helpful\"): \"#407A78\",\n",
    "                    (\"KNN-10000\", \"helpful\"): \"#7CA6A0\",\n",
    "                    (\"KNN-1000\", \"helpful\"): \"#9FBDB6\",\n",
    "                    (\"full\", \"harmful\"): \"#EBA788\",\n",
    "                    (\"KNN-10000\", \"harmful\"): \"#FAC8B1\",\n",
    "                    (\"KNN-1000\", \"harmful\"): \"#F5DAC9\",\n",
    "                    (\"random\", \"neutral\"): \"lightgrey\",\n",
    "                    (\"random\", \"entailment\"): \"lightgrey\",\n",
    "                    (\"random\", \"contradiction\"): \"lightgrey\",\n",
    "                }[(mode, tag)])\n",
    "            axes[axis_index].legend()\n",
    "            axes[axis_index].set_xscale(\"symlog\")\n",
    "            # axes[axis_index].set_yscale(\"symlog\")\n",
    "            axes[axis_index].set_xlabel(\"#Data-points Removed\")\n",
    "            axes[axis_index].set_ylabel(\"Change in Loss\")\n",
    "            axes[axis_index].set_title(f\"{correct_mode.capitalize()}\")\n",
    "#             if correct_mode == \"correct\":\n",
    "#                 axes[axis_index].set_ylim(top=0.25, bottom=-0.25)\n",
    "#             else:\n",
    "#                 axes[axis_index].set_ylim(top=0.75, bottom=-0.75)\n",
    "\n",
    "figure.savefig(\"./20201205-retraining-with-legend.pdf\")"
   ]
  },
  {
   "cell_type": "code",
   "execution_count": 8,
   "metadata": {},
   "outputs": [],
   "source": [
    "# for column, correct_mode in enumerate([\"correct\", \"incorrect\"]):\n",
    "#     for mode in [\"full\", \"KNN-1000\", \"KNN-10000\"]:\n",
    "#         for row, tag in enumerate([\"helpful\", \"harmful\"]):\n",
    "\n",
    "#     for random_label in [\"neutral\", \"entailment\", \"contradiction\"]:\n",
    "#         Xs = [0, 1, 2, 3]# [0, 1, 100, 10000]\n",
    "#         Ys_mean = [\n",
    "#             original_losses_mean[(\"original\", correct_mode)]\n",
    "#         ] + [\n",
    "#             losses_mean[(\"random\", correct_mode, random_label, n)] for n in [1, 100, 10000]\n",
    "#         ]\n",
    "\n",
    "#         Ys_std_min = [\n",
    "#             original_losses_mean[(\"original\", correct_mode)] -\n",
    "#             original_losses_std[(\"original\", correct_mode)]\n",
    "#         ] + [\n",
    "#             losses_mean[(\"random\", correct_mode, random_label, n)] -\n",
    "#             losses_std[(\"random\", correct_mode, random_label, n)]\n",
    "#             for n in [1, 100, 10000]\n",
    "#         ]\n",
    "\n",
    "#         Ys_std_max = [\n",
    "#             original_losses_mean[(\"original\", correct_mode)] +\n",
    "#             original_losses_std[(\"original\", correct_mode)]\n",
    "#         ] + [\n",
    "#             losses_mean[(\"random\", correct_mode, random_label, n)] +\n",
    "#             losses_std[(\"random\", correct_mode, random_label, n)]\n",
    "#             for n in [1, 100, 10000]\n",
    "#         ]\n",
    "#         axes[column].plot(Xs, Ys_mean, label=f\"{random_label}\", linestyle=\"--\")\n",
    "#         axes[column].legend()\n",
    "#         if correct_mode == \"correct\":\n",
    "#             axes[column].set_ylim(top=0.2, bottom=-0.25)\n",
    "#         else:\n",
    "#             axes[column].set_ylim(top=0.25, bottom=-0.5)\n",
    "#         axes[column].set_title(f\"{correct_mode}\")"
   ]
  },
  {
   "cell_type": "code",
   "execution_count": 145,
   "metadata": {},
   "outputs": [],
   "source": [
    "# for mode in [\"full\", \"KNN-1000\", \"KNN-10000\"]:\n",
    "#     Xs = [0, 1, 100, 10000]\n",
    "#     Ys = [\n",
    "#         original_losses_mean[(\"original\", \"correct\")]\n",
    "#     ] + [\n",
    "#         losses_mean[(mode, \"incorrect\", \"harmful\", n)] for n in [1, 100, 10000]\n",
    "#     ]\n",
    "#     plt.plot(Xs, Ys, label=mode)\n",
    "\n",
    "# plt.legend()\n",
    "# plt.xscale(\"log\")"
   ]
  },
  {
   "cell_type": "code",
   "execution_count": null,
   "metadata": {},
   "outputs": [],
   "source": []
  },
  {
   "cell_type": "code",
   "execution_count": null,
   "metadata": {},
   "outputs": [],
   "source": []
  },
  {
   "cell_type": "code",
   "execution_count": null,
   "metadata": {},
   "outputs": [],
   "source": []
  },
  {
   "cell_type": "code",
   "execution_count": null,
   "metadata": {},
   "outputs": [],
   "source": []
  },
  {
   "cell_type": "code",
   "execution_count": null,
   "metadata": {},
   "outputs": [],
   "source": []
  },
  {
   "cell_type": "code",
   "execution_count": null,
   "metadata": {},
   "outputs": [],
   "source": []
  }
 ],
 "metadata": {
  "kernelspec": {
   "display_name": "Python 3",
   "language": "python",
   "name": "python3"
  },
  "language_info": {
   "codemirror_mode": {
    "name": "ipython",
    "version": 3
   },
   "file_extension": ".py",
   "mimetype": "text/x-python",
   "name": "python",
   "nbconvert_exporter": "python",
   "pygments_lexer": "ipython3",
   "version": "3.7.7"
  }
 },
 "nbformat": 4,
 "nbformat_minor": 4
}
